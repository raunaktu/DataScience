{
 "cells": [
  {
   "cell_type": "code",
   "execution_count": 2,
   "id": "a0b42819-7fec-460d-8d10-a5a386a0759e",
   "metadata": {},
   "outputs": [
    {
     "name": "stdin",
     "output_type": "stream",
     "text": [
      "Enter the principal amount in NPR:  1\n",
      "Enter the yearly rate of interest:  2\n",
      "Enter the time in year:  3\n"
     ]
    },
    {
     "name": "stdout",
     "output_type": "stream",
     "text": [
      "Your interest is 0.06\n"
     ]
    }
   ],
   "source": [
    "# Write a program to calculate the simple interest\n",
    "def inte_pro(p,t,r):\n",
    "    i = (p*t*r)/100\n",
    "    print(f'Your interest is {i}')\n",
    "p=(int(input('Enter the principal amount in NPR: ')))\n",
    "r=(int(input('Enter the yearly rate of interest: ')))\n",
    "t=(int(input('Enter the time in year: ')))\n",
    "inte_pro(p,t,r)"
   ]
  },
  {
   "cell_type": "code",
   "execution_count": 4,
   "id": "0298c8aa-b879-4596-a8fa-0cf8a48d8598",
   "metadata": {},
   "outputs": [
    {
     "name": "stdout",
     "output_type": "stream",
     "text": [
      "Nothing specified, nothing added.\n",
      "\u001b[33mhint: Maybe you wanted to say 'git add .'?\u001b[m\n",
      "\u001b[33mhint: Turn this message off by running\u001b[m\n",
      "\u001b[33mhint: \"git config advice.addEmptyPathspec false\"\u001b[m\n"
     ]
    }
   ],
   "source": [
    "! git add"
   ]
  },
  {
   "cell_type": "code",
   "execution_count": null,
   "id": "71498197-6afe-4a26-b4cd-790e4060f726",
   "metadata": {},
   "outputs": [],
   "source": []
  }
 ],
 "metadata": {
  "kernelspec": {
   "display_name": "Python 3 (ipykernel)",
   "language": "python",
   "name": "python3"
  },
  "language_info": {
   "codemirror_mode": {
    "name": "ipython",
    "version": 3
   },
   "file_extension": ".py",
   "mimetype": "text/x-python",
   "name": "python",
   "nbconvert_exporter": "python",
   "pygments_lexer": "ipython3",
   "version": "3.12.4"
  }
 },
 "nbformat": 4,
 "nbformat_minor": 5
}
