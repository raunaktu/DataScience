{
 "cells": [
  {
   "cell_type": "code",
   "execution_count": 10,
   "id": "da5338e9-05f1-45cb-9673-ba6c8dff1465",
   "metadata": {},
   "outputs": [],
   "source": [
    "import numpy as  np"
   ]
  },
  {
   "cell_type": "code",
   "execution_count": 14,
   "id": "fce7ba0a-961b-4858-a6dd-709fd0c9ba0a",
   "metadata": {},
   "outputs": [],
   "source": [
    "arr1 = numpy.array([34,45,67,89])"
   ]
  },
  {
   "cell_type": "code",
   "execution_count": null,
   "id": "8909599a-e857-45c3-95a2-1eb8211d5e51",
   "metadata": {},
   "outputs": [],
   "source": []
  },
  {
   "cell_type": "code",
   "execution_count": 16,
   "id": "82a7f63f-4091-4c4e-96fc-71edefb43817",
   "metadata": {},
   "outputs": [
    {
     "data": {
      "text/plain": [
       "array([34, 45, 67, 89])"
      ]
     },
     "execution_count": 16,
     "metadata": {},
     "output_type": "execute_result"
    }
   ],
   "source": [
    "arr1"
   ]
  },
  {
   "cell_type": "code",
   "execution_count": 20,
   "id": "b68407a6-1aa0-458d-a425-dd63ac781775",
   "metadata": {},
   "outputs": [],
   "source": [
    "arr2 = np.array([34,45,67,89])"
   ]
  },
  {
   "cell_type": "code",
   "execution_count": 22,
   "id": "eb9cab3d-9938-4e74-8339-ccae47434369",
   "metadata": {},
   "outputs": [
    {
     "data": {
      "text/plain": [
       "array([34, 45, 67, 89])"
      ]
     },
     "execution_count": 22,
     "metadata": {},
     "output_type": "execute_result"
    }
   ],
   "source": [
    "arr2"
   ]
  },
  {
   "cell_type": "code",
   "execution_count": 24,
   "id": "5fa16623-7259-4473-8730-a5ba90b877af",
   "metadata": {},
   "outputs": [
    {
     "data": {
      "text/plain": [
       "'1.26.4'"
      ]
     },
     "execution_count": 24,
     "metadata": {},
     "output_type": "execute_result"
    }
   ],
   "source": [
    "np.__version__"
   ]
  },
  {
   "cell_type": "code",
   "execution_count": 34,
   "id": "4d7e02d3-a5be-40af-accb-f30cc7186ae0",
   "metadata": {},
   "outputs": [],
   "source": [
    "arr3 = numpy.array({34,45,67,89})"
   ]
  },
  {
   "cell_type": "code",
   "execution_count": 36,
   "id": "8d781b97-b00d-409c-84de-8f75dd2febdd",
   "metadata": {},
   "outputs": [
    {
     "data": {
      "text/plain": [
       "array({89, 34, 67, 45}, dtype=object)"
      ]
     },
     "execution_count": 36,
     "metadata": {},
     "output_type": "execute_result"
    }
   ],
   "source": [
    "arr3"
   ]
  },
  {
   "cell_type": "code",
   "execution_count": 44,
   "id": "eb34bcc6-b2e9-4e58-b877-312a8526f30c",
   "metadata": {},
   "outputs": [
    {
     "data": {
      "text/plain": [
       "{34, 45, 67, 89}"
      ]
     },
     "execution_count": 44,
     "metadata": {},
     "output_type": "execute_result"
    }
   ],
   "source": [
    "arr3.sum()"
   ]
  },
  {
   "cell_type": "code",
   "execution_count": 48,
   "id": "b2e97f12-78e5-45a2-abe1-2dace900b017",
   "metadata": {},
   "outputs": [
    {
     "data": {
      "text/plain": [
       "dtype('O')"
      ]
     },
     "execution_count": 48,
     "metadata": {},
     "output_type": "execute_result"
    }
   ],
   "source": [
    "arr3.dtype"
   ]
  },
  {
   "cell_type": "code",
   "execution_count": 38,
   "id": "9ff3b72d-7102-4861-a710-30483a9d55f3",
   "metadata": {},
   "outputs": [],
   "source": [
    "arr4 = numpy.array((34,45,67,89))"
   ]
  },
  {
   "cell_type": "code",
   "execution_count": 40,
   "id": "0d4fb29c-9cb5-4a18-90e0-1a0b7f10673e",
   "metadata": {},
   "outputs": [
    {
     "data": {
      "text/plain": [
       "array([34, 45, 67, 89])"
      ]
     },
     "execution_count": 40,
     "metadata": {},
     "output_type": "execute_result"
    }
   ],
   "source": [
    "arr4"
   ]
  },
  {
   "cell_type": "code",
   "execution_count": 42,
   "id": "b0f411db-65c7-4e15-9b98-6991a11d8c61",
   "metadata": {},
   "outputs": [
    {
     "data": {
      "text/plain": [
       "235"
      ]
     },
     "execution_count": 42,
     "metadata": {},
     "output_type": "execute_result"
    }
   ],
   "source": [
    "arr4.sum()"
   ]
  },
  {
   "cell_type": "code",
   "execution_count": 46,
   "id": "264a77dc-37b1-4c17-9f6a-e43ab0650ab3",
   "metadata": {},
   "outputs": [
    {
     "data": {
      "text/plain": [
       "dtype('int64')"
      ]
     },
     "execution_count": 46,
     "metadata": {},
     "output_type": "execute_result"
    }
   ],
   "source": [
    "arr4.dtype"
   ]
  },
  {
   "cell_type": "markdown",
   "id": "18317705-20ed-4374-92bc-9026403899a9",
   "metadata": {},
   "source": [
    "# Dimensions in numpy"
   ]
  },
  {
   "cell_type": "code",
   "execution_count": 52,
   "id": "c2cf4ce3-ca1f-457c-85e3-8b871d5b7fde",
   "metadata": {},
   "outputs": [],
   "source": [
    "a=np.array(45)"
   ]
  },
  {
   "cell_type": "code",
   "execution_count": 54,
   "id": "d0802361-2adb-4b26-8ce2-3ce3ceb12d56",
   "metadata": {},
   "outputs": [],
   "source": [
    "b=np.array((45,65))"
   ]
  },
  {
   "cell_type": "code",
   "execution_count": 56,
   "id": "ee04a81c-ff52-4375-bd61-d0461f3ccd45",
   "metadata": {},
   "outputs": [],
   "source": [
    "c=np.array(((45,60),(78,90)))"
   ]
  },
  {
   "cell_type": "code",
   "execution_count": 60,
   "id": "f8b94a75-0ec1-4663-85ac-865c43e58d00",
   "metadata": {},
   "outputs": [],
   "source": [
    "d=np.array((((45,60),(78,90)),((40,40),(80,80))))"
   ]
  },
  {
   "cell_type": "code",
   "execution_count": 78,
   "id": "49a71bfd-7f80-4ffb-918e-f96a76afa7dd",
   "metadata": {},
   "outputs": [
    {
     "data": {
      "text/plain": [
       "0"
      ]
     },
     "execution_count": 78,
     "metadata": {},
     "output_type": "execute_result"
    }
   ],
   "source": [
    "#Dimension = ndim\n",
    "a.ndim"
   ]
  },
  {
   "cell_type": "code",
   "execution_count": 72,
   "id": "ab59c582-609f-417d-87c7-e09c7623bf1a",
   "metadata": {},
   "outputs": [
    {
     "data": {
      "text/plain": [
       "1"
      ]
     },
     "execution_count": 72,
     "metadata": {},
     "output_type": "execute_result"
    }
   ],
   "source": [
    "b.ndim"
   ]
  },
  {
   "cell_type": "code",
   "execution_count": 74,
   "id": "ff9c5d91-b414-4da8-94c3-8ec70a3a1864",
   "metadata": {},
   "outputs": [
    {
     "data": {
      "text/plain": [
       "2"
      ]
     },
     "execution_count": 74,
     "metadata": {},
     "output_type": "execute_result"
    }
   ],
   "source": [
    "c.ndim"
   ]
  },
  {
   "cell_type": "code",
   "execution_count": 76,
   "id": "ccecce15-40a9-4786-b51b-3e40e690081d",
   "metadata": {},
   "outputs": [
    {
     "data": {
      "text/plain": [
       "3"
      ]
     },
     "execution_count": 76,
     "metadata": {},
     "output_type": "execute_result"
    }
   ],
   "source": [
    "d.ndim"
   ]
  },
  {
   "cell_type": "code",
   "execution_count": 82,
   "id": "09327a5d-f93a-4656-b287-0e1533797533",
   "metadata": {},
   "outputs": [
    {
     "name": "stdout",
     "output_type": "stream",
     "text": [
      "45\n"
     ]
    }
   ],
   "source": [
    "print(a)"
   ]
  },
  {
   "cell_type": "code",
   "execution_count": 84,
   "id": "e4e5320f-44d1-41c0-860f-b89a0a8b1620",
   "metadata": {},
   "outputs": [
    {
     "name": "stdout",
     "output_type": "stream",
     "text": [
      "[45 65]\n"
     ]
    }
   ],
   "source": [
    "print(b)"
   ]
  },
  {
   "cell_type": "code",
   "execution_count": 86,
   "id": "786a2bcc-e204-4c06-a673-6bc67233d130",
   "metadata": {},
   "outputs": [
    {
     "name": "stdout",
     "output_type": "stream",
     "text": [
      "[[45 60]\n",
      " [78 90]]\n"
     ]
    }
   ],
   "source": [
    "print(c)"
   ]
  },
  {
   "cell_type": "code",
   "execution_count": 88,
   "id": "0fbc602a-0815-4770-a787-6cf0daf35ab2",
   "metadata": {},
   "outputs": [
    {
     "name": "stdout",
     "output_type": "stream",
     "text": [
      "[[[45 60]\n",
      "  [78 90]]\n",
      "\n",
      " [[40 40]\n",
      "  [80 80]]]\n"
     ]
    }
   ],
   "source": [
    "print(d)"
   ]
  },
  {
   "cell_type": "code",
   "execution_count": 92,
   "id": "9518fcfe-df4a-4e40-8994-782cebf4e959",
   "metadata": {},
   "outputs": [],
   "source": [
    "e=np.array((45,65),ndmin=5)"
   ]
  },
  {
   "cell_type": "code",
   "execution_count": 94,
   "id": "55dfdd8c-efd2-41a0-8023-159edf6026eb",
   "metadata": {},
   "outputs": [
    {
     "data": {
      "text/plain": [
       "array([[[[[45, 65]]]]])"
      ]
     },
     "execution_count": 94,
     "metadata": {},
     "output_type": "execute_result"
    }
   ],
   "source": [
    "e"
   ]
  },
  {
   "cell_type": "code",
   "execution_count": 96,
   "id": "6fa43f04-8ced-4313-b15a-d408fe4bbb59",
   "metadata": {},
   "outputs": [
    {
     "name": "stdout",
     "output_type": "stream",
     "text": [
      "[[[[[45 65]]]]]\n"
     ]
    }
   ],
   "source": [
    "print(e)"
   ]
  },
  {
   "cell_type": "code",
   "execution_count": null,
   "id": "3f4c2268-bd4b-4eb0-b0d6-d5edc5dc6871",
   "metadata": {},
   "outputs": [],
   "source": []
  }
 ],
 "metadata": {
  "kernelspec": {
   "display_name": "Python 3 (ipykernel)",
   "language": "python",
   "name": "python3"
  },
  "language_info": {
   "codemirror_mode": {
    "name": "ipython",
    "version": 3
   },
   "file_extension": ".py",
   "mimetype": "text/x-python",
   "name": "python",
   "nbconvert_exporter": "python",
   "pygments_lexer": "ipython3",
   "version": "3.12.4"
  }
 },
 "nbformat": 4,
 "nbformat_minor": 5
}
