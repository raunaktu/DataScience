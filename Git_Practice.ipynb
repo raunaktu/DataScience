{
 "cells": [
  {
   "cell_type": "code",
   "execution_count": 2,
   "id": "a0b42819-7fec-460d-8d10-a5a386a0759e",
   "metadata": {},
   "outputs": [
    {
     "name": "stdin",
     "output_type": "stream",
     "text": [
      "Enter the principal amount in NPR:  1\n",
      "Enter the yearly rate of interest:  2\n",
      "Enter the time in year:  3\n"
     ]
    },
    {
     "name": "stdout",
     "output_type": "stream",
     "text": [
      "Your interest is 0.06\n"
     ]
    }
   ],
   "source": [
    "# Write a program to calculate the simple interest\n",
    "def inte_pro(p,t,r):\n",
    "    i = (p*t*r)/100\n",
    "    print(f'Your interest is {i}')\n",
    "p=(int(input('Enter the principal amount in NPR: ')))\n",
    "r=(int(input('Enter the yearly rate of interest: ')))\n",
    "t=(int(input('Enter the time in year: ')))\n",
    "inte_pro(p,t,r)"
   ]
  },
  {
   "cell_type": "code",
   "execution_count": 8,
   "id": "0298c8aa-b879-4596-a8fa-0cf8a48d8598",
   "metadata": {},
   "outputs": [],
   "source": [
    "! git add ."
   ]
  },
  {
   "cell_type": "code",
   "execution_count": 10,
   "id": "71498197-6afe-4a26-b4cd-790e4060f726",
   "metadata": {},
   "outputs": [
    {
     "name": "stdout",
     "output_type": "stream",
     "text": [
      "[main ff4caa5] Git Practice Commit\n",
      " 2 files changed, 176 insertions(+)\n",
      " create mode 100644 .ipynb_checkpoints/Git_Practice-checkpoint.ipynb\n",
      " create mode 100644 Git_Practice.ipynb\n"
     ]
    }
   ],
   "source": [
    "! git commit -m 'Git Practice Commit'"
   ]
  },
  {
   "cell_type": "code",
   "execution_count": 12,
   "id": "2de32df9-3cc1-4b8e-b261-adef0035df80",
   "metadata": {},
   "outputs": [
    {
     "name": "stdout",
     "output_type": "stream",
     "text": [
      "On branch main\n",
      "Your branch is ahead of 'origin/main' by 1 commit.\n",
      "  (use \"git push\" to publish your local commits)\n",
      "\n",
      "nothing to commit, working tree clean\n"
     ]
    }
   ],
   "source": [
    "! git status"
   ]
  },
  {
   "cell_type": "code",
   "execution_count": null,
   "id": "181eebd5-7c72-4dfa-9edf-b6153e95f1fd",
   "metadata": {},
   "outputs": [
    {
     "name": "stdout",
     "output_type": "stream",
     "text": [
      "Enter passphrase for key '/Users/raunaktuladhar/.ssh/id_ed25519': "
     ]
    }
   ],
   "source": []
  },
  {
   "cell_type": "code",
   "execution_count": null,
   "id": "827869ed-9ca0-43fb-aed5-85b70044cf07",
   "metadata": {},
   "outputs": [],
   "source": [
    "! git status"
   ]
  },
  {
   "cell_type": "code",
   "execution_count": null,
   "id": "ec0d9e80-a53f-403f-8aa4-0ecf7f080396",
   "metadata": {},
   "outputs": [],
   "source": [
    "! git push -u origin main"
   ]
  },
  {
   "cell_type": "code",
   "execution_count": null,
   "id": "def14432-9650-449d-8523-d8d0811c576b",
   "metadata": {},
   "outputs": [],
   "source": [
    "! git status"
   ]
  },
  {
   "cell_type": "code",
   "execution_count": 1,
   "id": "e730670e-fe2f-43bc-b841-15722fe70af0",
   "metadata": {},
   "outputs": [
    {
     "name": "stdout",
     "output_type": "stream",
     "text": [
      "On branch main\n",
      "Your branch is ahead of 'origin/main' by 1 commit.\n",
      "  (use \"git push\" to publish your local commits)\n",
      "\n",
      "Changes not staged for commit:\n",
      "  (use \"git add <file>...\" to update what will be committed)\n",
      "  (use \"git restore <file>...\" to discard changes in working directory)\n",
      "\t\u001b[31mmodified:   Git_Practice.ipynb\u001b[m\n",
      "\n",
      "no changes added to commit (use \"git add\" and/or \"git commit -a\")\n"
     ]
    }
   ],
   "source": [
    "! git status"
   ]
  },
  {
   "cell_type": "code",
   "execution_count": null,
   "id": "e9192572-2ae6-4970-85a5-7abd9e15f4bb",
   "metadata": {},
   "outputs": [
    {
     "name": "stdout",
     "output_type": "stream",
     "text": [
      "Enter passphrase for key '/Users/raunaktuladhar/.ssh/id_ed25519': "
     ]
    }
   ],
   "source": [
    "! git push -u origin main "
   ]
  },
  {
   "cell_type": "code",
   "execution_count": 1,
   "id": "0f837fa1-6ecb-4c4d-9e0c-23b9e2d55539",
   "metadata": {},
   "outputs": [
    {
     "name": "stdout",
     "output_type": "stream",
     "text": [
      "On branch main\n",
      "Your branch is ahead of 'origin/main' by 1 commit.\n",
      "  (use \"git push\" to publish your local commits)\n",
      "\n",
      "Changes not staged for commit:\n",
      "  (use \"git add <file>...\" to update what will be committed)\n",
      "  (use \"git restore <file>...\" to discard changes in working directory)\n",
      "\t\u001b[31mmodified:   Git_Practice.ipynb\u001b[m\n",
      "\n",
      "no changes added to commit (use \"git add\" and/or \"git commit -a\")\n"
     ]
    }
   ],
   "source": [
    "! git status"
   ]
  },
  {
   "cell_type": "code",
   "execution_count": 3,
   "id": "d1757b8f-3d7f-4aed-876b-bd792cff4092",
   "metadata": {},
   "outputs": [
    {
     "name": "stdout",
     "output_type": "stream",
     "text": [
      "error: src refspec raunak.tu@gmail.com does not match any\n",
      "\u001b[31merror: failed to push some refs to 'github.com:raunaktu/DataScience.git'\n",
      "\u001b[m"
     ]
    }
   ],
   "source": [
    "! git push -u origin main"
   ]
  },
  {
   "cell_type": "code",
   "execution_count": null,
   "id": "14f70aa4-051e-4d40-84a7-7cc515cf231e",
   "metadata": {},
   "outputs": [],
   "source": []
  }
 ],
 "metadata": {
  "kernelspec": {
   "display_name": "Python 3 (ipykernel)",
   "language": "python",
   "name": "python3"
  },
  "language_info": {
   "codemirror_mode": {
    "name": "ipython",
    "version": 3
   },
   "file_extension": ".py",
   "mimetype": "text/x-python",
   "name": "python",
   "nbconvert_exporter": "python",
   "pygments_lexer": "ipython3",
   "version": "3.12.4"
  }
 },
 "nbformat": 4,
 "nbformat_minor": 5
}
