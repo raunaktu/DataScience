{
 "cells": [
  {
   "cell_type": "markdown",
   "id": "d4ce3c8f-092a-4bfa-8c18-2618936a8539",
   "metadata": {},
   "source": [
    "# FUNCTIONS"
   ]
  },
  {
   "cell_type": "code",
   "execution_count": 4,
   "id": "a0f5a2c8-d233-4cf4-9f7e-b89508af9587",
   "metadata": {},
   "outputs": [
    {
     "name": "stdout",
     "output_type": "stream",
     "text": [
      "The function is working\n"
     ]
    }
   ],
   "source": [
    "# FUNCTION LIKE Y=MX+C\n",
    "\n",
    "def add():\n",
    "    print('The function is working')\n",
    "add()"
   ]
  },
  {
   "cell_type": "code",
   "execution_count": 6,
   "id": "02b33ec1-d9ae-4f8c-a1d8-05831476e7df",
   "metadata": {},
   "outputs": [
    {
     "name": "stdout",
     "output_type": "stream",
     "text": [
      "55\n"
     ]
    }
   ],
   "source": [
    "def test(a,b,c,d,e):\n",
    "    x=a+b-c\n",
    "    y=x+d+e\n",
    "    print(y)\n",
    "test(45,60,70,10,10)"
   ]
  },
  {
   "cell_type": "code",
   "execution_count": 8,
   "id": "a4be7783-b904-46b2-a639-b928e33eeb55",
   "metadata": {},
   "outputs": [
    {
     "name": "stdout",
     "output_type": "stream",
     "text": [
      "330\n"
     ]
    }
   ],
   "source": [
    "test(100,200,250,130,150)"
   ]
  },
  {
   "cell_type": "markdown",
   "id": "2122d3b1-90a7-4764-af8e-bed1233bb177",
   "metadata": {},
   "source": [
    "# Argument and Parameter"
   ]
  },
  {
   "cell_type": "code",
   "execution_count": 13,
   "id": "dc3b9912-181c-4bbf-9ad2-1d0834fbdd4e",
   "metadata": {},
   "outputs": [
    {
     "name": "stdout",
     "output_type": "stream",
     "text": [
      "76\n"
     ]
    }
   ],
   "source": [
    "def diff(x,y): #argument\n",
    "    print(x-y)\n",
    "diff(80,4) # parameter"
   ]
  },
  {
   "cell_type": "markdown",
   "id": "c5258cfe-7573-48da-af81-fcc431f9b937",
   "metadata": {},
   "source": [
    "### Function to pass any number of parameter using tuple"
   ]
  },
  {
   "cell_type": "code",
   "execution_count": 22,
   "id": "42585f4a-601c-4c73-8f73-110c72eb3d69",
   "metadata": {},
   "outputs": [
    {
     "name": "stdout",
     "output_type": "stream",
     "text": [
      "80\n"
     ]
    }
   ],
   "source": [
    "def test(*val):\n",
    "    x=val[0]-val[1]\n",
    "    y=x-val[2]+val[3]+val[4]\n",
    "    print(y)\n",
    "test(40,50,60,70,80)"
   ]
  },
  {
   "cell_type": "code",
   "execution_count": 18,
   "id": "097b1752-3c80-4da7-aa42-23c260bc24fe",
   "metadata": {},
   "outputs": [
    {
     "name": "stdout",
     "output_type": "stream",
     "text": [
      "40\n",
      "50\n",
      "60\n"
     ]
    }
   ],
   "source": [
    "def test(*val):\n",
    "    print(val[0])\n",
    "    print(val[1])\n",
    "    print(val[2])\n",
    "test(40,50,60)"
   ]
  },
  {
   "cell_type": "code",
   "execution_count": 33,
   "id": "8b450cf5-f3d0-4a00-95f2-a765cdd91529",
   "metadata": {},
   "outputs": [
    {
     "name": "stdout",
     "output_type": "stream",
     "text": [
      "I live in Kathmandu. I am udit and my age is 27\n"
     ]
    }
   ],
   "source": [
    "#Set default value in parameter\n",
    "def status(city='Kathmandu', name='udit', age=27):\n",
    "    print(f'I live in {city}. I am {name} and my age is {age}')\n",
    "status()"
   ]
  },
  {
   "cell_type": "code",
   "execution_count": 30,
   "id": "5e0b736a-1c86-48e9-bcd1-4348b960ff05",
   "metadata": {},
   "outputs": [
    {
     "name": "stdout",
     "output_type": "stream",
     "text": [
      "I live in Birgunj. I am Hari and my age is 30\n"
     ]
    }
   ],
   "source": [
    "status('Birgunj', 'Hari', 30)"
   ]
  },
  {
   "cell_type": "code",
   "execution_count": 35,
   "id": "b2817dfa-9e74-477d-abfa-4779814561f3",
   "metadata": {},
   "outputs": [
    {
     "name": "stdout",
     "output_type": "stream",
     "text": [
      "I live in Birgunj. I am Hari and my age is 27\n"
     ]
    }
   ],
   "source": [
    "status('Birgunj', 'Hari')"
   ]
  },
  {
   "cell_type": "code",
   "execution_count": 43,
   "id": "faaa1c0a-692e-4163-8abe-766593a875b8",
   "metadata": {},
   "outputs": [
    {
     "name": "stdout",
     "output_type": "stream",
     "text": [
      "I live in Jhapa. I am Ramu and my age is 27\n"
     ]
    }
   ],
   "source": [
    "# example where we pass parameter randomly without in sequence\n",
    "def status(city, name, age=27):\n",
    "    print(f'I live in {city}. I am {name} and my age is {age}')\n",
    "status(name='Ramu',city='Jhapa')"
   ]
  },
  {
   "cell_type": "markdown",
   "id": "0fe91a62-79a2-4e43-a31a-f91f687257dd",
   "metadata": {},
   "source": [
    "### Function to pass any number of parameter using dictionary"
   ]
  },
  {
   "cell_type": "code",
   "execution_count": 49,
   "id": "5a4e1d13-d71e-4cd0-8c8f-4ae1ed120905",
   "metadata": {},
   "outputs": [
    {
     "name": "stdout",
     "output_type": "stream",
     "text": [
      "udit 27 Kathmandu\n"
     ]
    }
   ],
   "source": [
    "def test(**val):\n",
    "    print(val['name'],val['age'],val['city'])\n",
    "test(name='udit',age=27, city='Kathmandu')"
   ]
  },
  {
   "cell_type": "code",
   "execution_count": 51,
   "id": "39e9353b-032f-407d-a798-bc5f419cbcc2",
   "metadata": {},
   "outputs": [
    {
     "name": "stdout",
     "output_type": "stream",
     "text": [
      "udit 27 Kathmandu\n"
     ]
    }
   ],
   "source": [
    "def test(**val):\n",
    "    print(val['name'],val['age'],val['city'])\n",
    "test(name='udit',age=27, city='Kathmandu',hobbies='Hiking')"
   ]
  },
  {
   "cell_type": "code",
   "execution_count": 59,
   "id": "a98046e6-6c78-43d2-8e9b-f833f8e51ffb",
   "metadata": {},
   "outputs": [
    {
     "name": "stdout",
     "output_type": "stream",
     "text": [
      "1\n",
      "2\n",
      "3\n"
     ]
    }
   ],
   "source": [
    "def test1(*args):\n",
    "    for i in args:\n",
    "        print(i)\n",
    "test1(1,2,3)"
   ]
  },
  {
   "cell_type": "code",
   "execution_count": 61,
   "id": "ffb1c8eb-83e4-48b4-9a6e-8905b5ca31e8",
   "metadata": {},
   "outputs": [
    {
     "name": "stdout",
     "output_type": "stream",
     "text": [
      "1\n",
      "2\n",
      "3\n",
      "4\n"
     ]
    }
   ],
   "source": [
    "test1(1,2,3,4)"
   ]
  },
  {
   "cell_type": "code",
   "execution_count": 67,
   "id": "75ece1ae-27c6-4957-8aaa-33e75b83b3cc",
   "metadata": {},
   "outputs": [
    {
     "name": "stdout",
     "output_type": "stream",
     "text": [
      "name\n",
      "age\n",
      "city\n",
      "hobbies\n"
     ]
    }
   ],
   "source": [
    "def test2(**args):\n",
    "    for i in args:\n",
    "        print(i)\n",
    "test2(name='udit',age=27, city='Kathmandu',hobbies='Hiking')"
   ]
  },
  {
   "cell_type": "code",
   "execution_count": 69,
   "id": "a3f6abf6-b316-4d96-bfb6-94eb3304f70d",
   "metadata": {},
   "outputs": [
    {
     "name": "stdout",
     "output_type": "stream",
     "text": [
      "name\n",
      "age\n",
      "city\n",
      "hobbies\n",
      "wife\n"
     ]
    }
   ],
   "source": [
    "test2(name='udit',age=27, city='Kathmandu',hobbies='Hiking', wife='none')"
   ]
  },
  {
   "cell_type": "code",
   "execution_count": 77,
   "id": "87bf2d9e-0153-4e16-a2cd-401d0adc8ae3",
   "metadata": {},
   "outputs": [
    {
     "name": "stdout",
     "output_type": "stream",
     "text": [
      "name udit\n",
      "age 27\n",
      "city Kathmandu\n",
      "hobbies Hiking\n"
     ]
    }
   ],
   "source": [
    "def test3(**args):\n",
    "    for i,j in args.items():\n",
    "        print(i,j)\n",
    "test3(name='udit',age=27, city='Kathmandu',hobbies='Hiking')"
   ]
  },
  {
   "cell_type": "code",
   "execution_count": 81,
   "id": "e58817bb-667c-423d-a1f6-add98b7b2e72",
   "metadata": {},
   "outputs": [
    {
     "name": "stdout",
     "output_type": "stream",
     "text": [
      "name\n",
      "age\n",
      "city\n"
     ]
    }
   ],
   "source": [
    "dic={'name':'Udit', 'age':30, 'city':'Butwal'}\n",
    "for i in dic:\n",
    "    print(i)"
   ]
  },
  {
   "cell_type": "code",
   "execution_count": 85,
   "id": "0bbd03d7-e6e6-432a-9e58-ee3c26faa24c",
   "metadata": {},
   "outputs": [
    {
     "name": "stdout",
     "output_type": "stream",
     "text": [
      "The key is name and the value is Udit\n",
      "The key is age and the value is 30\n",
      "The key is city and the value is Butwal\n"
     ]
    }
   ],
   "source": [
    "dic={'name':'Udit', 'age':30, 'city':'Butwal'}\n",
    "for i,j in dic.items():\n",
    "    print(f'The key is {i} and the value is {j}')"
   ]
  },
  {
   "cell_type": "code",
   "execution_count": 90,
   "id": "aa9182dd-cd4e-4663-9604-d2c9d0e7f171",
   "metadata": {},
   "outputs": [
    {
     "name": "stdin",
     "output_type": "stream",
     "text": [
      "Enter the principal amount in NPR:  100\n",
      "Enter the yearly rate of interest:  10\n",
      "Enter the time in year:  1\n"
     ]
    },
    {
     "name": "stdout",
     "output_type": "stream",
     "text": [
      "Your interest is 10.0\n"
     ]
    }
   ],
   "source": [
    "# Write a program to calculate the simple interest\n",
    "def inte_pro(p,t,r):\n",
    "    i = (p*t*r)/100\n",
    "    print(f'Your interest is {i}')\n",
    "p=(int(input('Enter the principal amount in NPR: ')))\n",
    "r=(int(input('Enter the yearly rate of interest: ')))\n",
    "t=(int(input('Enter the time in year: ')))\n",
    "inte_pro(p,t,r)"
   ]
  },
  {
   "cell_type": "code",
   "execution_count": 2,
   "id": "ec647edf-0598-4dc5-bc52-47bfdf8b756f",
   "metadata": {},
   "outputs": [],
   "source": [
    "#homework\n",
    "\n",
    "#Install Git using youtube video https://www.youtube.com/watch?v=AdzKzlp66sQ&t=984s\n",
    "#Write a Python function greet(name) that takes a name as an argument and prints a greeting message.\n",
    "#Write a function factorial(n) to calculate the factorial of a number using recursion.\n",
    "#Create a function is_even(num) that returns True if the given number is even, otherwise False.\n",
    "#Write a function find_max(lst) that takes a list of numbers and returns the largest number in the list.\n",
    "#Write a function reverse_string(s) that takes a string and returns the reversed version of the string."
   ]
  }
 ],
 "metadata": {
  "kernelspec": {
   "display_name": "Python 3 (ipykernel)",
   "language": "python",
   "name": "python3"
  },
  "language_info": {
   "codemirror_mode": {
    "name": "ipython",
    "version": 3
   },
   "file_extension": ".py",
   "mimetype": "text/x-python",
   "name": "python",
   "nbconvert_exporter": "python",
   "pygments_lexer": "ipython3",
   "version": "3.12.4"
  }
 },
 "nbformat": 4,
 "nbformat_minor": 5
}
