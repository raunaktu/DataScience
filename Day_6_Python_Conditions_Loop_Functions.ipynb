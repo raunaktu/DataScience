{
 "cells": [
  {
   "cell_type": "markdown",
   "id": "f5f75b1e-1208-4c41-8775-652de8bd9c63",
   "metadata": {},
   "source": [
    "# Condition"
   ]
  },
  {
   "cell_type": "code",
   "execution_count": 5,
   "id": "dabbc7d4-17ed-43e1-a7f4-0301a7f9cae7",
   "metadata": {},
   "outputs": [
    {
     "name": "stdout",
     "output_type": "stream",
     "text": [
      "No need to take umbrella\n"
     ]
    }
   ],
   "source": [
    "rain=False\n",
    "if rain==True:\n",
    "    print('Take Umbrella')\n",
    "else:\n",
    "    print('No need to take umbrella')"
   ]
  },
  {
   "cell_type": "code",
   "execution_count": 7,
   "id": "333a7c75-963b-4b38-96d2-60a57896b1ea",
   "metadata": {},
   "outputs": [
    {
     "name": "stdout",
     "output_type": "stream",
     "text": [
      "Take Umbrella\n"
     ]
    }
   ],
   "source": [
    "rain=True\n",
    "if rain==True:\n",
    "    print('Take Umbrella')\n",
    "else:\n",
    "    print('No need to take umbrella')"
   ]
  },
  {
   "cell_type": "code",
   "execution_count": 9,
   "id": "7a61ae5a-8b11-4971-a482-fec2dc849d93",
   "metadata": {},
   "outputs": [
    {
     "name": "stdout",
     "output_type": "stream",
     "text": [
      "You have got lower grade than A\n"
     ]
    }
   ],
   "source": [
    "Marks = 70\n",
    "if Marks>90:\n",
    "    print('You have got grade A')\n",
    "else:\n",
    "    print('You have got lower grade than A')"
   ]
  },
  {
   "cell_type": "code",
   "execution_count": 11,
   "id": "e2003055-5afd-4101-9a84-1251ad8ce0f1",
   "metadata": {},
   "outputs": [
    {
     "name": "stdout",
     "output_type": "stream",
     "text": [
      "You have got grade A\n"
     ]
    }
   ],
   "source": [
    "Marks = 95\n",
    "if Marks>90:\n",
    "    print('You have got grade A')\n",
    "else:\n",
    "    print('You have got lower grade than A')"
   ]
  },
  {
   "cell_type": "code",
   "execution_count": 13,
   "id": "d845d592-0b00-4584-a3d0-c0475d0d411c",
   "metadata": {},
   "outputs": [
    {
     "name": "stdout",
     "output_type": "stream",
     "text": [
      "You have got grade A\n"
     ]
    }
   ],
   "source": [
    "Marks = 95\n",
    "if Marks>90:\n",
    "    print('You have got grade A')"
   ]
  },
  {
   "cell_type": "code",
   "execution_count": 15,
   "id": "9a1a070b-d418-408c-87bd-fca91d96e6e3",
   "metadata": {},
   "outputs": [],
   "source": [
    "Marks = 70\n",
    "if Marks>90:\n",
    "    print('You have got grade A')"
   ]
  },
  {
   "cell_type": "code",
   "execution_count": 19,
   "id": "78ed3220-90a7-4160-b3b7-db539e82a683",
   "metadata": {},
   "outputs": [
    {
     "name": "stdout",
     "output_type": "stream",
     "text": [
      "You have got grade B\n"
     ]
    }
   ],
   "source": [
    "Marks = 70\n",
    "if Marks>90:\n",
    "    print('You have got grade A+')\n",
    "elif Marks>80:\n",
    "    print('You have got grade A')\n",
    "elif Marks>70:\n",
    "    print('You have got grade B+')\n",
    "elif Marks>60:\n",
    "    print('You have got grade B')\n",
    "elif Marks>50:\n",
    "    print('You have got grade C+')\n",
    "elif Marks>50:\n",
    "    print('You have got grade C')\n",
    "else:\n",
    "    print('You have got F grade')"
   ]
  },
  {
   "cell_type": "code",
   "execution_count": 27,
   "id": "27dea103-12df-4f5b-af93-4f5b101645b7",
   "metadata": {},
   "outputs": [
    {
     "name": "stdin",
     "output_type": "stream",
     "text": [
      "Enter your marks of the Subject:  90\n"
     ]
    },
    {
     "name": "stdout",
     "output_type": "stream",
     "text": [
      "You have got grade A\n"
     ]
    }
   ],
   "source": [
    "# The below code will not get executed as Marks variable is string\n",
    "# and 90,80 is integer\n",
    "'''\n",
    "Marks = input('Enter your marks of the Subject: ')\n",
    "if Marks>90:\n",
    "    print('You have got grade A+')\n",
    "elif Marks>80:\n",
    "    print('You have got grade A')\n",
    "elif Marks>70:\n",
    "    print('You have got grade B+')\n",
    "elif Marks>60:\n",
    "    print('You have got grade B')\n",
    "elif Marks>50:\n",
    "    print('You have got grade C+')\n",
    "elif Marks>50:\n",
    "    print('You have got grade C')\n",
    "else:\n",
    "    print('You have got F grade')'''"
   ]
  },
  {
   "cell_type": "code",
   "execution_count": 23,
   "id": "be763939-67ee-4903-8051-ccdb4a81166c",
   "metadata": {},
   "outputs": [
    {
     "data": {
      "text/plain": [
       "str"
      ]
     },
     "execution_count": 23,
     "metadata": {},
     "output_type": "execute_result"
    }
   ],
   "source": [
    "type(Marks)"
   ]
  },
  {
   "cell_type": "code",
   "execution_count": 29,
   "id": "2b6d241b-c25b-4ee6-b056-8bb6daf709c6",
   "metadata": {},
   "outputs": [
    {
     "name": "stdin",
     "output_type": "stream",
     "text": [
      "Enter your marks of the Subject:  70\n"
     ]
    },
    {
     "name": "stdout",
     "output_type": "stream",
     "text": [
      "You have got grade B\n"
     ]
    }
   ],
   "source": [
    "Marks = int(input('Enter your marks of the Subject: '))\n",
    "if Marks>90:\n",
    "    print('You have got grade A+')\n",
    "elif Marks>80:\n",
    "    print('You have got grade A')\n",
    "elif Marks>70:\n",
    "    print('You have got grade B+')\n",
    "elif Marks>60:\n",
    "    print('You have got grade B')\n",
    "elif Marks>50:\n",
    "    print('You have got grade C+')\n",
    "elif Marks>50:\n",
    "    print('You have got grade C')\n",
    "else:\n",
    "    print('You have got F grade')"
   ]
  },
  {
   "cell_type": "code",
   "execution_count": 3,
   "id": "5e87cc18-e972-49f4-9383-46b0889e9418",
   "metadata": {},
   "outputs": [
    {
     "name": "stdin",
     "output_type": "stream",
     "text": [
      "Enter your choice :\n",
      "Add or +\n",
      "Subtract or -\n",
      "Multiple or *\n",
      "Divide or /\n",
      "\n",
      " +\n",
      "Input your first number:  1\n",
      "Input your second number:  1\n"
     ]
    },
    {
     "name": "stdout",
     "output_type": "stream",
     "text": [
      "2\n"
     ]
    }
   ],
   "source": [
    "a_user=input('Enter your choice :\\nAdd or +\\nSubtract or -\\nMultiple or *\\nDivide or /\\n\\n').lower()\n",
    "num1=int(input('Input your first number: '))\n",
    "num2=int(input('Input your second number: '))\n",
    "if a_user == 'Divide' or a_user == '/' or a_user == 'D':\n",
    "    result = num1/num2\n",
    "    print(result)\n",
    "elif a_user == 'add' or a_user == '+' or a_user == 'a':\n",
    "    result = num1+num2\n",
    "    print(result)\n",
    "elif a_user == 'substract' or a_user == '-' or a_user == 's':\n",
    "    result = num1-num2\n",
    "    print(result)\n",
    "elif a_user == 'multiply' or a_user == '*' or a_user == 'm':\n",
    "    result = num1*num2\n",
    "    print(result)\n",
    "else:\n",
    "    print ('Wrong Operation, Please try again')"
   ]
  },
  {
   "cell_type": "code",
   "execution_count": null,
   "id": "5595c8d7-c59f-4e91-8abe-d869b504a6ea",
   "metadata": {},
   "outputs": [],
   "source": []
  }
 ],
 "metadata": {
  "kernelspec": {
   "display_name": "Python 3 (ipykernel)",
   "language": "python",
   "name": "python3"
  },
  "language_info": {
   "codemirror_mode": {
    "name": "ipython",
    "version": 3
   },
   "file_extension": ".py",
   "mimetype": "text/x-python",
   "name": "python",
   "nbconvert_exporter": "python",
   "pygments_lexer": "ipython3",
   "version": "3.12.4"
  }
 },
 "nbformat": 4,
 "nbformat_minor": 5
}
