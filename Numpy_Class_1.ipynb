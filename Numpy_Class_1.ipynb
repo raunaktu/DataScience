{
 "cells": [
  {
   "cell_type": "code",
   "execution_count": 1,
   "id": "da5338e9-05f1-45cb-9673-ba6c8dff1465",
   "metadata": {},
   "outputs": [],
   "source": [
    "import numpy as  np"
   ]
  },
  {
   "cell_type": "code",
   "execution_count": 5,
   "id": "fce7ba0a-961b-4858-a6dd-709fd0c9ba0a",
   "metadata": {},
   "outputs": [],
   "source": [
    "arr1 = np.array([34,45,67,89])"
   ]
  },
  {
   "cell_type": "code",
   "execution_count": null,
   "id": "8909599a-e857-45c3-95a2-1eb8211d5e51",
   "metadata": {},
   "outputs": [],
   "source": []
  },
  {
   "cell_type": "code",
   "execution_count": 8,
   "id": "82a7f63f-4091-4c4e-96fc-71edefb43817",
   "metadata": {},
   "outputs": [
    {
     "data": {
      "text/plain": [
       "array([34, 45, 67, 89])"
      ]
     },
     "execution_count": 8,
     "metadata": {},
     "output_type": "execute_result"
    }
   ],
   "source": [
    "arr1"
   ]
  },
  {
   "cell_type": "code",
   "execution_count": 10,
   "id": "b68407a6-1aa0-458d-a425-dd63ac781775",
   "metadata": {},
   "outputs": [],
   "source": [
    "arr2 = np.array([34,45,67,89])"
   ]
  },
  {
   "cell_type": "code",
   "execution_count": 12,
   "id": "eb9cab3d-9938-4e74-8339-ccae47434369",
   "metadata": {},
   "outputs": [
    {
     "data": {
      "text/plain": [
       "array([34, 45, 67, 89])"
      ]
     },
     "execution_count": 12,
     "metadata": {},
     "output_type": "execute_result"
    }
   ],
   "source": [
    "arr2"
   ]
  },
  {
   "cell_type": "code",
   "execution_count": 20,
   "id": "5fa16623-7259-4473-8730-a5ba90b877af",
   "metadata": {},
   "outputs": [
    {
     "data": {
      "text/plain": [
       "'1.26.4'"
      ]
     },
     "execution_count": 20,
     "metadata": {},
     "output_type": "execute_result"
    }
   ],
   "source": [
    "np.__version__"
   ]
  },
  {
   "cell_type": "code",
   "execution_count": 22,
   "id": "4d7e02d3-a5be-40af-accb-f30cc7186ae0",
   "metadata": {},
   "outputs": [],
   "source": [
    "arr3 = np.array({34,45,67,89})"
   ]
  },
  {
   "cell_type": "code",
   "execution_count": 24,
   "id": "8d781b97-b00d-409c-84de-8f75dd2febdd",
   "metadata": {},
   "outputs": [
    {
     "data": {
      "text/plain": [
       "array({89, 34, 67, 45}, dtype=object)"
      ]
     },
     "execution_count": 24,
     "metadata": {},
     "output_type": "execute_result"
    }
   ],
   "source": [
    "arr3"
   ]
  },
  {
   "cell_type": "code",
   "execution_count": 26,
   "id": "eb34bcc6-b2e9-4e58-b877-312a8526f30c",
   "metadata": {},
   "outputs": [
    {
     "data": {
      "text/plain": [
       "{34, 45, 67, 89}"
      ]
     },
     "execution_count": 26,
     "metadata": {},
     "output_type": "execute_result"
    }
   ],
   "source": [
    "arr3.sum()"
   ]
  },
  {
   "cell_type": "code",
   "execution_count": 28,
   "id": "b2e97f12-78e5-45a2-abe1-2dace900b017",
   "metadata": {},
   "outputs": [
    {
     "data": {
      "text/plain": [
       "dtype('O')"
      ]
     },
     "execution_count": 28,
     "metadata": {},
     "output_type": "execute_result"
    }
   ],
   "source": [
    "arr3.dtype"
   ]
  },
  {
   "cell_type": "code",
   "execution_count": 32,
   "id": "9ff3b72d-7102-4861-a710-30483a9d55f3",
   "metadata": {},
   "outputs": [],
   "source": [
    "arr4 = np.array((34,45,67,89))"
   ]
  },
  {
   "cell_type": "code",
   "execution_count": 34,
   "id": "0d4fb29c-9cb5-4a18-90e0-1a0b7f10673e",
   "metadata": {},
   "outputs": [
    {
     "data": {
      "text/plain": [
       "array([34, 45, 67, 89])"
      ]
     },
     "execution_count": 34,
     "metadata": {},
     "output_type": "execute_result"
    }
   ],
   "source": [
    "arr4"
   ]
  },
  {
   "cell_type": "code",
   "execution_count": 36,
   "id": "b0f411db-65c7-4e15-9b98-6991a11d8c61",
   "metadata": {},
   "outputs": [
    {
     "data": {
      "text/plain": [
       "235"
      ]
     },
     "execution_count": 36,
     "metadata": {},
     "output_type": "execute_result"
    }
   ],
   "source": [
    "arr4.sum()"
   ]
  },
  {
   "cell_type": "code",
   "execution_count": 38,
   "id": "264a77dc-37b1-4c17-9f6a-e43ab0650ab3",
   "metadata": {},
   "outputs": [
    {
     "data": {
      "text/plain": [
       "dtype('int64')"
      ]
     },
     "execution_count": 38,
     "metadata": {},
     "output_type": "execute_result"
    }
   ],
   "source": [
    "arr4.dtype"
   ]
  },
  {
   "cell_type": "markdown",
   "id": "18317705-20ed-4374-92bc-9026403899a9",
   "metadata": {},
   "source": [
    "# Dimensions in numpy"
   ]
  },
  {
   "cell_type": "code",
   "execution_count": 40,
   "id": "c2cf4ce3-ca1f-457c-85e3-8b871d5b7fde",
   "metadata": {},
   "outputs": [],
   "source": [
    "a=np.array(45)"
   ]
  },
  {
   "cell_type": "code",
   "execution_count": 42,
   "id": "d0802361-2adb-4b26-8ce2-3ce3ceb12d56",
   "metadata": {},
   "outputs": [],
   "source": [
    "b=np.array((45,65))"
   ]
  },
  {
   "cell_type": "code",
   "execution_count": 44,
   "id": "ee04a81c-ff52-4375-bd61-d0461f3ccd45",
   "metadata": {},
   "outputs": [],
   "source": [
    "c=np.array(((45,60),(78,90)))"
   ]
  },
  {
   "cell_type": "code",
   "execution_count": 46,
   "id": "f8b94a75-0ec1-4663-85ac-865c43e58d00",
   "metadata": {},
   "outputs": [],
   "source": [
    "d=np.array((((45,60),(78,90)),((40,40),(80,80))))"
   ]
  },
  {
   "cell_type": "code",
   "execution_count": 48,
   "id": "49a71bfd-7f80-4ffb-918e-f96a76afa7dd",
   "metadata": {},
   "outputs": [
    {
     "data": {
      "text/plain": [
       "0"
      ]
     },
     "execution_count": 48,
     "metadata": {},
     "output_type": "execute_result"
    }
   ],
   "source": [
    "#Dimension = ndim\n",
    "a.ndim"
   ]
  },
  {
   "cell_type": "code",
   "execution_count": 50,
   "id": "ab59c582-609f-417d-87c7-e09c7623bf1a",
   "metadata": {},
   "outputs": [
    {
     "data": {
      "text/plain": [
       "1"
      ]
     },
     "execution_count": 50,
     "metadata": {},
     "output_type": "execute_result"
    }
   ],
   "source": [
    "b.ndim"
   ]
  },
  {
   "cell_type": "code",
   "execution_count": 52,
   "id": "ff9c5d91-b414-4da8-94c3-8ec70a3a1864",
   "metadata": {},
   "outputs": [
    {
     "data": {
      "text/plain": [
       "2"
      ]
     },
     "execution_count": 52,
     "metadata": {},
     "output_type": "execute_result"
    }
   ],
   "source": [
    "c.ndim"
   ]
  },
  {
   "cell_type": "code",
   "execution_count": 54,
   "id": "ccecce15-40a9-4786-b51b-3e40e690081d",
   "metadata": {},
   "outputs": [
    {
     "data": {
      "text/plain": [
       "3"
      ]
     },
     "execution_count": 54,
     "metadata": {},
     "output_type": "execute_result"
    }
   ],
   "source": [
    "d.ndim"
   ]
  },
  {
   "cell_type": "code",
   "execution_count": 82,
   "id": "09327a5d-f93a-4656-b287-0e1533797533",
   "metadata": {},
   "outputs": [
    {
     "name": "stdout",
     "output_type": "stream",
     "text": [
      "45\n"
     ]
    }
   ],
   "source": [
    "print(a)"
   ]
  },
  {
   "cell_type": "code",
   "execution_count": 84,
   "id": "e4e5320f-44d1-41c0-860f-b89a0a8b1620",
   "metadata": {},
   "outputs": [
    {
     "name": "stdout",
     "output_type": "stream",
     "text": [
      "[45 65]\n"
     ]
    }
   ],
   "source": [
    "print(b)"
   ]
  },
  {
   "cell_type": "code",
   "execution_count": 86,
   "id": "786a2bcc-e204-4c06-a673-6bc67233d130",
   "metadata": {},
   "outputs": [
    {
     "name": "stdout",
     "output_type": "stream",
     "text": [
      "[[45 60]\n",
      " [78 90]]\n"
     ]
    }
   ],
   "source": [
    "print(c)"
   ]
  },
  {
   "cell_type": "code",
   "execution_count": 88,
   "id": "0fbc602a-0815-4770-a787-6cf0daf35ab2",
   "metadata": {},
   "outputs": [
    {
     "name": "stdout",
     "output_type": "stream",
     "text": [
      "[[[45 60]\n",
      "  [78 90]]\n",
      "\n",
      " [[40 40]\n",
      "  [80 80]]]\n"
     ]
    }
   ],
   "source": [
    "print(d)"
   ]
  },
  {
   "cell_type": "code",
   "execution_count": 56,
   "id": "9518fcfe-df4a-4e40-8994-782cebf4e959",
   "metadata": {},
   "outputs": [],
   "source": [
    "e=np.array((45,65),ndmin=5)"
   ]
  },
  {
   "cell_type": "code",
   "execution_count": 58,
   "id": "55dfdd8c-efd2-41a0-8023-159edf6026eb",
   "metadata": {},
   "outputs": [
    {
     "data": {
      "text/plain": [
       "array([[[[[45, 65]]]]])"
      ]
     },
     "execution_count": 58,
     "metadata": {},
     "output_type": "execute_result"
    }
   ],
   "source": [
    "e"
   ]
  },
  {
   "cell_type": "code",
   "execution_count": 96,
   "id": "6fa43f04-8ced-4313-b15a-d408fe4bbb59",
   "metadata": {},
   "outputs": [
    {
     "name": "stdout",
     "output_type": "stream",
     "text": [
      "[[[[[45 65]]]]]\n"
     ]
    }
   ],
   "source": [
    "print(e)"
   ]
  },
  {
   "cell_type": "markdown",
   "id": "64ac2726-c015-458a-8cb7-73a15bd0513a",
   "metadata": {},
   "source": [
    "# Array Indexing in Numpy"
   ]
  },
  {
   "cell_type": "code",
   "execution_count": 60,
   "id": "b9ec1ce0-108c-4cb0-a498-3d234dc420e3",
   "metadata": {},
   "outputs": [
    {
     "data": {
      "text/plain": [
       "65"
      ]
     },
     "execution_count": 60,
     "metadata": {},
     "output_type": "execute_result"
    }
   ],
   "source": [
    "b[1]"
   ]
  },
  {
   "cell_type": "code",
   "execution_count": 62,
   "id": "c19e5d70-f262-40ee-9205-fe409f8f1bef",
   "metadata": {},
   "outputs": [
    {
     "data": {
      "text/plain": [
       "array([78, 90])"
      ]
     },
     "execution_count": 62,
     "metadata": {},
     "output_type": "execute_result"
    }
   ],
   "source": [
    "c[1]"
   ]
  },
  {
   "cell_type": "code",
   "execution_count": 64,
   "id": "33602462-5954-4054-80a3-49f4eea05c1d",
   "metadata": {},
   "outputs": [
    {
     "data": {
      "text/plain": [
       "60"
      ]
     },
     "execution_count": 64,
     "metadata": {},
     "output_type": "execute_result"
    }
   ],
   "source": [
    "c[0][1]"
   ]
  },
  {
   "cell_type": "code",
   "execution_count": 66,
   "id": "1c335402-3aa2-4f23-aa74-7018c9ada9e0",
   "metadata": {},
   "outputs": [
    {
     "data": {
      "text/plain": [
       "array([[45, 60],\n",
       "       [78, 90]])"
      ]
     },
     "execution_count": 66,
     "metadata": {},
     "output_type": "execute_result"
    }
   ],
   "source": [
    "d[0]"
   ]
  },
  {
   "cell_type": "code",
   "execution_count": 84,
   "id": "9a2215fb-5bae-4c6d-b294-c4789a34a078",
   "metadata": {},
   "outputs": [
    {
     "data": {
      "text/plain": [
       "array([[40, 40],\n",
       "       [80, 80]])"
      ]
     },
     "execution_count": 84,
     "metadata": {},
     "output_type": "execute_result"
    }
   ],
   "source": [
    "d[1]"
   ]
  },
  {
   "cell_type": "code",
   "execution_count": 82,
   "id": "2b0504c3-c916-4ccb-81b7-2f4219a56ce8",
   "metadata": {},
   "outputs": [
    {
     "data": {
      "text/plain": [
       "array([80, 80])"
      ]
     },
     "execution_count": 82,
     "metadata": {},
     "output_type": "execute_result"
    }
   ],
   "source": [
    "d[1][1]"
   ]
  },
  {
   "cell_type": "code",
   "execution_count": 80,
   "id": "5f4d026e-064d-4131-9835-3d948e866227",
   "metadata": {},
   "outputs": [
    {
     "data": {
      "text/plain": [
       "80"
      ]
     },
     "execution_count": 80,
     "metadata": {},
     "output_type": "execute_result"
    }
   ],
   "source": [
    "d[1][1][1]"
   ]
  },
  {
   "cell_type": "code",
   "execution_count": 94,
   "id": "a2beee53-c65e-42ff-8a35-508bc9704f9c",
   "metadata": {},
   "outputs": [],
   "source": [
    "z=np.array(([43,56,81,90,102,40],[41,54,80,99,98,97]))"
   ]
  },
  {
   "cell_type": "code",
   "execution_count": 96,
   "id": "43b38418-bb2c-4aa2-a8d8-46b882545cb1",
   "metadata": {},
   "outputs": [
    {
     "data": {
      "text/plain": [
       "56"
      ]
     },
     "execution_count": 96,
     "metadata": {},
     "output_type": "execute_result"
    }
   ],
   "source": [
    "z[0][1]"
   ]
  },
  {
   "cell_type": "code",
   "execution_count": 98,
   "id": "f851a4f9-70db-45d9-86bd-ab09dc976531",
   "metadata": {},
   "outputs": [
    {
     "data": {
      "text/plain": [
       "99"
      ]
     },
     "execution_count": 98,
     "metadata": {},
     "output_type": "execute_result"
    }
   ],
   "source": [
    "z[1,3]"
   ]
  },
  {
   "cell_type": "code",
   "execution_count": 100,
   "id": "946df705-8e10-413a-b63a-a7e32421c916",
   "metadata": {},
   "outputs": [
    {
     "data": {
      "text/plain": [
       "80"
      ]
     },
     "execution_count": 100,
     "metadata": {},
     "output_type": "execute_result"
    }
   ],
   "source": [
    "z[1,-4]"
   ]
  },
  {
   "cell_type": "code",
   "execution_count": 102,
   "id": "18d08a7b-9239-4ce6-afe2-c82845341128",
   "metadata": {},
   "outputs": [
    {
     "data": {
      "text/plain": [
       "array([56, 81])"
      ]
     },
     "execution_count": 102,
     "metadata": {},
     "output_type": "execute_result"
    }
   ],
   "source": [
    "z[0,1:3]"
   ]
  },
  {
   "cell_type": "code",
   "execution_count": 104,
   "id": "ce2f54c6-2c2d-4046-a94a-753ba770f27e",
   "metadata": {},
   "outputs": [],
   "source": [
    "y=np.array([41,54,80,99,98,97])"
   ]
  },
  {
   "cell_type": "code",
   "execution_count": 106,
   "id": "f1262459-a93b-4d4f-9302-f59f6edfbb78",
   "metadata": {},
   "outputs": [
    {
     "data": {
      "text/plain": [
       "41"
      ]
     },
     "execution_count": 106,
     "metadata": {},
     "output_type": "execute_result"
    }
   ],
   "source": [
    "y[0]"
   ]
  },
  {
   "cell_type": "code",
   "execution_count": 108,
   "id": "6d552a98-215d-4d4e-8fe3-fb889e7f1c69",
   "metadata": {},
   "outputs": [
    {
     "data": {
      "text/plain": [
       "97"
      ]
     },
     "execution_count": 108,
     "metadata": {},
     "output_type": "execute_result"
    }
   ],
   "source": [
    "y[5]"
   ]
  },
  {
   "cell_type": "code",
   "execution_count": 110,
   "id": "386ad685-43c7-4858-828f-0b84c0f0b026",
   "metadata": {},
   "outputs": [
    {
     "data": {
      "text/plain": [
       "array([54, 80, 99, 98])"
      ]
     },
     "execution_count": 110,
     "metadata": {},
     "output_type": "execute_result"
    }
   ],
   "source": [
    "y[1:5]"
   ]
  },
  {
   "cell_type": "code",
   "execution_count": 112,
   "id": "b708e176-4198-4e2d-8651-35168d587501",
   "metadata": {},
   "outputs": [
    {
     "data": {
      "text/plain": [
       "array([54, 99, 97])"
      ]
     },
     "execution_count": 112,
     "metadata": {},
     "output_type": "execute_result"
    }
   ],
   "source": [
    "y[1:6:2]"
   ]
  },
  {
   "cell_type": "markdown",
   "id": "06721287-c53d-4844-959e-8e3c1024750f",
   "metadata": {},
   "source": [
    "# Data Type Numpy"
   ]
  },
  {
   "cell_type": "code",
   "execution_count": 116,
   "id": "fcb4f482-6ab8-48ff-9e35-5c772e15dcc6",
   "metadata": {},
   "outputs": [
    {
     "data": {
      "text/plain": [
       "dtype('int64')"
      ]
     },
     "execution_count": 116,
     "metadata": {},
     "output_type": "execute_result"
    }
   ],
   "source": [
    "y.dtype"
   ]
  },
  {
   "cell_type": "code",
   "execution_count": 118,
   "id": "f01930b3-b0ce-400d-8931-eaee32101750",
   "metadata": {},
   "outputs": [],
   "source": [
    "x=np.array([41.5,54.6,80,99,98.5,97])"
   ]
  },
  {
   "cell_type": "code",
   "execution_count": 122,
   "id": "1d59bc96-c84e-4e5b-9795-579d153ac2d3",
   "metadata": {},
   "outputs": [
    {
     "data": {
      "text/plain": [
       "dtype('float64')"
      ]
     },
     "execution_count": 122,
     "metadata": {},
     "output_type": "execute_result"
    }
   ],
   "source": [
    "x.dtype"
   ]
  },
  {
   "cell_type": "code",
   "execution_count": 124,
   "id": "0f2590a4-1f86-4585-b519-2f545081d7b4",
   "metadata": {},
   "outputs": [],
   "source": [
    "u=np.array([1+2j,5+3j,6+4j])"
   ]
  },
  {
   "cell_type": "code",
   "execution_count": 126,
   "id": "f5953772-3893-4e2a-a6fb-69f8919c3e48",
   "metadata": {},
   "outputs": [
    {
     "data": {
      "text/plain": [
       "array([1.+2.j, 5.+3.j, 6.+4.j])"
      ]
     },
     "execution_count": 126,
     "metadata": {},
     "output_type": "execute_result"
    }
   ],
   "source": [
    "u"
   ]
  },
  {
   "cell_type": "code",
   "execution_count": 130,
   "id": "aed4a56f-f5d7-4d7b-a836-fb9f312a8272",
   "metadata": {},
   "outputs": [
    {
     "data": {
      "text/plain": [
       "dtype('complex128')"
      ]
     },
     "execution_count": 130,
     "metadata": {},
     "output_type": "execute_result"
    }
   ],
   "source": [
    "u.dtype"
   ]
  },
  {
   "cell_type": "code",
   "execution_count": 132,
   "id": "68fa8461-7555-46b1-b690-2cbf1298daeb",
   "metadata": {},
   "outputs": [],
   "source": [
    "m=np.array([1+2j,5+3j,6+4j], dtype='complex')"
   ]
  },
  {
   "cell_type": "code",
   "execution_count": 134,
   "id": "ffbd81dc-445e-44bb-81a4-37b0be52825f",
   "metadata": {},
   "outputs": [
    {
     "data": {
      "text/plain": [
       "array([1.+2.j, 5.+3.j, 6.+4.j])"
      ]
     },
     "execution_count": 134,
     "metadata": {},
     "output_type": "execute_result"
    }
   ],
   "source": [
    "m"
   ]
  },
  {
   "cell_type": "code",
   "execution_count": 138,
   "id": "187385b2-5ef1-4a9d-8bb2-5f37757c4c8c",
   "metadata": {},
   "outputs": [],
   "source": [
    "n=np.array([41.5,54.6,80,99,98.5,97], dtype='S')"
   ]
  },
  {
   "cell_type": "code",
   "execution_count": 140,
   "id": "0989ba98-91d3-43a9-aaec-9edc17e1be6c",
   "metadata": {},
   "outputs": [
    {
     "data": {
      "text/plain": [
       "array([b'41.5', b'54.6', b'80', b'99', b'98.5', b'97'], dtype='|S4')"
      ]
     },
     "execution_count": 140,
     "metadata": {},
     "output_type": "execute_result"
    }
   ],
   "source": [
    "n"
   ]
  },
  {
   "cell_type": "code",
   "execution_count": 144,
   "id": "2aa5294b-6b78-47e9-ab8b-83a5e15cea8e",
   "metadata": {},
   "outputs": [
    {
     "name": "stdout",
     "output_type": "stream",
     "text": [
      "[b'41.5' b'54.6' b'80' b'99' b'98.5' b'97']\n"
     ]
    }
   ],
   "source": [
    "print(n)"
   ]
  },
  {
   "cell_type": "code",
   "execution_count": 152,
   "id": "57cae535-1dd5-4aac-9ce5-e87dbbfb898b",
   "metadata": {},
   "outputs": [
    {
     "data": {
      "text/plain": [
       "dtype('S4')"
      ]
     },
     "execution_count": 152,
     "metadata": {},
     "output_type": "execute_result"
    }
   ],
   "source": [
    "n.dtype"
   ]
  },
  {
   "cell_type": "code",
   "execution_count": 154,
   "id": "6721e468-e86c-4781-9230-4a2d68096ddd",
   "metadata": {},
   "outputs": [
    {
     "data": {
      "text/plain": [
       "<function ndarray.sum>"
      ]
     },
     "execution_count": 154,
     "metadata": {},
     "output_type": "execute_result"
    }
   ],
   "source": [
    "n.sum"
   ]
  },
  {
   "cell_type": "code",
   "execution_count": 158,
   "id": "bbebf5a5-2f09-43b7-99f1-f98e70dbf5cf",
   "metadata": {},
   "outputs": [],
   "source": [
    "ab=np.array(['abc','apple','ball'])"
   ]
  },
  {
   "cell_type": "code",
   "execution_count": 160,
   "id": "d4453d4e-280d-45d0-a10f-941b8ceb7812",
   "metadata": {},
   "outputs": [
    {
     "data": {
      "text/plain": [
       "dtype('<U5')"
      ]
     },
     "execution_count": 160,
     "metadata": {},
     "output_type": "execute_result"
    }
   ],
   "source": [
    "ab.dtype"
   ]
  },
  {
   "cell_type": "code",
   "execution_count": 162,
   "id": "da072c67-49f6-4d36-af01-e28849e9dc9e",
   "metadata": {},
   "outputs": [
    {
     "data": {
      "text/plain": [
       "array(['abc', 'apple', 'ball'], dtype='<U5')"
      ]
     },
     "execution_count": 162,
     "metadata": {},
     "output_type": "execute_result"
    }
   ],
   "source": [
    "ab"
   ]
  },
  {
   "cell_type": "code",
   "execution_count": 164,
   "id": "496c7801-5123-4e4d-a823-af0e9f69578f",
   "metadata": {},
   "outputs": [
    {
     "name": "stdout",
     "output_type": "stream",
     "text": [
      "['abc' 'apple' 'ball']\n"
     ]
    }
   ],
   "source": [
    "print(ab)"
   ]
  },
  {
   "cell_type": "markdown",
   "id": "6bf4f5df-fbed-44de-bd08-62f098b41b29",
   "metadata": {},
   "source": [
    "# COPY"
   ]
  },
  {
   "cell_type": "code",
   "execution_count": 167,
   "id": "8ce3f3a6-76a7-43d5-b11c-82272569d014",
   "metadata": {},
   "outputs": [],
   "source": [
    "#When value is copied, value is changed only on one variable\n",
    "te = x.copy()"
   ]
  },
  {
   "cell_type": "code",
   "execution_count": 169,
   "id": "ca17e390-deda-4283-aebf-522bf3abc609",
   "metadata": {},
   "outputs": [
    {
     "data": {
      "text/plain": [
       "array([41.5, 54.6, 80. , 99. , 98.5, 97. ])"
      ]
     },
     "execution_count": 169,
     "metadata": {},
     "output_type": "execute_result"
    }
   ],
   "source": [
    "te"
   ]
  },
  {
   "cell_type": "code",
   "execution_count": 171,
   "id": "9f9698f1-a099-4fe3-89cc-9153d328e5c9",
   "metadata": {},
   "outputs": [
    {
     "data": {
      "text/plain": [
       "98.5"
      ]
     },
     "execution_count": 171,
     "metadata": {},
     "output_type": "execute_result"
    }
   ],
   "source": [
    "te[4]"
   ]
  },
  {
   "cell_type": "code",
   "execution_count": 173,
   "id": "d21667f0-2e65-4713-8508-d68dc3e1cff4",
   "metadata": {},
   "outputs": [],
   "source": [
    "te[4]=56"
   ]
  },
  {
   "cell_type": "code",
   "execution_count": 175,
   "id": "7d7d2425-b1fc-47f2-a48e-bb1fbb6d552a",
   "metadata": {},
   "outputs": [
    {
     "data": {
      "text/plain": [
       "56.0"
      ]
     },
     "execution_count": 175,
     "metadata": {},
     "output_type": "execute_result"
    }
   ],
   "source": [
    "te[4]"
   ]
  },
  {
   "cell_type": "code",
   "execution_count": 177,
   "id": "5522c09c-7bcc-4052-a0d6-a56c990b5ec5",
   "metadata": {},
   "outputs": [
    {
     "data": {
      "text/plain": [
       "array([41.5, 54.6, 80. , 99. , 56. , 97. ])"
      ]
     },
     "execution_count": 177,
     "metadata": {},
     "output_type": "execute_result"
    }
   ],
   "source": [
    "te"
   ]
  },
  {
   "cell_type": "code",
   "execution_count": 179,
   "id": "4dbc0ba7-5219-4fa2-b152-52f41b020605",
   "metadata": {},
   "outputs": [
    {
     "data": {
      "text/plain": [
       "array([41.5, 54.6, 80. , 99. , 98.5, 97. ])"
      ]
     },
     "execution_count": 179,
     "metadata": {},
     "output_type": "execute_result"
    }
   ],
   "source": [
    "x"
   ]
  },
  {
   "cell_type": "code",
   "execution_count": 193,
   "id": "0639a018-78b9-448f-b0b7-5391a7f10d33",
   "metadata": {},
   "outputs": [],
   "source": [
    "#When value is assigned in view, it is changed in both variable\n",
    "cd=x.view()"
   ]
  },
  {
   "cell_type": "code",
   "execution_count": 183,
   "id": "1ddcc039-4833-4a2b-9b88-4969d6be88a4",
   "metadata": {},
   "outputs": [
    {
     "data": {
      "text/plain": [
       "array([41.5, 54.6, 80. , 99. , 98.5, 97. ])"
      ]
     },
     "execution_count": 183,
     "metadata": {},
     "output_type": "execute_result"
    }
   ],
   "source": [
    "cd"
   ]
  },
  {
   "cell_type": "code",
   "execution_count": 185,
   "id": "5e88b045-a76e-4a54-aae1-84413da20280",
   "metadata": {},
   "outputs": [
    {
     "data": {
      "text/plain": [
       "array([41.5, 54.6, 80. , 99. , 98.5, 97. ])"
      ]
     },
     "execution_count": 185,
     "metadata": {},
     "output_type": "execute_result"
    }
   ],
   "source": [
    "x"
   ]
  },
  {
   "cell_type": "code",
   "execution_count": 187,
   "id": "1a9138c8-bedc-4ef6-842d-8df14a590cab",
   "metadata": {},
   "outputs": [],
   "source": [
    "cd[0]=20"
   ]
  },
  {
   "cell_type": "code",
   "execution_count": 189,
   "id": "9a29e610-fe06-4b2b-9faa-563635db8ffc",
   "metadata": {},
   "outputs": [
    {
     "data": {
      "text/plain": [
       "array([20. , 54.6, 80. , 99. , 98.5, 97. ])"
      ]
     },
     "execution_count": 189,
     "metadata": {},
     "output_type": "execute_result"
    }
   ],
   "source": [
    "cd"
   ]
  },
  {
   "cell_type": "code",
   "execution_count": 191,
   "id": "6fc54024-d5ea-41bf-afe3-78acdaf4e9fc",
   "metadata": {},
   "outputs": [
    {
     "data": {
      "text/plain": [
       "array([20. , 54.6, 80. , 99. , 98.5, 97. ])"
      ]
     },
     "execution_count": 191,
     "metadata": {},
     "output_type": "execute_result"
    }
   ],
   "source": [
    "x"
   ]
  },
  {
   "cell_type": "markdown",
   "id": "397eec14-f4d9-4424-95ff-d6a19ebacd43",
   "metadata": {},
   "source": [
    "# Shape"
   ]
  },
  {
   "cell_type": "code",
   "execution_count": 196,
   "id": "e6378fc4-5b6a-40fd-876f-eb6d0ef6b2b7",
   "metadata": {},
   "outputs": [
    {
     "data": {
      "text/plain": [
       "(6,)"
      ]
     },
     "execution_count": 196,
     "metadata": {},
     "output_type": "execute_result"
    }
   ],
   "source": [
    "x.shape"
   ]
  },
  {
   "cell_type": "code",
   "execution_count": 200,
   "id": "2bafc9b9-b5c7-4515-911a-9c3c13b2da4b",
   "metadata": {},
   "outputs": [],
   "source": [
    "z=np.array(([43,56,81,90,102,40],[41,54,80,99,98,97]))"
   ]
  },
  {
   "cell_type": "code",
   "execution_count": 218,
   "id": "b33b7bde-275f-4223-8c68-8f82488b9fd1",
   "metadata": {},
   "outputs": [
    {
     "data": {
      "text/plain": [
       "array([[ 43,  56,  81,  90, 102,  40],\n",
       "       [ 41,  54,  80,  99,  98,  97]])"
      ]
     },
     "execution_count": 218,
     "metadata": {},
     "output_type": "execute_result"
    }
   ],
   "source": [
    "z"
   ]
  },
  {
   "cell_type": "code",
   "execution_count": 202,
   "id": "3f8e8981-e7ec-4cf0-887e-b7e95288663e",
   "metadata": {},
   "outputs": [
    {
     "data": {
      "text/plain": [
       "(2, 6)"
      ]
     },
     "execution_count": 202,
     "metadata": {},
     "output_type": "execute_result"
    }
   ],
   "source": [
    "z.shape"
   ]
  },
  {
   "cell_type": "code",
   "execution_count": 204,
   "id": "ede070d5-98e7-4158-abbe-039f1f1782c7",
   "metadata": {},
   "outputs": [
    {
     "name": "stdout",
     "output_type": "stream",
     "text": [
      "[[ 43  56  81  90 102  40]\n",
      " [ 41  54  80  99  98  97]]\n"
     ]
    }
   ],
   "source": [
    "print(z)"
   ]
  },
  {
   "cell_type": "code",
   "execution_count": 206,
   "id": "4b479ee3-5782-4bd3-b195-1b6c03276637",
   "metadata": {},
   "outputs": [],
   "source": [
    "xyz=np.array((((45,60),(78,90)),((40,40),(80,80))))"
   ]
  },
  {
   "cell_type": "code",
   "execution_count": 210,
   "id": "b999deb3-66c1-45bb-af33-fa08dd838aa7",
   "metadata": {},
   "outputs": [
    {
     "data": {
      "text/plain": [
       "3"
      ]
     },
     "execution_count": 210,
     "metadata": {},
     "output_type": "execute_result"
    }
   ],
   "source": [
    "xyz.ndim"
   ]
  },
  {
   "cell_type": "code",
   "execution_count": 212,
   "id": "9502f039-1d59-4b37-88c4-e8fca4df4f10",
   "metadata": {},
   "outputs": [
    {
     "data": {
      "text/plain": [
       "(2, 2, 2)"
      ]
     },
     "execution_count": 212,
     "metadata": {},
     "output_type": "execute_result"
    }
   ],
   "source": [
    "xyz.shape"
   ]
  },
  {
   "cell_type": "code",
   "execution_count": 227,
   "id": "6ade875e-440f-423c-86b3-fc166dfacab0",
   "metadata": {},
   "outputs": [
    {
     "data": {
      "text/plain": [
       "array([[ 43,  56,  81],\n",
       "       [ 90, 102,  40],\n",
       "       [ 41,  54,  80],\n",
       "       [ 99,  98,  97]])"
      ]
     },
     "execution_count": 227,
     "metadata": {},
     "output_type": "execute_result"
    }
   ],
   "source": [
    "z=z.reshape(4,3)\n",
    "z\n",
    "#z.reshape (4,5) will not work as 4*3=12 but 4*5 =20 which is not equal.. So, cannot reshape"
   ]
  },
  {
   "cell_type": "markdown",
   "id": "f9b29ea1-10cd-40ff-8fb9-2e3a97dc71b2",
   "metadata": {},
   "source": [
    "# Array Iteration"
   ]
  },
  {
   "cell_type": "code",
   "execution_count": 229,
   "id": "b8ac44ca-045a-4a98-b69d-c18b17eb0980",
   "metadata": {},
   "outputs": [
    {
     "name": "stdout",
     "output_type": "stream",
     "text": [
      "[43 56 81]\n",
      "[ 90 102  40]\n",
      "[41 54 80]\n",
      "[99 98 97]\n"
     ]
    }
   ],
   "source": [
    "for x in z:\n",
    "    print(x)"
   ]
  },
  {
   "cell_type": "code",
   "execution_count": null,
   "id": "707b4145-e31e-4869-9407-4b2721a16601",
   "metadata": {},
   "outputs": [],
   "source": [
    "for i in range()"
   ]
  },
  {
   "cell_type": "code",
   "execution_count": 239,
   "id": "d7eb746f-767d-4360-b5b1-b051683a0f4f",
   "metadata": {},
   "outputs": [
    {
     "name": "stdout",
     "output_type": "stream",
     "text": [
      "43\n",
      "56\n",
      "90\n",
      "102\n",
      "41\n",
      "54\n",
      "43\n",
      "56\n",
      "90\n",
      "102\n",
      "41\n",
      "54\n",
      "43\n",
      "56\n",
      "90\n",
      "102\n",
      "41\n",
      "54\n",
      "43\n",
      "56\n",
      "90\n",
      "102\n",
      "41\n",
      "54\n"
     ]
    }
   ],
   "source": [
    "for x in z:\n",
    "    l=len(x)\n",
    "    for i in range(l):\n",
    "        for j in range(0,l-1):\n",
    "            print(z[i][j])"
   ]
  },
  {
   "cell_type": "code",
   "execution_count": 241,
   "id": "dcc2c378-7711-4b86-9fe8-ab1d3865c3bb",
   "metadata": {},
   "outputs": [
    {
     "name": "stdout",
     "output_type": "stream",
     "text": [
      "99\n",
      "98\n",
      "97\n"
     ]
    }
   ],
   "source": [
    "for a in x:\n",
    "    print(a)"
   ]
  },
  {
   "cell_type": "markdown",
   "id": "abf82f63-ca4a-4d98-89e2-f23b03eda8a8",
   "metadata": {},
   "source": [
    "# Array Join"
   ]
  },
  {
   "cell_type": "code",
   "execution_count": 244,
   "id": "b1829b87-de83-4590-bd15-738ab937a788",
   "metadata": {},
   "outputs": [],
   "source": [
    "ad = np.array([45,55,56,89])"
   ]
  },
  {
   "cell_type": "code",
   "execution_count": 248,
   "id": "ec3ff46d-b956-410e-9433-4a7d0b1a71bb",
   "metadata": {},
   "outputs": [],
   "source": [
    "dc = np.array([54,78,90,99])"
   ]
  },
  {
   "cell_type": "code",
   "execution_count": 250,
   "id": "86a8d8bc-7c78-4351-aa9a-43c88fdd783a",
   "metadata": {},
   "outputs": [
    {
     "data": {
      "text/plain": [
       "array([ 99, 133, 146, 188])"
      ]
     },
     "execution_count": 250,
     "metadata": {},
     "output_type": "execute_result"
    }
   ],
   "source": [
    "ad + dc"
   ]
  },
  {
   "cell_type": "code",
   "execution_count": 252,
   "id": "09562c2e-4800-4181-8dc8-908f9111b743",
   "metadata": {},
   "outputs": [
    {
     "data": {
      "text/plain": [
       "array([45, 55, 56, 89, 54, 78, 90, 99])"
      ]
     },
     "execution_count": 252,
     "metadata": {},
     "output_type": "execute_result"
    }
   ],
   "source": [
    "np.concatenate((ad,dc))"
   ]
  },
  {
   "cell_type": "code",
   "execution_count": 260,
   "id": "da8c1a41-67b4-413f-b795-f7b15cfbcb73",
   "metadata": {},
   "outputs": [
    {
     "data": {
      "text/plain": [
       "array([45, 55, 56, 89, 54, 78, 90, 99])"
      ]
     },
     "execution_count": 260,
     "metadata": {},
     "output_type": "execute_result"
    }
   ],
   "source": [
    "#alternate of concatenate\n",
    "np.hstack((ad,dc))"
   ]
  },
  {
   "cell_type": "code",
   "execution_count": 254,
   "id": "a74e70b4-4520-4d97-bd12-75dfc1ca1a5f",
   "metadata": {},
   "outputs": [
    {
     "data": {
      "text/plain": [
       "array([[45, 55, 56, 89],\n",
       "       [54, 78, 90, 99]])"
      ]
     },
     "execution_count": 254,
     "metadata": {},
     "output_type": "execute_result"
    }
   ],
   "source": [
    "np.vstack((ad,dc))"
   ]
  },
  {
   "cell_type": "code",
   "execution_count": 258,
   "id": "5d6d4e51-23b4-449d-8ee3-aca3658f3d5f",
   "metadata": {},
   "outputs": [
    {
     "data": {
      "text/plain": [
       "array([[[45, 54],\n",
       "        [55, 78],\n",
       "        [56, 90],\n",
       "        [89, 99]]])"
      ]
     },
     "execution_count": 258,
     "metadata": {},
     "output_type": "execute_result"
    }
   ],
   "source": [
    "np.dstack((ad,dc))"
   ]
  },
  {
   "cell_type": "markdown",
   "id": "35267154-5f92-4d80-9a3a-74b450f1e7a0",
   "metadata": {},
   "source": [
    "# Split"
   ]
  },
  {
   "cell_type": "code",
   "execution_count": 265,
   "id": "027b42ad-178c-4959-b3ac-cc79074106ca",
   "metadata": {},
   "outputs": [
    {
     "data": {
      "text/plain": [
       "[array([45]), array([55]), array([56]), array([89])]"
      ]
     },
     "execution_count": 265,
     "metadata": {},
     "output_type": "execute_result"
    }
   ],
   "source": [
    "np.array_split(ad,4)"
   ]
  },
  {
   "cell_type": "code",
   "execution_count": 267,
   "id": "fa8ffa91-de1e-49f9-bde9-464daf56b94b",
   "metadata": {},
   "outputs": [
    {
     "data": {
      "text/plain": [
       "[array([45, 55]), array([56]), array([89])]"
      ]
     },
     "execution_count": 267,
     "metadata": {},
     "output_type": "execute_result"
    }
   ],
   "source": [
    "np.array_split(ad,3)"
   ]
  },
  {
   "cell_type": "code",
   "execution_count": 269,
   "id": "af8b55d3-cead-4542-9ed2-bbae04b7f360",
   "metadata": {},
   "outputs": [
    {
     "data": {
      "text/plain": [
       "[array([45, 55]), array([56, 89])]"
      ]
     },
     "execution_count": 269,
     "metadata": {},
     "output_type": "execute_result"
    }
   ],
   "source": [
    "np.array_split(ad,2)"
   ]
  },
  {
   "cell_type": "code",
   "execution_count": 271,
   "id": "9d5f23cf-1d3e-4c0d-9716-0eebe644da04",
   "metadata": {},
   "outputs": [
    {
     "data": {
      "text/plain": [
       "[array([45]), array([55]), array([56]), array([89]), array([], dtype=int64)]"
      ]
     },
     "execution_count": 271,
     "metadata": {},
     "output_type": "execute_result"
    }
   ],
   "source": [
    "np.array_split(ad,5)"
   ]
  },
  {
   "cell_type": "code",
   "execution_count": 273,
   "id": "ff3fdbe8-fbc4-44b5-acbe-cb3f15515bfb",
   "metadata": {},
   "outputs": [
    {
     "data": {
      "text/plain": [
       "[array([45]),\n",
       " array([55]),\n",
       " array([56]),\n",
       " array([89]),\n",
       " array([], dtype=int64),\n",
       " array([], dtype=int64)]"
      ]
     },
     "execution_count": 273,
     "metadata": {},
     "output_type": "execute_result"
    }
   ],
   "source": [
    "np.array_split(ad,6)"
   ]
  },
  {
   "cell_type": "code",
   "execution_count": 275,
   "id": "b4fa8982-bf29-439b-b301-f5c7f7b7f402",
   "metadata": {},
   "outputs": [
    {
     "data": {
      "text/plain": [
       "[array([45]),\n",
       " array([55]),\n",
       " array([56]),\n",
       " array([89]),\n",
       " array([], dtype=int64),\n",
       " array([], dtype=int64),\n",
       " array([], dtype=int64)]"
      ]
     },
     "execution_count": 275,
     "metadata": {},
     "output_type": "execute_result"
    }
   ],
   "source": [
    "np.array_split(ad,7)"
   ]
  },
  {
   "cell_type": "code",
   "execution_count": 285,
   "id": "ab9cbdb6-f3db-43ae-b4d5-d43a8820c158",
   "metadata": {},
   "outputs": [],
   "source": [
    "ac = np.array(([45,56],[70,99],[65,55],[43,45],[23,22],[54,56]))"
   ]
  },
  {
   "cell_type": "code",
   "execution_count": 293,
   "id": "8f20b0f0-b129-41e6-b8ba-1607c21735a2",
   "metadata": {},
   "outputs": [
    {
     "data": {
      "text/plain": [
       "array([[45, 56],\n",
       "       [70, 99],\n",
       "       [65, 55],\n",
       "       [43, 45],\n",
       "       [23, 22],\n",
       "       [54, 56]])"
      ]
     },
     "execution_count": 293,
     "metadata": {},
     "output_type": "execute_result"
    }
   ],
   "source": [
    "ac"
   ]
  },
  {
   "cell_type": "code",
   "execution_count": 289,
   "id": "5b90697b-3b81-4498-b1f7-387a3996b0e6",
   "metadata": {},
   "outputs": [
    {
     "data": {
      "text/plain": [
       "[array([[45],\n",
       "        [70],\n",
       "        [65],\n",
       "        [43],\n",
       "        [23],\n",
       "        [54]]),\n",
       " array([[56],\n",
       "        [99],\n",
       "        [55],\n",
       "        [45],\n",
       "        [22],\n",
       "        [56]])]"
      ]
     },
     "execution_count": 289,
     "metadata": {},
     "output_type": "execute_result"
    }
   ],
   "source": [
    "np.hsplit(ac,2)"
   ]
  },
  {
   "cell_type": "code",
   "execution_count": 291,
   "id": "8dd61056-237e-4fd3-8708-98989bd7f443",
   "metadata": {},
   "outputs": [
    {
     "data": {
      "text/plain": [
       "[array([[45, 56],\n",
       "        [70, 99],\n",
       "        [65, 55]]),\n",
       " array([[43, 45],\n",
       "        [23, 22],\n",
       "        [54, 56]])]"
      ]
     },
     "execution_count": 291,
     "metadata": {},
     "output_type": "execute_result"
    }
   ],
   "source": [
    "np.vsplit(ac,2)"
   ]
  },
  {
   "cell_type": "markdown",
   "id": "28e1b571-47ad-467d-84f6-29385f2c9f31",
   "metadata": {},
   "source": [
    "# Numpy Search"
   ]
  },
  {
   "cell_type": "code",
   "execution_count": 313,
   "id": "b5e68f26-fd65-4706-b7a6-86d6e6315c80",
   "metadata": {},
   "outputs": [
    {
     "data": {
      "text/plain": [
       "array([[45, 56],\n",
       "       [70, 99],\n",
       "       [65, 55],\n",
       "       [43, 45],\n",
       "       [23, 22],\n",
       "       [54, 56]])"
      ]
     },
     "execution_count": 313,
     "metadata": {},
     "output_type": "execute_result"
    }
   ],
   "source": [
    "ac"
   ]
  },
  {
   "cell_type": "code",
   "execution_count": 296,
   "id": "4eaea0e6-de9b-4e3c-ae0e-e34bdcfeaf86",
   "metadata": {},
   "outputs": [
    {
     "data": {
      "text/plain": [
       "(array([0, 5]), array([1, 1]))"
      ]
     },
     "execution_count": 296,
     "metadata": {},
     "output_type": "execute_result"
    }
   ],
   "source": [
    "np.where(ac==56)"
   ]
  },
  {
   "cell_type": "code",
   "execution_count": 298,
   "id": "0324d6e5-a9be-446d-985d-605455f2dc49",
   "metadata": {},
   "outputs": [],
   "source": [
    "q = np.array([45,55,66,89,54,78,90,99])"
   ]
  },
  {
   "cell_type": "code",
   "execution_count": 300,
   "id": "ed14638e-824c-4547-a352-5a10b494c928",
   "metadata": {},
   "outputs": [
    {
     "data": {
      "text/plain": [
       "(array([3]),)"
      ]
     },
     "execution_count": 300,
     "metadata": {},
     "output_type": "execute_result"
    }
   ],
   "source": [
    "np.where(q==89)"
   ]
  },
  {
   "cell_type": "markdown",
   "id": "235b361c-9d87-47b9-aa7e-bbae2fd90671",
   "metadata": {},
   "source": [
    "# SORT"
   ]
  },
  {
   "cell_type": "code",
   "execution_count": 305,
   "id": "0e657145-81de-4572-9bdf-8d8cdbbb0f5b",
   "metadata": {},
   "outputs": [
    {
     "data": {
      "text/plain": [
       "array([45, 54, 55, 66, 78, 89, 90, 99])"
      ]
     },
     "execution_count": 305,
     "metadata": {},
     "output_type": "execute_result"
    }
   ],
   "source": [
    "np.sort(q)"
   ]
  },
  {
   "cell_type": "code",
   "execution_count": 307,
   "id": "279cd582-4382-4945-91f1-8696b3523d5c",
   "metadata": {},
   "outputs": [
    {
     "data": {
      "text/plain": [
       "array([45, 55, 66, 89, 54, 78, 90, 99])"
      ]
     },
     "execution_count": 307,
     "metadata": {},
     "output_type": "execute_result"
    }
   ],
   "source": [
    "q"
   ]
  },
  {
   "cell_type": "code",
   "execution_count": 309,
   "id": "a79043c8-8489-4ed0-aabf-8629b59c7bdc",
   "metadata": {},
   "outputs": [
    {
     "data": {
      "text/plain": [
       "array([135, 165, 198, 267, 162, 234, 270, 297])"
      ]
     },
     "execution_count": 309,
     "metadata": {},
     "output_type": "execute_result"
    }
   ],
   "source": [
    "q*3"
   ]
  },
  {
   "cell_type": "code",
   "execution_count": 311,
   "id": "1907116a-c1ca-46dc-ab7a-6e8820b860b9",
   "metadata": {},
   "outputs": [
    {
     "data": {
      "text/plain": [
       "array([ 9. , 11. , 13.2, 17.8, 10.8, 15.6, 18. , 19.8])"
      ]
     },
     "execution_count": 311,
     "metadata": {},
     "output_type": "execute_result"
    }
   ],
   "source": [
    "q/5"
   ]
  },
  {
   "cell_type": "code",
   "execution_count": null,
   "id": "efc0fb3f-c45c-453a-9a28-444340216282",
   "metadata": {},
   "outputs": [],
   "source": []
  }
 ],
 "metadata": {
  "kernelspec": {
   "display_name": "Python 3 (ipykernel)",
   "language": "python",
   "name": "python3"
  },
  "language_info": {
   "codemirror_mode": {
    "name": "ipython",
    "version": 3
   },
   "file_extension": ".py",
   "mimetype": "text/x-python",
   "name": "python",
   "nbconvert_exporter": "python",
   "pygments_lexer": "ipython3",
   "version": "3.12.4"
  }
 },
 "nbformat": 4,
 "nbformat_minor": 5
}
