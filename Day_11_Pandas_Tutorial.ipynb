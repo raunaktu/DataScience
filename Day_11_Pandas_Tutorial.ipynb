{
 "cells": [
  {
   "cell_type": "code",
   "execution_count": 3,
   "id": "59a20683-2f5e-4f41-8e5c-11e04ccfa33f",
   "metadata": {},
   "outputs": [],
   "source": [
    "# Pandas is for data analysis\n",
    "# Pandas offer 2 data type. Series (one dimensional level array) and DataFrames\n",
    "# Offer a no of data exploration\n",
    "# Pandas made from numpy and scipy \n",
    "# Helps to generate Descriptive Statistics\n",
    "# Helps in data cleaning"
   ]
  },
  {
   "cell_type": "code",
   "execution_count": 5,
   "id": "d0b66d03-5cdc-452b-80ff-12f88588e779",
   "metadata": {},
   "outputs": [],
   "source": [
    "import pandas as pd"
   ]
  },
  {
   "cell_type": "code",
   "execution_count": 7,
   "id": "38e26035-54f9-4c6e-8500-7543d9636c4f",
   "metadata": {},
   "outputs": [],
   "source": [
    "#ser = pd.Series (['100','300','5000',900,800],[200,450,'Ramu','Haresh','Nitesh'])\n",
    "ser = pd.Series (['a','b','c','d','e'],[1,2,3,4,5])"
   ]
  },
  {
   "cell_type": "code",
   "execution_count": 9,
   "id": "4d54522d-d22b-448e-9222-398b404a3e44",
   "metadata": {},
   "outputs": [
    {
     "data": {
      "text/plain": [
       "1    a\n",
       "2    b\n",
       "3    c\n",
       "4    d\n",
       "5    e\n",
       "dtype: object"
      ]
     },
     "execution_count": 9,
     "metadata": {},
     "output_type": "execute_result"
    }
   ],
   "source": [
    "#1st column output is index\n",
    "ser"
   ]
  },
  {
   "cell_type": "code",
   "execution_count": 11,
   "id": "c42cdf88-f2ca-43e6-b375-cd671e228694",
   "metadata": {},
   "outputs": [
    {
     "data": {
      "text/plain": [
       "Index([1, 2, 3, 4, 5], dtype='int64')"
      ]
     },
     "execution_count": 11,
     "metadata": {},
     "output_type": "execute_result"
    }
   ],
   "source": [
    "#Shows the id or index of series\n",
    "ser.index"
   ]
  },
  {
   "cell_type": "code",
   "execution_count": 13,
   "id": "281865ff-0448-4246-88df-b1f457443e9e",
   "metadata": {},
   "outputs": [
    {
     "data": {
      "text/plain": [
       "1    a\n",
       "dtype: object"
      ]
     },
     "execution_count": 13,
     "metadata": {},
     "output_type": "execute_result"
    }
   ],
   "source": [
    "#show location in series\n",
    "ser.loc[[1]]"
   ]
  },
  {
   "cell_type": "markdown",
   "id": "568903e9-e2b0-4a1b-9534-d7c056efc63a",
   "metadata": {},
   "source": [
    "ser.loc[[3]]"
   ]
  },
  {
   "cell_type": "code",
   "execution_count": 17,
   "id": "54130aa5-6973-4cb8-bf9e-4b7617fb410e",
   "metadata": {},
   "outputs": [
    {
     "data": {
      "text/plain": [
       "1    a\n",
       "dtype: object"
      ]
     },
     "execution_count": 17,
     "metadata": {},
     "output_type": "execute_result"
    }
   ],
   "source": [
    "#another way of finding location in series\n",
    "ser[[1]]"
   ]
  },
  {
   "cell_type": "code",
   "execution_count": 19,
   "id": "f621bb9e-fc61-4e3a-9be9-6bd3938ea5a4",
   "metadata": {},
   "outputs": [
    {
     "data": {
      "text/plain": [
       "1    a\n",
       "4    d\n",
       "5    e\n",
       "dtype: object"
      ]
     },
     "execution_count": 19,
     "metadata": {},
     "output_type": "execute_result"
    }
   ],
   "source": [
    "ser[[1,4,5]]"
   ]
  },
  {
   "cell_type": "code",
   "execution_count": 21,
   "id": "523ff094-d07d-4a35-bb9a-5e74c0a89c99",
   "metadata": {},
   "outputs": [
    {
     "data": {
      "text/plain": [
       "3    c\n",
       "4    d\n",
       "5    e\n",
       "dtype: object"
      ]
     },
     "execution_count": 21,
     "metadata": {},
     "output_type": "execute_result"
    }
   ],
   "source": [
    "ser.loc[[3,4,5]]"
   ]
  },
  {
   "cell_type": "code",
   "execution_count": 23,
   "id": "7a13ebbb-df92-4faa-893b-6ff7910d3e24",
   "metadata": {},
   "outputs": [
    {
     "data": {
      "text/plain": [
       "'a'"
      ]
     },
     "execution_count": 23,
     "metadata": {},
     "output_type": "execute_result"
    }
   ],
   "source": [
    "ser.iloc[0]"
   ]
  },
  {
   "cell_type": "code",
   "execution_count": 25,
   "id": "5cc95ac8-699b-4171-a4bb-955c3284aee3",
   "metadata": {},
   "outputs": [
    {
     "data": {
      "text/plain": [
       "'d'"
      ]
     },
     "execution_count": 25,
     "metadata": {},
     "output_type": "execute_result"
    }
   ],
   "source": [
    "ser.iloc[3]"
   ]
  },
  {
   "cell_type": "code",
   "execution_count": 29,
   "id": "52d33313-bf47-4922-bbea-69e393a0b287",
   "metadata": {},
   "outputs": [
    {
     "data": {
      "text/plain": [
       "1    a\n",
       "dtype: object"
      ]
     },
     "execution_count": 29,
     "metadata": {},
     "output_type": "execute_result"
    }
   ],
   "source": [
    "ser.loc[[1]]"
   ]
  },
  {
   "cell_type": "code",
   "execution_count": 31,
   "id": "060cfff1-3a3f-44f1-aca0-228f505bf694",
   "metadata": {},
   "outputs": [
    {
     "data": {
      "text/plain": [
       "1    aaaaa\n",
       "dtype: object"
      ]
     },
     "execution_count": 31,
     "metadata": {},
     "output_type": "execute_result"
    }
   ],
   "source": [
    "#you can manimulate string by multiplying as well\n",
    "ser.loc[[1]]*5"
   ]
  },
  {
   "cell_type": "markdown",
   "id": "eb2da916-6a58-48ba-8607-79858744d000",
   "metadata": {},
   "source": [
    "# Data Frame"
   ]
  },
  {
   "cell_type": "code",
   "execution_count": 34,
   "id": "6bf2e3aa-0bd3-4c3d-bcfa-994ecbbaf82f",
   "metadata": {},
   "outputs": [],
   "source": [
    "a = {'one':pd.Series([10,20,30,40,50]),\n",
    "        'two':pd.Series([-10,-20,-30,-40,-50])\n",
    "    }"
   ]
  },
  {
   "cell_type": "code",
   "execution_count": 36,
   "id": "750d9a59-ee80-4efb-b0be-8c0efd048cf2",
   "metadata": {},
   "outputs": [],
   "source": [
    "df=pd.DataFrame(a)"
   ]
  },
  {
   "cell_type": "code",
   "execution_count": 38,
   "id": "3665c60d-b861-4649-a9ce-32f1b4f456cb",
   "metadata": {},
   "outputs": [
    {
     "name": "stdout",
     "output_type": "stream",
     "text": [
      "   one  two\n",
      "0   10  -10\n",
      "1   20  -20\n",
      "2   30  -30\n",
      "3   40  -40\n",
      "4   50  -50\n"
     ]
    }
   ],
   "source": [
    "print(df)"
   ]
  },
  {
   "cell_type": "code",
   "execution_count": 40,
   "id": "c4d0a037-6101-4558-bdba-d92af13d62e5",
   "metadata": {},
   "outputs": [],
   "source": [
    "b = {'one':pd.Series([10,20,30,40,50], index=['a','b','c','d','e']),\n",
    "        'two':pd.Series([-10,-20,-30,-40,-50], index=['na','nb','nc','nd','ne'])\n",
    "    }"
   ]
  },
  {
   "cell_type": "code",
   "execution_count": 44,
   "id": "418e93b8-5a7c-4b79-ad47-9a24a9f6adc7",
   "metadata": {},
   "outputs": [],
   "source": [
    "abc=pd.DataFrame(b)"
   ]
  },
  {
   "cell_type": "code",
   "execution_count": 46,
   "id": "e8ebf2ea-ab66-4e7e-aac9-c2bc7ed4e739",
   "metadata": {},
   "outputs": [
    {
     "name": "stdout",
     "output_type": "stream",
     "text": [
      "     one   two\n",
      "a   10.0   NaN\n",
      "b   20.0   NaN\n",
      "c   30.0   NaN\n",
      "d   40.0   NaN\n",
      "e   50.0   NaN\n",
      "na   NaN -10.0\n",
      "nb   NaN -20.0\n",
      "nc   NaN -30.0\n",
      "nd   NaN -40.0\n",
      "ne   NaN -50.0\n"
     ]
    }
   ],
   "source": [
    "print(abc)"
   ]
  },
  {
   "cell_type": "code",
   "execution_count": 48,
   "id": "4f351502-b64d-46cc-ac3e-f426c79b8d17",
   "metadata": {},
   "outputs": [],
   "source": [
    "c = {'one':pd.Series([10,20,30,40,50], index=['a','b','c','d','e']),\n",
    "        'two':pd.Series([-10,-20,-30,-40,-50], index=['a','b','c','d','e'])\n",
    "    }"
   ]
  },
  {
   "cell_type": "code",
   "execution_count": 50,
   "id": "c6f70db5-4334-4ad8-8a0a-fdf3461e7414",
   "metadata": {},
   "outputs": [],
   "source": [
    "xyz=pd.DataFrame(c)"
   ]
  },
  {
   "cell_type": "code",
   "execution_count": 62,
   "id": "a93c4e77-f523-48d0-a7bd-62d6d2daddbc",
   "metadata": {},
   "outputs": [
    {
     "name": "stdout",
     "output_type": "stream",
     "text": [
      "   one  two\n",
      "a   10  -10\n",
      "b   20  -20\n",
      "c   30  -30\n",
      "d   40  -40\n",
      "e   50  -50\n"
     ]
    }
   ],
   "source": [
    "print(xyz)"
   ]
  },
  {
   "cell_type": "code",
   "execution_count": 64,
   "id": "86a10798-738e-4464-a5cb-c4bb38505ecc",
   "metadata": {},
   "outputs": [
    {
     "data": {
      "text/html": [
       "<div>\n",
       "<style scoped>\n",
       "    .dataframe tbody tr th:only-of-type {\n",
       "        vertical-align: middle;\n",
       "    }\n",
       "\n",
       "    .dataframe tbody tr th {\n",
       "        vertical-align: top;\n",
       "    }\n",
       "\n",
       "    .dataframe thead th {\n",
       "        text-align: right;\n",
       "    }\n",
       "</style>\n",
       "<table border=\"1\" class=\"dataframe\">\n",
       "  <thead>\n",
       "    <tr style=\"text-align: right;\">\n",
       "      <th></th>\n",
       "      <th>one</th>\n",
       "      <th>two</th>\n",
       "    </tr>\n",
       "  </thead>\n",
       "  <tbody>\n",
       "    <tr>\n",
       "      <th>a</th>\n",
       "      <td>10</td>\n",
       "      <td>-10</td>\n",
       "    </tr>\n",
       "    <tr>\n",
       "      <th>b</th>\n",
       "      <td>20</td>\n",
       "      <td>-20</td>\n",
       "    </tr>\n",
       "    <tr>\n",
       "      <th>c</th>\n",
       "      <td>30</td>\n",
       "      <td>-30</td>\n",
       "    </tr>\n",
       "    <tr>\n",
       "      <th>d</th>\n",
       "      <td>40</td>\n",
       "      <td>-40</td>\n",
       "    </tr>\n",
       "    <tr>\n",
       "      <th>e</th>\n",
       "      <td>50</td>\n",
       "      <td>-50</td>\n",
       "    </tr>\n",
       "  </tbody>\n",
       "</table>\n",
       "</div>"
      ],
      "text/plain": [
       "   one  two\n",
       "a   10  -10\n",
       "b   20  -20\n",
       "c   30  -30\n",
       "d   40  -40\n",
       "e   50  -50"
      ]
     },
     "execution_count": 64,
     "metadata": {},
     "output_type": "execute_result"
    }
   ],
   "source": [
    "xyz"
   ]
  },
  {
   "cell_type": "code",
   "execution_count": 66,
   "id": "af3a218e-f0fd-4886-9c4e-a8ca6ae5a6bc",
   "metadata": {},
   "outputs": [
    {
     "data": {
      "text/plain": [
       "one    40\n",
       "two   -40\n",
       "Name: d, dtype: int64"
      ]
     },
     "execution_count": 66,
     "metadata": {},
     "output_type": "execute_result"
    }
   ],
   "source": [
    "xyz.loc['d']"
   ]
  },
  {
   "cell_type": "code",
   "execution_count": 68,
   "id": "ef517e57-103a-456a-9411-82543002280a",
   "metadata": {},
   "outputs": [
    {
     "data": {
      "text/plain": [
       "one    40\n",
       "two   -40\n",
       "Name: d, dtype: int64"
      ]
     },
     "execution_count": 68,
     "metadata": {},
     "output_type": "execute_result"
    }
   ],
   "source": [
    "xyz.iloc[3]"
   ]
  },
  {
   "cell_type": "code",
   "execution_count": 72,
   "id": "6aa19e98-e45a-4f75-aed5-85d9f3650ec9",
   "metadata": {},
   "outputs": [],
   "source": [
    "m = {'english':pd.Series([90,23,35,40,50], index=['avi','bishal','chan','dro','ellle']),\n",
    "        'math':pd.Series([60,80,30,20,90], index=['avi','bishal','chan','dro','ellle']),\n",
    "         'science':pd.Series([50,60,70,40,100], index=['avi','bishal','chan','dro','ellle'])\n",
    "    }"
   ]
  },
  {
   "cell_type": "code",
   "execution_count": 74,
   "id": "36bc98d3-4777-46b9-8193-dfe73b2a357b",
   "metadata": {},
   "outputs": [],
   "source": [
    "mno=pd.DataFrame(m)"
   ]
  },
  {
   "cell_type": "code",
   "execution_count": 78,
   "id": "46bf4732-48db-4fd6-ac38-b3d3c3ecd3b7",
   "metadata": {},
   "outputs": [
    {
     "data": {
      "text/html": [
       "<div>\n",
       "<style scoped>\n",
       "    .dataframe tbody tr th:only-of-type {\n",
       "        vertical-align: middle;\n",
       "    }\n",
       "\n",
       "    .dataframe tbody tr th {\n",
       "        vertical-align: top;\n",
       "    }\n",
       "\n",
       "    .dataframe thead th {\n",
       "        text-align: right;\n",
       "    }\n",
       "</style>\n",
       "<table border=\"1\" class=\"dataframe\">\n",
       "  <thead>\n",
       "    <tr style=\"text-align: right;\">\n",
       "      <th></th>\n",
       "      <th>english</th>\n",
       "      <th>math</th>\n",
       "      <th>science</th>\n",
       "    </tr>\n",
       "  </thead>\n",
       "  <tbody>\n",
       "    <tr>\n",
       "      <th>avi</th>\n",
       "      <td>90</td>\n",
       "      <td>60</td>\n",
       "      <td>50</td>\n",
       "    </tr>\n",
       "    <tr>\n",
       "      <th>bishal</th>\n",
       "      <td>23</td>\n",
       "      <td>80</td>\n",
       "      <td>60</td>\n",
       "    </tr>\n",
       "    <tr>\n",
       "      <th>chan</th>\n",
       "      <td>35</td>\n",
       "      <td>30</td>\n",
       "      <td>70</td>\n",
       "    </tr>\n",
       "    <tr>\n",
       "      <th>dro</th>\n",
       "      <td>40</td>\n",
       "      <td>20</td>\n",
       "      <td>40</td>\n",
       "    </tr>\n",
       "    <tr>\n",
       "      <th>ellle</th>\n",
       "      <td>50</td>\n",
       "      <td>90</td>\n",
       "      <td>100</td>\n",
       "    </tr>\n",
       "  </tbody>\n",
       "</table>\n",
       "</div>"
      ],
      "text/plain": [
       "        english  math  science\n",
       "avi          90    60       50\n",
       "bishal       23    80       60\n",
       "chan         35    30       70\n",
       "dro          40    20       40\n",
       "ellle        50    90      100"
      ]
     },
     "execution_count": 78,
     "metadata": {},
     "output_type": "execute_result"
    }
   ],
   "source": [
    "mno"
   ]
  },
  {
   "cell_type": "code",
   "execution_count": 84,
   "id": "d5bae885-4876-4ab1-8ec0-112ee4cdc28b",
   "metadata": {},
   "outputs": [
    {
     "data": {
      "text/html": [
       "<div>\n",
       "<style scoped>\n",
       "    .dataframe tbody tr th:only-of-type {\n",
       "        vertical-align: middle;\n",
       "    }\n",
       "\n",
       "    .dataframe tbody tr th {\n",
       "        vertical-align: top;\n",
       "    }\n",
       "\n",
       "    .dataframe thead th {\n",
       "        text-align: right;\n",
       "    }\n",
       "</style>\n",
       "<table border=\"1\" class=\"dataframe\">\n",
       "  <thead>\n",
       "    <tr style=\"text-align: right;\">\n",
       "      <th></th>\n",
       "      <th>english</th>\n",
       "      <th>math</th>\n",
       "      <th>science</th>\n",
       "    </tr>\n",
       "  </thead>\n",
       "  <tbody>\n",
       "    <tr>\n",
       "      <th>avi</th>\n",
       "      <td>90</td>\n",
       "      <td>60</td>\n",
       "      <td>50</td>\n",
       "    </tr>\n",
       "  </tbody>\n",
       "</table>\n",
       "</div>"
      ],
      "text/plain": [
       "     english  math  science\n",
       "avi       90    60       50"
      ]
     },
     "execution_count": 84,
     "metadata": {},
     "output_type": "execute_result"
    }
   ],
   "source": [
    "mno.loc[['avi']]"
   ]
  },
  {
   "cell_type": "code",
   "execution_count": 90,
   "id": "75d324cd-71e3-41fe-a144-e4a6283440d4",
   "metadata": {},
   "outputs": [
    {
     "data": {
      "text/plain": [
       "english    90\n",
       "math       60\n",
       "science    50\n",
       "Name: avi, dtype: int64"
      ]
     },
     "execution_count": 90,
     "metadata": {},
     "output_type": "execute_result"
    }
   ],
   "source": [
    "mno.loc['avi']"
   ]
  },
  {
   "cell_type": "code",
   "execution_count": 92,
   "id": "e214358c-d829-427c-81cb-10475d6d95c6",
   "metadata": {},
   "outputs": [],
   "source": [
    "#mno['avi']\n",
    "#not working"
   ]
  },
  {
   "cell_type": "code",
   "execution_count": 112,
   "id": "d4deecc6-4199-42f1-9f6e-2715d4c61f7e",
   "metadata": {},
   "outputs": [
    {
     "data": {
      "text/plain": [
       "\"n = {'english':pd.Series([90,23,35,40,50]),\\n        'math':pd.Series([60,80,30,20,90]),\\n         'science':pd.Series([50,60,70,40,100])\\n    }\""
      ]
     },
     "execution_count": 112,
     "metadata": {},
     "output_type": "execute_result"
    }
   ],
   "source": [
    "'''n = {'english':pd.Series([90,23,35,40,50]),\n",
    "        'math':pd.Series([60,80,30,20,90]),\n",
    "         'science':pd.Series([50,60,70,40,100])\n",
    "    }'''"
   ]
  },
  {
   "cell_type": "code",
   "execution_count": 108,
   "id": "072340c6-bad2-4a8d-bedb-6aaadf9a7585",
   "metadata": {},
   "outputs": [],
   "source": [
    "no = pd.DataFrame({\n",
    "    'english': [90, 23, 35, 40, 50],\n",
    "    'math': [60, 80, 30, 20, 90],\n",
    "    'science': [50, 60, 70, 40, 100]\n",
    "}, index=['avi', 'bishal', 'chan', 'dro', 'ellle'])"
   ]
  },
  {
   "cell_type": "code",
   "execution_count": 110,
   "id": "63aca011-4187-4516-98a5-4281ee62264e",
   "metadata": {},
   "outputs": [
    {
     "data": {
      "text/html": [
       "<div>\n",
       "<style scoped>\n",
       "    .dataframe tbody tr th:only-of-type {\n",
       "        vertical-align: middle;\n",
       "    }\n",
       "\n",
       "    .dataframe tbody tr th {\n",
       "        vertical-align: top;\n",
       "    }\n",
       "\n",
       "    .dataframe thead th {\n",
       "        text-align: right;\n",
       "    }\n",
       "</style>\n",
       "<table border=\"1\" class=\"dataframe\">\n",
       "  <thead>\n",
       "    <tr style=\"text-align: right;\">\n",
       "      <th></th>\n",
       "      <th>english</th>\n",
       "      <th>math</th>\n",
       "      <th>science</th>\n",
       "    </tr>\n",
       "  </thead>\n",
       "  <tbody>\n",
       "    <tr>\n",
       "      <th>avi</th>\n",
       "      <td>90</td>\n",
       "      <td>60</td>\n",
       "      <td>50</td>\n",
       "    </tr>\n",
       "    <tr>\n",
       "      <th>bishal</th>\n",
       "      <td>23</td>\n",
       "      <td>80</td>\n",
       "      <td>60</td>\n",
       "    </tr>\n",
       "    <tr>\n",
       "      <th>chan</th>\n",
       "      <td>35</td>\n",
       "      <td>30</td>\n",
       "      <td>70</td>\n",
       "    </tr>\n",
       "    <tr>\n",
       "      <th>dro</th>\n",
       "      <td>40</td>\n",
       "      <td>20</td>\n",
       "      <td>40</td>\n",
       "    </tr>\n",
       "    <tr>\n",
       "      <th>ellle</th>\n",
       "      <td>50</td>\n",
       "      <td>90</td>\n",
       "      <td>100</td>\n",
       "    </tr>\n",
       "  </tbody>\n",
       "</table>\n",
       "</div>"
      ],
      "text/plain": [
       "        english  math  science\n",
       "avi          90    60       50\n",
       "bishal       23    80       60\n",
       "chan         35    30       70\n",
       "dro          40    20       40\n",
       "ellle        50    90      100"
      ]
     },
     "execution_count": 110,
     "metadata": {},
     "output_type": "execute_result"
    }
   ],
   "source": [
    "no"
   ]
  },
  {
   "cell_type": "code",
   "execution_count": 162,
   "id": "bc6007f8-035a-4f61-b283-625244db1997",
   "metadata": {},
   "outputs": [],
   "source": [
    "#another way\n",
    "q = {'english':([90,23,35,40,50,80,90,99,89]),\n",
    "        'math':([60,80,30,20,95,70,77,89,90]),\n",
    "         'science':([50,60,70,40,100,56,55,66,70])\n",
    "    }\n",
    "marks=pd.DataFrame(q,index=['avi','bishal','chan','dro','ellle','sita','gita','sarita','sabin'])"
   ]
  },
  {
   "cell_type": "code",
   "execution_count": 164,
   "id": "74907024-4a43-4e51-a84a-c5e7d8265cea",
   "metadata": {},
   "outputs": [
    {
     "data": {
      "text/html": [
       "<div>\n",
       "<style scoped>\n",
       "    .dataframe tbody tr th:only-of-type {\n",
       "        vertical-align: middle;\n",
       "    }\n",
       "\n",
       "    .dataframe tbody tr th {\n",
       "        vertical-align: top;\n",
       "    }\n",
       "\n",
       "    .dataframe thead th {\n",
       "        text-align: right;\n",
       "    }\n",
       "</style>\n",
       "<table border=\"1\" class=\"dataframe\">\n",
       "  <thead>\n",
       "    <tr style=\"text-align: right;\">\n",
       "      <th></th>\n",
       "      <th>english</th>\n",
       "      <th>math</th>\n",
       "      <th>science</th>\n",
       "    </tr>\n",
       "  </thead>\n",
       "  <tbody>\n",
       "    <tr>\n",
       "      <th>avi</th>\n",
       "      <td>90</td>\n",
       "      <td>60</td>\n",
       "      <td>50</td>\n",
       "    </tr>\n",
       "    <tr>\n",
       "      <th>bishal</th>\n",
       "      <td>23</td>\n",
       "      <td>80</td>\n",
       "      <td>60</td>\n",
       "    </tr>\n",
       "    <tr>\n",
       "      <th>chan</th>\n",
       "      <td>35</td>\n",
       "      <td>30</td>\n",
       "      <td>70</td>\n",
       "    </tr>\n",
       "    <tr>\n",
       "      <th>dro</th>\n",
       "      <td>40</td>\n",
       "      <td>20</td>\n",
       "      <td>40</td>\n",
       "    </tr>\n",
       "    <tr>\n",
       "      <th>ellle</th>\n",
       "      <td>50</td>\n",
       "      <td>95</td>\n",
       "      <td>100</td>\n",
       "    </tr>\n",
       "    <tr>\n",
       "      <th>sita</th>\n",
       "      <td>80</td>\n",
       "      <td>70</td>\n",
       "      <td>56</td>\n",
       "    </tr>\n",
       "    <tr>\n",
       "      <th>gita</th>\n",
       "      <td>90</td>\n",
       "      <td>77</td>\n",
       "      <td>55</td>\n",
       "    </tr>\n",
       "    <tr>\n",
       "      <th>sarita</th>\n",
       "      <td>99</td>\n",
       "      <td>89</td>\n",
       "      <td>66</td>\n",
       "    </tr>\n",
       "    <tr>\n",
       "      <th>sabin</th>\n",
       "      <td>89</td>\n",
       "      <td>90</td>\n",
       "      <td>70</td>\n",
       "    </tr>\n",
       "  </tbody>\n",
       "</table>\n",
       "</div>"
      ],
      "text/plain": [
       "        english  math  science\n",
       "avi          90    60       50\n",
       "bishal       23    80       60\n",
       "chan         35    30       70\n",
       "dro          40    20       40\n",
       "ellle        50    95      100\n",
       "sita         80    70       56\n",
       "gita         90    77       55\n",
       "sarita       99    89       66\n",
       "sabin        89    90       70"
      ]
     },
     "execution_count": 164,
     "metadata": {},
     "output_type": "execute_result"
    }
   ],
   "source": [
    "marks"
   ]
  },
  {
   "cell_type": "code",
   "execution_count": 116,
   "id": "0f3fd7dc-b54b-4c43-9def-7596189beee0",
   "metadata": {},
   "outputs": [],
   "source": [
    "data=[{'ram':100,'Shyam':200},{'ema':50,'ramu':80}]"
   ]
  },
  {
   "cell_type": "code",
   "execution_count": 118,
   "id": "8fb8c844-b2bd-4e57-a130-9d7fa578e5ca",
   "metadata": {},
   "outputs": [],
   "source": [
    "df1=pd.DataFrame(data)"
   ]
  },
  {
   "cell_type": "code",
   "execution_count": 120,
   "id": "74715b92-2788-48d4-8db3-414cee9fe967",
   "metadata": {},
   "outputs": [
    {
     "data": {
      "text/html": [
       "<div>\n",
       "<style scoped>\n",
       "    .dataframe tbody tr th:only-of-type {\n",
       "        vertical-align: middle;\n",
       "    }\n",
       "\n",
       "    .dataframe tbody tr th {\n",
       "        vertical-align: top;\n",
       "    }\n",
       "\n",
       "    .dataframe thead th {\n",
       "        text-align: right;\n",
       "    }\n",
       "</style>\n",
       "<table border=\"1\" class=\"dataframe\">\n",
       "  <thead>\n",
       "    <tr style=\"text-align: right;\">\n",
       "      <th></th>\n",
       "      <th>ram</th>\n",
       "      <th>Shyam</th>\n",
       "      <th>ema</th>\n",
       "      <th>ramu</th>\n",
       "    </tr>\n",
       "  </thead>\n",
       "  <tbody>\n",
       "    <tr>\n",
       "      <th>0</th>\n",
       "      <td>100.0</td>\n",
       "      <td>200.0</td>\n",
       "      <td>NaN</td>\n",
       "      <td>NaN</td>\n",
       "    </tr>\n",
       "    <tr>\n",
       "      <th>1</th>\n",
       "      <td>NaN</td>\n",
       "      <td>NaN</td>\n",
       "      <td>50.0</td>\n",
       "      <td>80.0</td>\n",
       "    </tr>\n",
       "  </tbody>\n",
       "</table>\n",
       "</div>"
      ],
      "text/plain": [
       "     ram  Shyam   ema  ramu\n",
       "0  100.0  200.0   NaN   NaN\n",
       "1    NaN    NaN  50.0  80.0"
      ]
     },
     "execution_count": 120,
     "metadata": {},
     "output_type": "execute_result"
    }
   ],
   "source": [
    "df1"
   ]
  },
  {
   "cell_type": "code",
   "execution_count": 122,
   "id": "edb2e4d1-854e-42fd-a6c5-42d9a3fd2e28",
   "metadata": {},
   "outputs": [],
   "source": [
    "df2=pd.DataFrame(data,index=['First number','Second Number'])"
   ]
  },
  {
   "cell_type": "code",
   "execution_count": 124,
   "id": "d2ea6387-ee15-4792-82b3-b95875978607",
   "metadata": {},
   "outputs": [
    {
     "data": {
      "text/html": [
       "<div>\n",
       "<style scoped>\n",
       "    .dataframe tbody tr th:only-of-type {\n",
       "        vertical-align: middle;\n",
       "    }\n",
       "\n",
       "    .dataframe tbody tr th {\n",
       "        vertical-align: top;\n",
       "    }\n",
       "\n",
       "    .dataframe thead th {\n",
       "        text-align: right;\n",
       "    }\n",
       "</style>\n",
       "<table border=\"1\" class=\"dataframe\">\n",
       "  <thead>\n",
       "    <tr style=\"text-align: right;\">\n",
       "      <th></th>\n",
       "      <th>ram</th>\n",
       "      <th>Shyam</th>\n",
       "      <th>ema</th>\n",
       "      <th>ramu</th>\n",
       "    </tr>\n",
       "  </thead>\n",
       "  <tbody>\n",
       "    <tr>\n",
       "      <th>First number</th>\n",
       "      <td>100.0</td>\n",
       "      <td>200.0</td>\n",
       "      <td>NaN</td>\n",
       "      <td>NaN</td>\n",
       "    </tr>\n",
       "    <tr>\n",
       "      <th>Second Number</th>\n",
       "      <td>NaN</td>\n",
       "      <td>NaN</td>\n",
       "      <td>50.0</td>\n",
       "      <td>80.0</td>\n",
       "    </tr>\n",
       "  </tbody>\n",
       "</table>\n",
       "</div>"
      ],
      "text/plain": [
       "                 ram  Shyam   ema  ramu\n",
       "First number   100.0  200.0   NaN   NaN\n",
       "Second Number    NaN    NaN  50.0  80.0"
      ]
     },
     "execution_count": 124,
     "metadata": {},
     "output_type": "execute_result"
    }
   ],
   "source": [
    "df2"
   ]
  },
  {
   "cell_type": "code",
   "execution_count": 126,
   "id": "b50d14f7-ca98-4b0b-8362-9f7cc4f745e6",
   "metadata": {},
   "outputs": [],
   "source": [
    "#Just only pull necessary columns\n",
    "df3=pd.DataFrame(data,columns=['ram','ema'])"
   ]
  },
  {
   "cell_type": "code",
   "execution_count": 128,
   "id": "f0c33fad-db96-46b2-9fd0-dc4866d041c6",
   "metadata": {},
   "outputs": [
    {
     "data": {
      "text/html": [
       "<div>\n",
       "<style scoped>\n",
       "    .dataframe tbody tr th:only-of-type {\n",
       "        vertical-align: middle;\n",
       "    }\n",
       "\n",
       "    .dataframe tbody tr th {\n",
       "        vertical-align: top;\n",
       "    }\n",
       "\n",
       "    .dataframe thead th {\n",
       "        text-align: right;\n",
       "    }\n",
       "</style>\n",
       "<table border=\"1\" class=\"dataframe\">\n",
       "  <thead>\n",
       "    <tr style=\"text-align: right;\">\n",
       "      <th></th>\n",
       "      <th>ram</th>\n",
       "      <th>ema</th>\n",
       "    </tr>\n",
       "  </thead>\n",
       "  <tbody>\n",
       "    <tr>\n",
       "      <th>0</th>\n",
       "      <td>100.0</td>\n",
       "      <td>NaN</td>\n",
       "    </tr>\n",
       "    <tr>\n",
       "      <th>1</th>\n",
       "      <td>NaN</td>\n",
       "      <td>50.0</td>\n",
       "    </tr>\n",
       "  </tbody>\n",
       "</table>\n",
       "</div>"
      ],
      "text/plain": [
       "     ram   ema\n",
       "0  100.0   NaN\n",
       "1    NaN  50.0"
      ]
     },
     "execution_count": 128,
     "metadata": {},
     "output_type": "execute_result"
    }
   ],
   "source": [
    "df3"
   ]
  },
  {
   "cell_type": "code",
   "execution_count": 138,
   "id": "4308010c-62de-4853-b54c-ef5e796caffe",
   "metadata": {},
   "outputs": [],
   "source": [
    "p = {'english':([90,23,35,40,50,80,90,99,89]),\n",
    "        'math':([60,80,30,20,95,70,77,89,90]),\n",
    "         'science':([50,60,70,40,100,56,55,66,70])\n",
    "    }\n",
    "marks=pd.DataFrame(p,index=['avi','bishal','chan','dro','ellle','sita','gita','sarita','sabin'])"
   ]
  },
  {
   "cell_type": "code",
   "execution_count": 140,
   "id": "a103d3e4-3791-4509-b260-ca3bd9c711e8",
   "metadata": {},
   "outputs": [
    {
     "data": {
      "text/html": [
       "<div>\n",
       "<style scoped>\n",
       "    .dataframe tbody tr th:only-of-type {\n",
       "        vertical-align: middle;\n",
       "    }\n",
       "\n",
       "    .dataframe tbody tr th {\n",
       "        vertical-align: top;\n",
       "    }\n",
       "\n",
       "    .dataframe thead th {\n",
       "        text-align: right;\n",
       "    }\n",
       "</style>\n",
       "<table border=\"1\" class=\"dataframe\">\n",
       "  <thead>\n",
       "    <tr style=\"text-align: right;\">\n",
       "      <th></th>\n",
       "      <th>english</th>\n",
       "      <th>math</th>\n",
       "      <th>science</th>\n",
       "    </tr>\n",
       "  </thead>\n",
       "  <tbody>\n",
       "    <tr>\n",
       "      <th>avi</th>\n",
       "      <td>90</td>\n",
       "      <td>60</td>\n",
       "      <td>50</td>\n",
       "    </tr>\n",
       "    <tr>\n",
       "      <th>bishal</th>\n",
       "      <td>23</td>\n",
       "      <td>80</td>\n",
       "      <td>60</td>\n",
       "    </tr>\n",
       "    <tr>\n",
       "      <th>chan</th>\n",
       "      <td>35</td>\n",
       "      <td>30</td>\n",
       "      <td>70</td>\n",
       "    </tr>\n",
       "    <tr>\n",
       "      <th>dro</th>\n",
       "      <td>40</td>\n",
       "      <td>20</td>\n",
       "      <td>40</td>\n",
       "    </tr>\n",
       "    <tr>\n",
       "      <th>ellle</th>\n",
       "      <td>50</td>\n",
       "      <td>95</td>\n",
       "      <td>100</td>\n",
       "    </tr>\n",
       "    <tr>\n",
       "      <th>sita</th>\n",
       "      <td>80</td>\n",
       "      <td>70</td>\n",
       "      <td>56</td>\n",
       "    </tr>\n",
       "    <tr>\n",
       "      <th>gita</th>\n",
       "      <td>90</td>\n",
       "      <td>77</td>\n",
       "      <td>55</td>\n",
       "    </tr>\n",
       "    <tr>\n",
       "      <th>sarita</th>\n",
       "      <td>99</td>\n",
       "      <td>89</td>\n",
       "      <td>66</td>\n",
       "    </tr>\n",
       "    <tr>\n",
       "      <th>sabin</th>\n",
       "      <td>89</td>\n",
       "      <td>90</td>\n",
       "      <td>70</td>\n",
       "    </tr>\n",
       "  </tbody>\n",
       "</table>\n",
       "</div>"
      ],
      "text/plain": [
       "        english  math  science\n",
       "avi          90    60       50\n",
       "bishal       23    80       60\n",
       "chan         35    30       70\n",
       "dro          40    20       40\n",
       "ellle        50    95      100\n",
       "sita         80    70       56\n",
       "gita         90    77       55\n",
       "sarita       99    89       66\n",
       "sabin        89    90       70"
      ]
     },
     "execution_count": 140,
     "metadata": {},
     "output_type": "execute_result"
    }
   ],
   "source": [
    "marks"
   ]
  },
  {
   "cell_type": "markdown",
   "id": "8c962762-1529-4e0f-8060-7263971f2604",
   "metadata": {},
   "source": [
    "# Head & Tail"
   ]
  },
  {
   "cell_type": "code",
   "execution_count": 142,
   "id": "8162245a-308a-469a-b801-2099cf50747f",
   "metadata": {},
   "outputs": [
    {
     "data": {
      "text/plain": [
       "pandas.core.frame.DataFrame"
      ]
     },
     "execution_count": 142,
     "metadata": {},
     "output_type": "execute_result"
    }
   ],
   "source": [
    "type(marks)"
   ]
  },
  {
   "cell_type": "code",
   "execution_count": 154,
   "id": "54f8c394-d11c-4ef1-8985-972a8135d8de",
   "metadata": {},
   "outputs": [
    {
     "data": {
      "text/html": [
       "<div>\n",
       "<style scoped>\n",
       "    .dataframe tbody tr th:only-of-type {\n",
       "        vertical-align: middle;\n",
       "    }\n",
       "\n",
       "    .dataframe tbody tr th {\n",
       "        vertical-align: top;\n",
       "    }\n",
       "\n",
       "    .dataframe thead th {\n",
       "        text-align: right;\n",
       "    }\n",
       "</style>\n",
       "<table border=\"1\" class=\"dataframe\">\n",
       "  <thead>\n",
       "    <tr style=\"text-align: right;\">\n",
       "      <th></th>\n",
       "      <th>english</th>\n",
       "      <th>math</th>\n",
       "      <th>science</th>\n",
       "    </tr>\n",
       "  </thead>\n",
       "  <tbody>\n",
       "    <tr>\n",
       "      <th>avi</th>\n",
       "      <td>90</td>\n",
       "      <td>60</td>\n",
       "      <td>50</td>\n",
       "    </tr>\n",
       "    <tr>\n",
       "      <th>bishal</th>\n",
       "      <td>23</td>\n",
       "      <td>80</td>\n",
       "      <td>60</td>\n",
       "    </tr>\n",
       "    <tr>\n",
       "      <th>chan</th>\n",
       "      <td>35</td>\n",
       "      <td>30</td>\n",
       "      <td>70</td>\n",
       "    </tr>\n",
       "    <tr>\n",
       "      <th>dro</th>\n",
       "      <td>40</td>\n",
       "      <td>20</td>\n",
       "      <td>40</td>\n",
       "    </tr>\n",
       "    <tr>\n",
       "      <th>ellle</th>\n",
       "      <td>50</td>\n",
       "      <td>95</td>\n",
       "      <td>100</td>\n",
       "    </tr>\n",
       "  </tbody>\n",
       "</table>\n",
       "</div>"
      ],
      "text/plain": [
       "        english  math  science\n",
       "avi          90    60       50\n",
       "bishal       23    80       60\n",
       "chan         35    30       70\n",
       "dro          40    20       40\n",
       "ellle        50    95      100"
      ]
     },
     "execution_count": 154,
     "metadata": {},
     "output_type": "execute_result"
    }
   ],
   "source": [
    "#Only display top 5\n",
    "marks.head()"
   ]
  },
  {
   "cell_type": "code",
   "execution_count": 156,
   "id": "299a73a6-dce5-48b1-8b03-71c8b2450f5c",
   "metadata": {},
   "outputs": [
    {
     "data": {
      "text/html": [
       "<div>\n",
       "<style scoped>\n",
       "    .dataframe tbody tr th:only-of-type {\n",
       "        vertical-align: middle;\n",
       "    }\n",
       "\n",
       "    .dataframe tbody tr th {\n",
       "        vertical-align: top;\n",
       "    }\n",
       "\n",
       "    .dataframe thead th {\n",
       "        text-align: right;\n",
       "    }\n",
       "</style>\n",
       "<table border=\"1\" class=\"dataframe\">\n",
       "  <thead>\n",
       "    <tr style=\"text-align: right;\">\n",
       "      <th></th>\n",
       "      <th>english</th>\n",
       "      <th>math</th>\n",
       "      <th>science</th>\n",
       "    </tr>\n",
       "  </thead>\n",
       "  <tbody>\n",
       "    <tr>\n",
       "      <th>ellle</th>\n",
       "      <td>50</td>\n",
       "      <td>95</td>\n",
       "      <td>100</td>\n",
       "    </tr>\n",
       "    <tr>\n",
       "      <th>sita</th>\n",
       "      <td>80</td>\n",
       "      <td>70</td>\n",
       "      <td>56</td>\n",
       "    </tr>\n",
       "    <tr>\n",
       "      <th>gita</th>\n",
       "      <td>90</td>\n",
       "      <td>77</td>\n",
       "      <td>55</td>\n",
       "    </tr>\n",
       "    <tr>\n",
       "      <th>sarita</th>\n",
       "      <td>99</td>\n",
       "      <td>89</td>\n",
       "      <td>66</td>\n",
       "    </tr>\n",
       "    <tr>\n",
       "      <th>sabin</th>\n",
       "      <td>89</td>\n",
       "      <td>90</td>\n",
       "      <td>70</td>\n",
       "    </tr>\n",
       "  </tbody>\n",
       "</table>\n",
       "</div>"
      ],
      "text/plain": [
       "        english  math  science\n",
       "ellle        50    95      100\n",
       "sita         80    70       56\n",
       "gita         90    77       55\n",
       "sarita       99    89       66\n",
       "sabin        89    90       70"
      ]
     },
     "execution_count": 156,
     "metadata": {},
     "output_type": "execute_result"
    }
   ],
   "source": [
    "#Only display bottom 5\n",
    "marks.tail()"
   ]
  },
  {
   "cell_type": "code",
   "execution_count": 158,
   "id": "36ddd966-b085-4cce-81e1-fba48f46043c",
   "metadata": {},
   "outputs": [
    {
     "data": {
      "text/html": [
       "<div>\n",
       "<style scoped>\n",
       "    .dataframe tbody tr th:only-of-type {\n",
       "        vertical-align: middle;\n",
       "    }\n",
       "\n",
       "    .dataframe tbody tr th {\n",
       "        vertical-align: top;\n",
       "    }\n",
       "\n",
       "    .dataframe thead th {\n",
       "        text-align: right;\n",
       "    }\n",
       "</style>\n",
       "<table border=\"1\" class=\"dataframe\">\n",
       "  <thead>\n",
       "    <tr style=\"text-align: right;\">\n",
       "      <th></th>\n",
       "      <th>english</th>\n",
       "      <th>math</th>\n",
       "      <th>science</th>\n",
       "    </tr>\n",
       "  </thead>\n",
       "  <tbody>\n",
       "    <tr>\n",
       "      <th>avi</th>\n",
       "      <td>90</td>\n",
       "      <td>60</td>\n",
       "      <td>50</td>\n",
       "    </tr>\n",
       "    <tr>\n",
       "      <th>bishal</th>\n",
       "      <td>23</td>\n",
       "      <td>80</td>\n",
       "      <td>60</td>\n",
       "    </tr>\n",
       "    <tr>\n",
       "      <th>chan</th>\n",
       "      <td>35</td>\n",
       "      <td>30</td>\n",
       "      <td>70</td>\n",
       "    </tr>\n",
       "    <tr>\n",
       "      <th>dro</th>\n",
       "      <td>40</td>\n",
       "      <td>20</td>\n",
       "      <td>40</td>\n",
       "    </tr>\n",
       "    <tr>\n",
       "      <th>ellle</th>\n",
       "      <td>50</td>\n",
       "      <td>95</td>\n",
       "      <td>100</td>\n",
       "    </tr>\n",
       "    <tr>\n",
       "      <th>sita</th>\n",
       "      <td>80</td>\n",
       "      <td>70</td>\n",
       "      <td>56</td>\n",
       "    </tr>\n",
       "    <tr>\n",
       "      <th>gita</th>\n",
       "      <td>90</td>\n",
       "      <td>77</td>\n",
       "      <td>55</td>\n",
       "    </tr>\n",
       "    <tr>\n",
       "      <th>sarita</th>\n",
       "      <td>99</td>\n",
       "      <td>89</td>\n",
       "      <td>66</td>\n",
       "    </tr>\n",
       "  </tbody>\n",
       "</table>\n",
       "</div>"
      ],
      "text/plain": [
       "        english  math  science\n",
       "avi          90    60       50\n",
       "bishal       23    80       60\n",
       "chan         35    30       70\n",
       "dro          40    20       40\n",
       "ellle        50    95      100\n",
       "sita         80    70       56\n",
       "gita         90    77       55\n",
       "sarita       99    89       66"
      ]
     },
     "execution_count": 158,
     "metadata": {},
     "output_type": "execute_result"
    }
   ],
   "source": [
    "#see top 8 values\n",
    "marks.head(8)"
   ]
  },
  {
   "cell_type": "code",
   "execution_count": 160,
   "id": "ff6402f9-5929-4bc6-adf8-c4f53273c0cf",
   "metadata": {},
   "outputs": [
    {
     "data": {
      "text/html": [
       "<div>\n",
       "<style scoped>\n",
       "    .dataframe tbody tr th:only-of-type {\n",
       "        vertical-align: middle;\n",
       "    }\n",
       "\n",
       "    .dataframe tbody tr th {\n",
       "        vertical-align: top;\n",
       "    }\n",
       "\n",
       "    .dataframe thead th {\n",
       "        text-align: right;\n",
       "    }\n",
       "</style>\n",
       "<table border=\"1\" class=\"dataframe\">\n",
       "  <thead>\n",
       "    <tr style=\"text-align: right;\">\n",
       "      <th></th>\n",
       "      <th>english</th>\n",
       "      <th>math</th>\n",
       "      <th>science</th>\n",
       "    </tr>\n",
       "  </thead>\n",
       "  <tbody>\n",
       "    <tr>\n",
       "      <th>bishal</th>\n",
       "      <td>23</td>\n",
       "      <td>80</td>\n",
       "      <td>60</td>\n",
       "    </tr>\n",
       "    <tr>\n",
       "      <th>chan</th>\n",
       "      <td>35</td>\n",
       "      <td>30</td>\n",
       "      <td>70</td>\n",
       "    </tr>\n",
       "    <tr>\n",
       "      <th>dro</th>\n",
       "      <td>40</td>\n",
       "      <td>20</td>\n",
       "      <td>40</td>\n",
       "    </tr>\n",
       "    <tr>\n",
       "      <th>ellle</th>\n",
       "      <td>50</td>\n",
       "      <td>95</td>\n",
       "      <td>100</td>\n",
       "    </tr>\n",
       "    <tr>\n",
       "      <th>sita</th>\n",
       "      <td>80</td>\n",
       "      <td>70</td>\n",
       "      <td>56</td>\n",
       "    </tr>\n",
       "    <tr>\n",
       "      <th>gita</th>\n",
       "      <td>90</td>\n",
       "      <td>77</td>\n",
       "      <td>55</td>\n",
       "    </tr>\n",
       "    <tr>\n",
       "      <th>sarita</th>\n",
       "      <td>99</td>\n",
       "      <td>89</td>\n",
       "      <td>66</td>\n",
       "    </tr>\n",
       "    <tr>\n",
       "      <th>sabin</th>\n",
       "      <td>89</td>\n",
       "      <td>90</td>\n",
       "      <td>70</td>\n",
       "    </tr>\n",
       "  </tbody>\n",
       "</table>\n",
       "</div>"
      ],
      "text/plain": [
       "        english  math  science\n",
       "bishal       23    80       60\n",
       "chan         35    30       70\n",
       "dro          40    20       40\n",
       "ellle        50    95      100\n",
       "sita         80    70       56\n",
       "gita         90    77       55\n",
       "sarita       99    89       66\n",
       "sabin        89    90       70"
      ]
     },
     "execution_count": 160,
     "metadata": {},
     "output_type": "execute_result"
    }
   ],
   "source": [
    "marks.tail(8)"
   ]
  }
 ],
 "metadata": {
  "kernelspec": {
   "display_name": "Python 3 (ipykernel)",
   "language": "python",
   "name": "python3"
  },
  "language_info": {
   "codemirror_mode": {
    "name": "ipython",
    "version": 3
   },
   "file_extension": ".py",
   "mimetype": "text/x-python",
   "name": "python",
   "nbconvert_exporter": "python",
   "pygments_lexer": "ipython3",
   "version": "3.12.4"
  }
 },
 "nbformat": 4,
 "nbformat_minor": 5
}
