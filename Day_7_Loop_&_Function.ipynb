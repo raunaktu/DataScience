{
 "cells": [
  {
   "cell_type": "code",
   "execution_count": 1,
   "id": "ffb9075c-b824-45ea-9120-3bb330a9c707",
   "metadata": {},
   "outputs": [
    {
     "name": "stdout",
     "output_type": "stream",
     "text": [
      "1\n",
      "2\n",
      "3\n",
      "4\n",
      "5\n",
      "6\n",
      "7\n",
      "8\n",
      "9\n"
     ]
    }
   ],
   "source": [
    "a=1\n",
    "while a<10:\n",
    "    print(a)\n",
    "    a=a+1"
   ]
  },
  {
   "cell_type": "code",
   "execution_count": 3,
   "id": "8e3116b0-f829-4328-b317-590b1cc1938a",
   "metadata": {},
   "outputs": [
    {
     "name": "stdout",
     "output_type": "stream",
     "text": [
      "The number 0 is neither even or odd\n",
      "The number 1 is an odd number\n",
      "The number 2 is an even number\n",
      "The number 3 is an odd number\n",
      "The number 4 is an even number\n",
      "The number 5 is an odd number\n",
      "The number 6 is an even number\n",
      "The number 7 is an odd number\n",
      "The number 8 is an even number\n",
      "The number 9 is an odd number\n"
     ]
    }
   ],
   "source": [
    "a=0\n",
    "while a<10:\n",
    "    if a==0:\n",
    "        print(f'The number {a} is neither even or odd')\n",
    "        a+=1\n",
    "    elif a%2==0:\n",
    "        print(f'The number {a} is an even number')\n",
    "        a+=1\n",
    "    else:\n",
    "        print(f'The number {a} is an odd number')\n",
    "        a+=1"
   ]
  },
  {
   "cell_type": "code",
   "execution_count": 19,
   "id": "77f94da1-0a2b-44b6-8768-dc85a6de6fcf",
   "metadata": {},
   "outputs": [
    {
     "name": "stdout",
     "output_type": "stream",
     "text": [
      "The total bill is 399\n",
      "The average is 79.8\n"
     ]
    }
   ],
   "source": [
    "bill=[45,66,78,90,120]\n",
    "total_bill=0\n",
    "for a in bill:\n",
    "    total_bill+=a\n",
    "print(f'The total bill is {total_bill}')\n",
    "print(f'The average is {total_bill/len(bill)}')"
   ]
  },
  {
   "cell_type": "markdown",
   "id": "fcd97a5f-d54e-439e-b49d-332d019e1bc7",
   "metadata": {},
   "source": [
    "# 1. Sum of N Natural Numbers (For Loop)\n",
    "### Write a Python program to calculate the sum of the first n natural numbers using a for loop. Example: Input: 5 Output: 15"
   ]
  },
  {
   "cell_type": "code",
   "execution_count": 55,
   "id": "147d4b76-99c4-4ba1-b71b-deb3678a4e6d",
   "metadata": {
    "scrolled": true
   },
   "outputs": [
    {
     "name": "stdin",
     "output_type": "stream",
     "text": [
      "Enter the number till which you want the sum 3\n"
     ]
    },
    {
     "name": "stdout",
     "output_type": "stream",
     "text": [
      "0\n",
      "1\n",
      "2\n",
      "3\n",
      "The sum of the number 3 is 6\n"
     ]
    }
   ],
   "source": [
    "num=int(input('Enter the number till which you want the sum'))\n",
    "sum=0\n",
    "for i in range(num+1):\n",
    "    print(i)\n",
    "    sum=sum+i\n",
    "print(f'The sum of the number {num} is {sum}')"
   ]
  },
  {
   "cell_type": "markdown",
   "id": "6db7ab28-1266-481c-a3b5-450edf503774",
   "metadata": {},
   "source": [
    "# 2. Factorial Calculation (While Loop)\n",
    "### Write a Python program to find the factorial of a given number using a while loop. Example: Input: 4 Output: 24"
   ]
  },
  {
   "cell_type": "code",
   "execution_count": 67,
   "id": "6746f86f-c85f-4ef8-9e0c-d811b8459d4c",
   "metadata": {},
   "outputs": [
    {
     "name": "stdin",
     "output_type": "stream",
     "text": [
      "Enter the number till which you want the Factorial 4\n"
     ]
    },
    {
     "name": "stdout",
     "output_type": "stream",
     "text": [
      "24\n"
     ]
    }
   ],
   "source": [
    "num1=int(input('Enter the number till which you want the Factorial'))\n",
    "factorial=1\n",
    "for i in range(1,num1+1):\n",
    "    factorial=factorial*i\n",
    "print(factorial)"
   ]
  },
  {
   "cell_type": "code",
   "execution_count": 69,
   "id": "442781d4-79b2-4ea0-9c73-25504950b323",
   "metadata": {},
   "outputs": [
    {
     "data": {
      "text/plain": [
       "'\\n\\nQUESTION\\n----------\\n\\n3. Multiplication Table (For Loop)\\nWrite a Python program that prints the multiplication table of a given number using a for loop. Example: Input: 3 Output:\\n\\n4. Reverse a String (While Loop)\\nWrite a Python program that reverses a given string using a while loop. Example: Input: \"hello\" Output: \"olleh\"\\n\\n5. Check for Prime Number (For Loop)\\nWrite a Python program that checks if a given number is prime or not using a for loop. Example: Input: 7 Output: \"7 is a prime number.\"\\n'"
      ]
     },
     "execution_count": 69,
     "metadata": {},
     "output_type": "execute_result"
    }
   ],
   "source": [
    "'''\n",
    "\n",
    "QUESTION\n",
    "----------\n",
    "\n",
    "3. Multiplication Table (For Loop)\n",
    "Write a Python program that prints the multiplication table of a given number using a for loop. Example: Input: 3 Output:\n",
    "\n",
    "4. Reverse a String (While Loop)\n",
    "Write a Python program that reverses a given string using a while loop. Example: Input: \"hello\" Output: \"olleh\"\n",
    "\n",
    "5. Check for Prime Number (For Loop)\n",
    "Write a Python program that checks if a given number is prime or not using a for loop. Example: Input: 7 Output: \"7 is a prime number.\"\n",
    "'''"
   ]
  },
  {
   "cell_type": "markdown",
   "id": "0b00754f-8eb9-4e3b-bf94-1b660da29bf8",
   "metadata": {},
   "source": [
    "# 4. Reverse a String (While Loop)\n",
    "### Write a Python program that reverses a given string using a while loop. Example: Input: \"hello\" Output: \"olleh\"\n"
   ]
  },
  {
   "cell_type": "code",
   "execution_count": 5,
   "id": "bb08bfa1-a9a3-40af-83cd-49d72a2b55bb",
   "metadata": {},
   "outputs": [
    {
     "name": "stdin",
     "output_type": "stream",
     "text": [
      "Enter the string that you want to reverse :  hello\n"
     ]
    },
    {
     "name": "stdout",
     "output_type": "stream",
     "text": [
      "h\n",
      "eh\n",
      "leh\n",
      "lleh\n",
      "olleh\n",
      "So the final reverse answer is olleh\n"
     ]
    }
   ],
   "source": [
    "# for loop \n",
    "string = input('Enter the string that you want to reverse : ')\n",
    "e_str = \"\"\n",
    "for i in string:\n",
    "    e_str = i+e_str\n",
    "    print(e_str)\n",
    "print(f'So the final reverse answer is {e_str}')"
   ]
  },
  {
   "cell_type": "code",
   "execution_count": 7,
   "id": "4fe33b71-d31f-45fe-b653-61682671f89e",
   "metadata": {},
   "outputs": [
    {
     "name": "stdin",
     "output_type": "stream",
     "text": [
      "Enter the string that you want to reverse :  hello\n"
     ]
    },
    {
     "name": "stdout",
     "output_type": "stream",
     "text": [
      "h\n",
      "eh\n",
      "leh\n",
      "lleh\n",
      "olleh\n",
      "So the final reverse answer is olleh\n"
     ]
    }
   ],
   "source": [
    "#while loop\n",
    "string = input('Enter the string that you want to reverse : ')\n",
    "e_str = \"\"\n",
    "a=0\n",
    "while a<len(string):\n",
    "    e_str = string[a]+e_str\n",
    "    a+=1\n",
    "    print(e_str)\n",
    "print(f'So the final reverse answer is {e_str}')"
   ]
  },
  {
   "cell_type": "markdown",
   "id": "994d37f6-9ca8-424c-b1c8-c41023e26434",
   "metadata": {},
   "source": [
    "# Break and Continue \n",
    "### Continue is like skip"
   ]
  },
  {
   "cell_type": "code",
   "execution_count": 1,
   "id": "6f7bde5f-ea19-4f9d-ba08-37f2a26194af",
   "metadata": {},
   "outputs": [
    {
     "name": "stdout",
     "output_type": "stream",
     "text": [
      "0\n",
      "1\n",
      "2\n",
      "4\n",
      "5\n",
      "6\n",
      "7\n",
      "8\n",
      "9\n"
     ]
    }
   ],
   "source": [
    "a=0\n",
    "while a<10:\n",
    "    if a==3:\n",
    "        a+=1\n",
    "        continue\n",
    "    else:\n",
    "        #print(a)\n",
    "        print(f'{a}')\n",
    "        a=a+1"
   ]
  },
  {
   "cell_type": "code",
   "execution_count": null,
   "id": "33c8d43d-4bab-4d4c-8279-0a519a2a0dbf",
   "metadata": {},
   "outputs": [],
   "source": []
  }
 ],
 "metadata": {
  "kernelspec": {
   "display_name": "Python 3 (ipykernel)",
   "language": "python",
   "name": "python3"
  },
  "language_info": {
   "codemirror_mode": {
    "name": "ipython",
    "version": 3
   },
   "file_extension": ".py",
   "mimetype": "text/x-python",
   "name": "python",
   "nbconvert_exporter": "python",
   "pygments_lexer": "ipython3",
   "version": "3.12.4"
  }
 },
 "nbformat": 4,
 "nbformat_minor": 5
}
