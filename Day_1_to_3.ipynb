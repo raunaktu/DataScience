{
 "cells": [
  {
   "cell_type": "markdown",
   "id": "59116fb3-541e-43b1-8077-0a5c21713631",
   "metadata": {},
   "source": [
    "# INPUT OUTPUT"
   ]
  },
  {
   "cell_type": "code",
   "execution_count": 33,
   "id": "1886853c-2260-4d31-9fa0-0d0df3a87335",
   "metadata": {},
   "outputs": [
    {
     "name": "stdin",
     "output_type": "stream",
     "text": [
      "What's your name? RAUNAK\n"
     ]
    },
    {
     "name": "stdout",
     "output_type": "stream",
     "text": [
      "Hello RAUNAK\n"
     ]
    }
   ],
   "source": [
    "name = input ('What\\'s your name?')\n",
    "\n",
    "print ('Hello', name)"
   ]
  },
  {
   "cell_type": "markdown",
   "id": "6e974ac7-857e-4bff-ac57-09a30deb17c7",
   "metadata": {},
   "source": [
    "# DYNAMIC TYPE AND STRONGLY TYPE"
   ]
  },
  {
   "cell_type": "markdown",
   "id": "4341bf6b-11ca-4219-90b5-d3ed72e52363",
   "metadata": {},
   "source": [
    "a = 11\n",
    "b = 'Test'\n",
    "c = 3.5\n",
    "d = True"
   ]
  },
  {
   "cell_type": "code",
   "execution_count": 10,
   "id": "4cb2ab1f-cc56-4119-9856-0850255d7c42",
   "metadata": {},
   "outputs": [
    {
     "data": {
      "text/plain": [
       "int"
      ]
     },
     "execution_count": 10,
     "metadata": {},
     "output_type": "execute_result"
    }
   ],
   "source": [
    "type (a)"
   ]
  },
  {
   "cell_type": "markdown",
   "id": "457576a6-ea8e-4915-9f1e-5a0825aabd88",
   "metadata": {},
   "source": [
    "# DATA TYPE"
   ]
  },
  {
   "cell_type": "code",
   "execution_count": 1,
   "id": "ad5d3bf3-ba78-4982-be3c-250b74f55aeb",
   "metadata": {},
   "outputs": [],
   "source": [
    "a='999'\n",
    "b=257\n",
    "c=5+4j\n",
    "d=6.88"
   ]
  },
  {
   "cell_type": "code",
   "execution_count": 3,
   "id": "fcf6f54d-8504-4263-960c-a59ab9ceed00",
   "metadata": {},
   "outputs": [
    {
     "data": {
      "text/plain": [
       "str"
      ]
     },
     "execution_count": 3,
     "metadata": {},
     "output_type": "execute_result"
    }
   ],
   "source": [
    "type(a)"
   ]
  },
  {
   "cell_type": "code",
   "execution_count": 7,
   "id": "fe07647d-4724-4dcf-a57a-51f2157eac81",
   "metadata": {},
   "outputs": [
    {
     "data": {
      "text/plain": [
       "str"
      ]
     },
     "execution_count": 7,
     "metadata": {},
     "output_type": "execute_result"
    }
   ],
   "source": [
    "casting1 = str(c)\n",
    "type(casting1)"
   ]
  },
  {
   "cell_type": "code",
   "execution_count": 13,
   "id": "63f48517-52af-4c3e-a240-9ca7b78c0768",
   "metadata": {},
   "outputs": [
    {
     "data": {
      "text/plain": [
       "int"
      ]
     },
     "execution_count": 13,
     "metadata": {},
     "output_type": "execute_result"
    }
   ],
   "source": [
    "casting3 = int(a)\n",
    "type(casting3)"
   ]
  },
  {
   "cell_type": "markdown",
   "id": "1d2f318f-9c85-46f5-a08a-bf28a5202192",
   "metadata": {},
   "source": [
    "# QUOTATION"
   ]
  },
  {
   "cell_type": "code",
   "execution_count": 75,
   "id": "ab739007-5ad6-4660-abaf-8e69e1cee909",
   "metadata": {},
   "outputs": [],
   "source": [
    "quote1 = \"\"\" BLA BLA BLA BLA .\n",
    "BLA BLA BLA BLA BLA \n",
    "BLA BLA \n",
    "BLA BLA       \n",
    "BLA \"\"\"\n",
    "\n",
    "quote2  = '''ajsdlfsjlkdfjl\n",
    "ajlsfj\n",
    "askljfsadf  \n",
    "alskjfl'''"
   ]
  },
  {
   "cell_type": "code",
   "execution_count": 79,
   "id": "9aacd25b-ed98-4920-91ea-cd9e7aeba312",
   "metadata": {},
   "outputs": [
    {
     "name": "stdout",
     "output_type": "stream",
     "text": [
      "ajsdlfsjlkdfjl\n",
      "ajlsfj\n",
      "askljfsadf  \n",
      "alskjfl\n"
     ]
    }
   ],
   "source": [
    "print(quote2)"
   ]
  },
  {
   "cell_type": "code",
   "execution_count": 5,
   "id": "6611a2a0-741b-4f49-9100-c06dda56d421",
   "metadata": {},
   "outputs": [],
   "source": [
    "quote3 = 'asjdfjdaslfsadjflsjladfjlsd'"
   ]
  },
  {
   "cell_type": "markdown",
   "id": "9d1fa3da-5ba1-430a-98a4-e47675d36c54",
   "metadata": {},
   "source": [
    "# SUM"
   ]
  },
  {
   "cell_type": "code",
   "execution_count": 93,
   "id": "a68e1b1c-cee9-4517-9ef6-c3f84b52d220",
   "metadata": {},
   "outputs": [
    {
     "name": "stdout",
     "output_type": "stream",
     "text": [
      "6\n"
     ]
    }
   ],
   "source": [
    "a=1\n",
    "b=2\n",
    "c=3\n",
    "print(a+b+c)"
   ]
  },
  {
   "cell_type": "markdown",
   "id": "0e1621df-349b-48c3-98a3-e7aeb30b701c",
   "metadata": {},
   "source": [
    "# ARRAY"
   ]
  },
  {
   "cell_type": "code",
   "execution_count": 15,
   "id": "9cf88f88-d8fd-464f-a805-cf71be967d84",
   "metadata": {},
   "outputs": [],
   "source": [
    "abc = \"My name is Raunak Ratna Tuladhar\""
   ]
  },
  {
   "cell_type": "code",
   "execution_count": 17,
   "id": "d3b4145c-717a-4ae9-a827-9095a42877d1",
   "metadata": {},
   "outputs": [
    {
     "data": {
      "text/plain": [
       "'M'"
      ]
     },
     "execution_count": 17,
     "metadata": {},
     "output_type": "execute_result"
    }
   ],
   "source": [
    "abc[0]"
   ]
  },
  {
   "cell_type": "code",
   "execution_count": 97,
   "id": "c684f239-4fbd-48e7-9f7e-d616f6de9cde",
   "metadata": {},
   "outputs": [
    {
     "data": {
      "text/plain": [
       "'Raunak'"
      ]
     },
     "execution_count": 97,
     "metadata": {},
     "output_type": "execute_result"
    }
   ],
   "source": [
    "abc[11:17]"
   ]
  },
  {
   "cell_type": "code",
   "execution_count": 97,
   "id": "772cfe24-c061-4018-a831-3dea1187ffa6",
   "metadata": {},
   "outputs": [
    {
     "data": {
      "text/plain": [
       "'My name is Raunak Ratna Tuladhar'"
      ]
     },
     "execution_count": 97,
     "metadata": {},
     "output_type": "execute_result"
    }
   ],
   "source": [
    "abc[0:33]"
   ]
  },
  {
   "cell_type": "markdown",
   "id": "b22d8848-4f1b-4835-80f6-4d906d6fa1d7",
   "metadata": {},
   "source": [
    "# SINGLE POSITION"
   ]
  },
  {
   "cell_type": "code",
   "execution_count": 101,
   "id": "6fd78343-166b-45df-8aed-8975dc3a1c3c",
   "metadata": {},
   "outputs": [
    {
     "data": {
      "text/plain": [
       "'My name is Raunak Ratna Tuladhar'"
      ]
     },
     "execution_count": 101,
     "metadata": {},
     "output_type": "execute_result"
    }
   ],
   "source": [
    "abc[:]"
   ]
  },
  {
   "cell_type": "code",
   "execution_count": 115,
   "id": "60bc0afa-dc13-48cb-9009-bf59b256d684",
   "metadata": {},
   "outputs": [
    {
     "data": {
      "text/plain": [
       "'My name is'"
      ]
     },
     "execution_count": 115,
     "metadata": {},
     "output_type": "execute_result"
    }
   ],
   "source": [
    "abc[:10]"
   ]
  },
  {
   "cell_type": "code",
   "execution_count": 113,
   "id": "920e1c06-17c4-4c88-9a98-abdf0103d77a",
   "metadata": {},
   "outputs": [
    {
     "data": {
      "text/plain": [
       "'Raunak Ratna Tuladhar'"
      ]
     },
     "execution_count": 113,
     "metadata": {},
     "output_type": "execute_result"
    }
   ],
   "source": [
    "abc[11:]"
   ]
  },
  {
   "cell_type": "markdown",
   "id": "5910ed00-8da5-41ab-9935-7219d05aa04c",
   "metadata": {},
   "source": [
    "# NEGATIVE INDEXING"
   ]
  },
  {
   "cell_type": "code",
   "execution_count": 63,
   "id": "e565683b-4413-46a7-9dca-65a5fc47ad15",
   "metadata": {},
   "outputs": [
    {
     "data": {
      "text/plain": [
       "'Raunak'"
      ]
     },
     "execution_count": 63,
     "metadata": {},
     "output_type": "execute_result"
    }
   ],
   "source": [
    "abc[-21:-15]"
   ]
  },
  {
   "cell_type": "code",
   "execution_count": 73,
   "id": "61c7f11a-d964-45bb-b156-479e37a1add1",
   "metadata": {},
   "outputs": [
    {
     "data": {
      "text/plain": [
       "'Tuladha'"
      ]
     },
     "execution_count": 73,
     "metadata": {},
     "output_type": "execute_result"
    }
   ],
   "source": [
    "#you cannot give 0 in this case. It will give error\n",
    "abc[-8:-1]"
   ]
  },
  {
   "cell_type": "code",
   "execution_count": 75,
   "id": "c787e2ca-c4ac-4b7c-b22e-fa43499aca22",
   "metadata": {},
   "outputs": [
    {
     "data": {
      "text/plain": [
       "'Tuladhar'"
      ]
     },
     "execution_count": 75,
     "metadata": {},
     "output_type": "execute_result"
    }
   ],
   "source": [
    "#So you need to use the below\n",
    "abc[-8:]"
   ]
  },
  {
   "cell_type": "markdown",
   "id": "084ea24e-2f80-44cc-b208-7d89f467bc60",
   "metadata": {},
   "source": [
    "# MODIFY STRINGS"
   ]
  },
  {
   "cell_type": "code",
   "execution_count": 17,
   "id": "dc4c116e-4f1a-47c6-8c62-8b1da3aa8af1",
   "metadata": {},
   "outputs": [
    {
     "name": "stdout",
     "output_type": "stream",
     "text": [
      "    I live in Kathmandu & I am working as manager in Hotel Hilton     \n"
     ]
    }
   ],
   "source": [
    "a = '    I live in Kathmandu & I am working as manager in Hotel Hilton     '\n",
    "print(a)"
   ]
  },
  {
   "cell_type": "code",
   "execution_count": 19,
   "id": "b2408382-bb3f-46f6-af69-261667f94a70",
   "metadata": {},
   "outputs": [
    {
     "data": {
      "text/plain": [
       "'    I LIVE IN KATHMANDU & I AM WORKING AS MANAGER IN HOTEL HILTON     '"
      ]
     },
     "execution_count": 19,
     "metadata": {},
     "output_type": "execute_result"
    }
   ],
   "source": [
    "a.upper()"
   ]
  },
  {
   "cell_type": "code",
   "execution_count": 21,
   "id": "11747a5b-b706-4b4b-8403-75d8887f972d",
   "metadata": {},
   "outputs": [
    {
     "data": {
      "text/plain": [
       "'    i live in kathmandu & i am working as manager in hotel hilton     '"
      ]
     },
     "execution_count": 21,
     "metadata": {},
     "output_type": "execute_result"
    }
   ],
   "source": [
    "a.lower()"
   ]
  },
  {
   "cell_type": "code",
   "execution_count": 23,
   "id": "2360decb-089d-433c-b918-91aaea1e4151",
   "metadata": {},
   "outputs": [
    {
     "name": "stdout",
     "output_type": "stream",
     "text": [
      "    i live in kathmandu & i am working as manager in hotel hilton     \n"
     ]
    }
   ],
   "source": [
    "def lower(x):\n",
    "    print(x.lower())\n",
    "\n",
    "lower(a)"
   ]
  },
  {
   "cell_type": "code",
   "execution_count": 25,
   "id": "38018759-7637-4820-94c1-14087f4c4189",
   "metadata": {},
   "outputs": [
    {
     "name": "stdout",
     "output_type": "stream",
     "text": [
      "I live in Kathmandu & I am working as manager in Hotel Hilton\n"
     ]
    }
   ],
   "source": [
    "a=a.strip()\n",
    "print (a)"
   ]
  },
  {
   "cell_type": "code",
   "execution_count": 27,
   "id": "1c26b7c1-756f-469a-954b-78d292673cbd",
   "metadata": {},
   "outputs": [
    {
     "data": {
      "text/plain": [
       "'I live in Pokhara & I am working as manager in Hotel Hilton'"
      ]
     },
     "execution_count": 27,
     "metadata": {},
     "output_type": "execute_result"
    }
   ],
   "source": [
    "a.replace('Kathmandu', 'Pokhara')"
   ]
  },
  {
   "cell_type": "code",
   "execution_count": 29,
   "id": "44f836d7-7178-48b1-90d2-3968a2329603",
   "metadata": {},
   "outputs": [
    {
     "data": {
      "text/plain": [
       "['I',\n",
       " 'live',\n",
       " 'in',\n",
       " 'Kathmandu',\n",
       " '&',\n",
       " 'I',\n",
       " 'am',\n",
       " 'working',\n",
       " 'as',\n",
       " 'manager',\n",
       " 'in',\n",
       " 'Hotel',\n",
       " 'Hilton']"
      ]
     },
     "execution_count": 29,
     "metadata": {},
     "output_type": "execute_result"
    }
   ],
   "source": [
    "a.split()"
   ]
  },
  {
   "cell_type": "code",
   "execution_count": 31,
   "id": "47e068fc-fffd-4b93-b46c-aa8378fdffa0",
   "metadata": {},
   "outputs": [
    {
     "data": {
      "text/plain": [
       "['I live in Kathmandu ', ' I am working as manager in Hotel Hilton']"
      ]
     },
     "execution_count": 31,
     "metadata": {},
     "output_type": "execute_result"
    }
   ],
   "source": [
    "a.split('&')"
   ]
  },
  {
   "cell_type": "code",
   "execution_count": 33,
   "id": "577c2767-068e-4bf8-ad09-f1eeeca7d390",
   "metadata": {},
   "outputs": [
    {
     "data": {
      "text/plain": [
       "'I live in kathmandu & i am working as manager in hotel hilton'"
      ]
     },
     "execution_count": 33,
     "metadata": {},
     "output_type": "execute_result"
    }
   ],
   "source": [
    "a.capitalize()"
   ]
  },
  {
   "cell_type": "code",
   "execution_count": 37,
   "id": "d1e6c781-a30c-4153-b936-32886755b30d",
   "metadata": {},
   "outputs": [
    {
     "data": {
      "text/plain": [
       "'                   I live in Kathmandu & I am working as manager in Hotel Hilton                    '"
      ]
     },
     "execution_count": 37,
     "metadata": {},
     "output_type": "execute_result"
    }
   ],
   "source": [
    "a.center(100)"
   ]
  },
  {
   "cell_type": "code",
   "execution_count": 22,
   "id": "f4a3da29-7d6b-4fa5-b133-a3b6e75ba62d",
   "metadata": {},
   "outputs": [
    {
     "name": "stdout",
     "output_type": "stream",
     "text": [
      "Help on built-in function split:\n",
      "\n",
      "split(sep=None, maxsplit=-1) method of builtins.str instance\n",
      "    Return a list of the substrings in the string, using sep as the separator string.\n",
      "\n",
      "      sep\n",
      "        The separator used to split the string.\n",
      "\n",
      "        When set to None (the default value), will split on any whitespace\n",
      "        character (including \\n \\r \\t \\f and spaces) and will discard\n",
      "        empty strings from the result.\n",
      "      maxsplit\n",
      "        Maximum number of splits.\n",
      "        -1 (the default value) means no limit.\n",
      "\n",
      "    Splitting starts at the front of the string and works to the end.\n",
      "\n",
      "    Note, str.split() is mainly useful for data that has been intentionally\n",
      "    delimited.  With natural text that includes punctuation, consider using\n",
      "    the regular expression module.\n",
      "\n"
     ]
    }
   ],
   "source": [
    "help(a.split)"
   ]
  },
  {
   "cell_type": "code",
   "execution_count": 22,
   "id": "6fcf5c62-200f-453c-9f00-b681198df562",
   "metadata": {},
   "outputs": [
    {
     "name": "stdout",
     "output_type": "stream",
     "text": [
      "Help on built-in function pow in module builtins:\n",
      "\n",
      "pow(base, exp, mod=None)\n",
      "    Equivalent to base**exp with 2 arguments or base**exp % mod with 3 arguments\n",
      "\n",
      "    Some types, such as ints, are able to use a more efficient algorithm when\n",
      "    invoked using the three argument form.\n",
      "\n"
     ]
    }
   ],
   "source": [
    "help(pow)"
   ]
  },
  {
   "cell_type": "markdown",
   "id": "477ee836-2916-472e-a4c8-0e03fef71726",
   "metadata": {},
   "source": [
    "# CONCATENATION"
   ]
  },
  {
   "cell_type": "code",
   "execution_count": 7,
   "id": "adfed23c-0a21-4d63-9577-0adcc552c93b",
   "metadata": {},
   "outputs": [
    {
     "name": "stdout",
     "output_type": "stream",
     "text": [
      "Hello World\n"
     ]
    }
   ],
   "source": [
    "a = 'Hello '\n",
    "b = 'World'\n",
    "c=a+b\n",
    "print(c)"
   ]
  },
  {
   "cell_type": "markdown",
   "id": "5dc17b08-3bcf-4838-bc32-7ff2da1a0b25",
   "metadata": {},
   "source": [
    "# STRING FORMAT"
   ]
  },
  {
   "cell_type": "code",
   "execution_count": 32,
   "id": "c61c8cb1-92dc-451e-a557-3df2cf7348c6",
   "metadata": {},
   "outputs": [
    {
     "name": "stdout",
     "output_type": "stream",
     "text": [
      "My percentage in the exam was more than  90\n"
     ]
    }
   ],
   "source": [
    "A = 'My percentage in exam was more than '\n",
    "per = 90.123213123213\n",
    "added_text1 = f'My percentage in the exam was more than  {per}'\n",
    "print(added_text)"
   ]
  },
  {
   "cell_type": "code",
   "execution_count": 43,
   "id": "58efbeb6-e802-4bc6-b8a7-8c5265bb6377",
   "metadata": {
    "scrolled": true
   },
   "outputs": [
    {
     "data": {
      "text/plain": [
       "'My percentage in the exam was more than  90.12'"
      ]
     },
     "execution_count": 43,
     "metadata": {},
     "output_type": "execute_result"
    }
   ],
   "source": [
    "added_text2 = f'My percentage in the exam was more than  {per:.2f}'\n",
    "added_text2"
   ]
  },
  {
   "cell_type": "markdown",
   "id": "d6c81148-43b0-4e64-9797-a0b37080a3ff",
   "metadata": {},
   "source": [
    "# ESCAPE CHARACTER"
   ]
  },
  {
   "cell_type": "code",
   "execution_count": 51,
   "id": "3e914c0b-16f5-4c67-8d90-7933ee4a21fc",
   "metadata": {},
   "outputs": [
    {
     "data": {
      "text/plain": [
       "\"She is Ram's Mother\""
      ]
     },
     "execution_count": 51,
     "metadata": {},
     "output_type": "execute_result"
    }
   ],
   "source": [
    "# Single Quotation Escape Way or use triple quote like below\n",
    "'''\n",
    "This is not recommended as it takes memory and stores\n",
    "'''\n",
    "\n",
    "abc = 'She is Ram\\'s Mother'\n",
    "abc"
   ]
  },
  {
   "cell_type": "code",
   "execution_count": 15,
   "id": "c78477a6-5cee-4ab0-96fb-fbd8d133fbef",
   "metadata": {},
   "outputs": [
    {
     "name": "stdout",
     "output_type": "stream",
     "text": [
      "She is Ram's Mother \n",
      "Her mother's name is Lisa\n"
     ]
    }
   ],
   "source": [
    "abc = 'She is Ram\\'s Mother \\nHer mother\\'s name is Lisa'\n",
    "print(abc)"
   ]
  },
  {
   "cell_type": "markdown",
   "id": "03e7d4fb-92ba-467f-a312-486e0539a805",
   "metadata": {},
   "source": [
    "# BOOLEAN VALUE"
   ]
  },
  {
   "cell_type": "code",
   "execution_count": 41,
   "id": "8d46c55e-a553-403f-a6ae-38a7e4c2d104",
   "metadata": {},
   "outputs": [
    {
     "name": "stdout",
     "output_type": "stream",
     "text": [
      "True\n"
     ]
    }
   ],
   "source": [
    "print (3<20)"
   ]
  },
  {
   "cell_type": "code",
   "execution_count": 43,
   "id": "860a365e-66e9-4631-b3ac-b959224a086c",
   "metadata": {},
   "outputs": [
    {
     "name": "stdout",
     "output_type": "stream",
     "text": [
      "False\n"
     ]
    }
   ],
   "source": [
    "print (3>20)"
   ]
  },
  {
   "cell_type": "code",
   "execution_count": 3,
   "id": "c2c51d4a-a365-41d0-8b1b-c76c016dd36c",
   "metadata": {},
   "outputs": [
    {
     "name": "stdout",
     "output_type": "stream",
     "text": [
      "4\n"
     ]
    }
   ],
   "source": [
    "# Generates Random variable every time. Please try it yourself :)\n",
    "\n",
    "import random\n",
    "print (random.randrange(1,50))"
   ]
  },
  {
   "cell_type": "code",
   "execution_count": 23,
   "id": "f205870e-562a-45a1-90bc-c8f41aa7f361",
   "metadata": {},
   "outputs": [
    {
     "name": "stdout",
     "output_type": "stream",
     "text": [
      "11\n"
     ]
    }
   ],
   "source": [
    "# Generates Random variable every time. Please try it yourself :)\n",
    "\n",
    "import random\n",
    "print (random.randint(1,50))"
   ]
  },
  {
   "cell_type": "markdown",
   "id": "325fac6f-9be1-4fad-b037-e9f87511c89a",
   "metadata": {},
   "source": [
    "# PYTHON OPERATOR"
   ]
  },
  {
   "cell_type": "code",
   "execution_count": 41,
   "id": "e67972c8-3e87-4e26-b8c9-32e47a76ad33",
   "metadata": {},
   "outputs": [
    {
     "data": {
      "text/plain": [
       "16"
      ]
     },
     "execution_count": 41,
     "metadata": {},
     "output_type": "execute_result"
    }
   ],
   "source": [
    "a=11\n",
    "b=5\n",
    "a+b"
   ]
  },
  {
   "cell_type": "code",
   "execution_count": 43,
   "id": "0c124714-648c-43ed-943b-e1382c314c83",
   "metadata": {},
   "outputs": [
    {
     "data": {
      "text/plain": [
       "6"
      ]
     },
     "execution_count": 43,
     "metadata": {},
     "output_type": "execute_result"
    }
   ],
   "source": [
    "a-b"
   ]
  },
  {
   "cell_type": "code",
   "execution_count": 45,
   "id": "abc52e2f-5903-44fb-9693-a03835cc4596",
   "metadata": {},
   "outputs": [
    {
     "data": {
      "text/plain": [
       "55"
      ]
     },
     "execution_count": 45,
     "metadata": {},
     "output_type": "execute_result"
    }
   ],
   "source": [
    "a*b"
   ]
  },
  {
   "cell_type": "code",
   "execution_count": 47,
   "id": "e1344305-16c0-403e-a892-9313c40f3a23",
   "metadata": {},
   "outputs": [
    {
     "data": {
      "text/plain": [
       "2.2"
      ]
     },
     "execution_count": 47,
     "metadata": {},
     "output_type": "execute_result"
    }
   ],
   "source": [
    "a/b"
   ]
  },
  {
   "cell_type": "code",
   "execution_count": 49,
   "id": "78fd1e24-392a-4083-ae88-cdd732b02799",
   "metadata": {},
   "outputs": [
    {
     "data": {
      "text/plain": [
       "1"
      ]
     },
     "execution_count": 49,
     "metadata": {},
     "output_type": "execute_result"
    }
   ],
   "source": [
    "a%b"
   ]
  },
  {
   "cell_type": "code",
   "execution_count": 51,
   "id": "c394d962-3dd3-46cf-b2df-b8216a1bf304",
   "metadata": {},
   "outputs": [
    {
     "data": {
      "text/plain": [
       "161051"
      ]
     },
     "execution_count": 51,
     "metadata": {},
     "output_type": "execute_result"
    }
   ],
   "source": [
    "a**b"
   ]
  },
  {
   "cell_type": "code",
   "execution_count": 53,
   "id": "58c8d0ca-ca1e-40ff-9884-3b26ef646791",
   "metadata": {},
   "outputs": [
    {
     "data": {
      "text/plain": [
       "2"
      ]
     },
     "execution_count": 53,
     "metadata": {},
     "output_type": "execute_result"
    }
   ],
   "source": [
    "a//b"
   ]
  },
  {
   "cell_type": "markdown",
   "id": "c570a33c-454f-4c8c-a45c-383435c10dc8",
   "metadata": {},
   "source": [
    "## PYTHON ASSIGNMENT OPERATOR"
   ]
  },
  {
   "cell_type": "code",
   "execution_count": 88,
   "id": "7d255015-d921-400e-8c0f-2ef1a419c2ab",
   "metadata": {},
   "outputs": [
    {
     "data": {
      "text/plain": [
       "10"
      ]
     },
     "execution_count": 88,
     "metadata": {},
     "output_type": "execute_result"
    }
   ],
   "source": [
    "a=5\n",
    "a=a+5\n",
    "a"
   ]
  },
  {
   "cell_type": "code",
   "execution_count": 90,
   "id": "297d28b0-ee8c-40c4-952b-6207a5f383f5",
   "metadata": {},
   "outputs": [
    {
     "data": {
      "text/plain": [
       "15"
      ]
     },
     "execution_count": 90,
     "metadata": {},
     "output_type": "execute_result"
    }
   ],
   "source": [
    "# You can write above in another way like below\n",
    "\n",
    "a+=5\n",
    "\n",
    "a"
   ]
  },
  {
   "cell_type": "markdown",
   "id": "04a2473d-3c1c-4355-bb3e-3fcbdbdd3aa3",
   "metadata": {},
   "source": [
    "# COMPARISON OPERATOR"
   ]
  },
  {
   "cell_type": "code",
   "execution_count": 105,
   "id": "e97193cd-2fe9-4077-9720-8171b3c69f45",
   "metadata": {},
   "outputs": [
    {
     "data": {
      "text/plain": [
       "False"
      ]
     },
     "execution_count": 105,
     "metadata": {},
     "output_type": "execute_result"
    }
   ],
   "source": [
    "a =50\n",
    "b= 60\n",
    "a==b"
   ]
  },
  {
   "cell_type": "code",
   "execution_count": 107,
   "id": "f1ac9bc4-b04f-4849-a5ed-882fe99ad09a",
   "metadata": {},
   "outputs": [
    {
     "data": {
      "text/plain": [
       "True"
      ]
     },
     "execution_count": 107,
     "metadata": {},
     "output_type": "execute_result"
    }
   ],
   "source": [
    "a!=b"
   ]
  },
  {
   "cell_type": "code",
   "execution_count": 109,
   "id": "d9c9797c-1b3a-430f-bcdd-fc31f9e78d24",
   "metadata": {},
   "outputs": [
    {
     "data": {
      "text/plain": [
       "True"
      ]
     },
     "execution_count": 109,
     "metadata": {},
     "output_type": "execute_result"
    }
   ],
   "source": [
    "a<b"
   ]
  },
  {
   "cell_type": "code",
   "execution_count": 113,
   "id": "e14e92dc-236e-400f-a057-b87d69d33dfd",
   "metadata": {},
   "outputs": [
    {
     "data": {
      "text/plain": [
       "False"
      ]
     },
     "execution_count": 113,
     "metadata": {},
     "output_type": "execute_result"
    }
   ],
   "source": [
    "a>b"
   ]
  },
  {
   "cell_type": "markdown",
   "id": "c8ade9cb-6984-4637-bef8-5774f57982d8",
   "metadata": {},
   "source": [
    "# PYTHON LOGICAL OPERATOR"
   ]
  },
  {
   "cell_type": "code",
   "execution_count": 116,
   "id": "666767d6-9134-4905-afa1-a727a9d6a2e2",
   "metadata": {},
   "outputs": [
    {
     "name": "stdout",
     "output_type": "stream",
     "text": [
      "False\n"
     ]
    }
   ],
   "source": [
    "z = 20\n",
    "print(z<10 and z>8)"
   ]
  },
  {
   "cell_type": "code",
   "execution_count": 118,
   "id": "7790a7bb-f883-4f06-a47c-03a36ce96ff9",
   "metadata": {},
   "outputs": [
    {
     "name": "stdout",
     "output_type": "stream",
     "text": [
      "True\n"
     ]
    }
   ],
   "source": [
    "print (z<10 or z>8)"
   ]
  }
 ],
 "metadata": {
  "kernelspec": {
   "display_name": "Python 3 (ipykernel)",
   "language": "python",
   "name": "python3"
  },
  "language_info": {
   "codemirror_mode": {
    "name": "ipython",
    "version": 3
   },
   "file_extension": ".py",
   "mimetype": "text/x-python",
   "name": "python",
   "nbconvert_exporter": "python",
   "pygments_lexer": "ipython3",
   "version": "3.12.4"
  }
 },
 "nbformat": 4,
 "nbformat_minor": 5
}
