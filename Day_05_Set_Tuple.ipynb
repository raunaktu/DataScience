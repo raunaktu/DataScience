{
 "cells": [
  {
   "cell_type": "markdown",
   "id": "36ea72b1-1eb3-4f3f-b93c-cf924e61b44e",
   "metadata": {},
   "source": [
    "# TUPLE"
   ]
  },
  {
   "cell_type": "code",
   "execution_count": 5,
   "id": "8c3fd0cb-7d12-43f4-9f33-47b61a6a9ac0",
   "metadata": {},
   "outputs": [
    {
     "data": {
      "text/plain": [
       "tuple"
      ]
     },
     "execution_count": 5,
     "metadata": {},
     "output_type": "execute_result"
    }
   ],
   "source": [
    "tup = ('Kathmandu', 'Pokhara', 'Dharan', 'Kathmandu', 'Janakpur', 'Biratnagar')\n",
    "type(tup)"
   ]
  },
  {
   "cell_type": "code",
   "execution_count": 24,
   "id": "b653791e-5b1e-41db-8996-f08a597f6087",
   "metadata": {},
   "outputs": [
    {
     "data": {
      "text/plain": [
       "tuple"
      ]
     },
     "execution_count": 24,
     "metadata": {},
     "output_type": "execute_result"
    }
   ],
   "source": [
    "#Another way of creating tuple using inbuilt tuple function\n",
    "tup1 = tuple(('Kathmandu', 'Pokhara', 'Dharan', 'Kathmandu', 'Janakpur', 'Biratnagar'))\n",
    "type(tup1)"
   ]
  },
  {
   "cell_type": "code",
   "execution_count": 7,
   "id": "3f97c968-de3e-414c-bbc8-b0b639f5db2d",
   "metadata": {},
   "outputs": [
    {
     "name": "stdout",
     "output_type": "stream",
     "text": [
      "('Kathmandu', 'Pokhara', 'Dharan', 'Kathmandu', 'Janakpur', 'Biratnagar')\n"
     ]
    }
   ],
   "source": [
    "print(tup)"
   ]
  },
  {
   "cell_type": "markdown",
   "id": "badb7055-74ad-492b-9bb4-918c77e36771",
   "metadata": {},
   "source": [
    "# TUPLE IS INDEXED"
   ]
  },
  {
   "cell_type": "code",
   "execution_count": 10,
   "id": "b39bc658-9fb8-415b-a4f9-e5cdf196f47b",
   "metadata": {},
   "outputs": [
    {
     "data": {
      "text/plain": [
       "'Pokhara'"
      ]
     },
     "execution_count": 10,
     "metadata": {},
     "output_type": "execute_result"
    }
   ],
   "source": [
    "tup[1]"
   ]
  },
  {
   "cell_type": "code",
   "execution_count": 12,
   "id": "2a55328b-c6b9-49e0-9232-fa0657c5b6f0",
   "metadata": {},
   "outputs": [
    {
     "data": {
      "text/plain": [
       "'Janakpur'"
      ]
     },
     "execution_count": 12,
     "metadata": {},
     "output_type": "execute_result"
    }
   ],
   "source": [
    "tup[-2]"
   ]
  },
  {
   "cell_type": "code",
   "execution_count": 28,
   "id": "3bbc9d86-c369-4284-8a23-b123a7a5239d",
   "metadata": {},
   "outputs": [
    {
     "data": {
      "text/plain": [
       "('Dharan', 'Kathmandu')"
      ]
     },
     "execution_count": 28,
     "metadata": {},
     "output_type": "execute_result"
    }
   ],
   "source": [
    "tup[2:-2]"
   ]
  },
  {
   "cell_type": "code",
   "execution_count": 18,
   "id": "a5b7a2df-9bd3-471c-ad10-dbad947a86eb",
   "metadata": {},
   "outputs": [
    {
     "data": {
      "text/plain": [
       "6"
      ]
     },
     "execution_count": 18,
     "metadata": {},
     "output_type": "execute_result"
    }
   ],
   "source": [
    "# Check length of Tuple\n",
    "len(tup)"
   ]
  },
  {
   "cell_type": "code",
   "execution_count": 30,
   "id": "99fada7c-66ef-46c6-a393-1978c368a014",
   "metadata": {},
   "outputs": [
    {
     "name": "stdout",
     "output_type": "stream",
     "text": [
      "Kathmandu\n",
      "Pokhara\n",
      "Dharan\n",
      "Kathmandu\n",
      "Janakpur\n",
      "Biratnagar\n"
     ]
    }
   ],
   "source": [
    "for i in tup:\n",
    "    print(i)"
   ]
  },
  {
   "cell_type": "markdown",
   "id": "5d46a447-ba0f-434d-9de8-1f7148af8ccf",
   "metadata": {},
   "source": [
    "# Tuple is immutable"
   ]
  },
  {
   "cell_type": "code",
   "execution_count": 37,
   "id": "5a8e620b-dbf6-4f27-ac55-0ccfe0a1a05a",
   "metadata": {},
   "outputs": [],
   "source": [
    "# We cannot sort Tuple like list\n",
    "\n",
    "# tup [1] = 'Test'"
   ]
  },
  {
   "cell_type": "code",
   "execution_count": 49,
   "id": "a0c624d1-7106-4739-b3bb-086cf0b76e15",
   "metadata": {},
   "outputs": [
    {
     "data": {
      "text/plain": [
       "list"
      ]
     },
     "execution_count": 49,
     "metadata": {},
     "output_type": "execute_result"
    }
   ],
   "source": [
    "li = list(tup)\n",
    "type(li)"
   ]
  },
  {
   "cell_type": "code",
   "execution_count": 51,
   "id": "b7b83936-4fd3-496e-a3a8-55b143b98599",
   "metadata": {},
   "outputs": [
    {
     "data": {
      "text/plain": [
       "['Kathmandu', 'Pokhara', 'Dharan', 'Kathmandu', 'Janakpur', 'Biratnagar']"
      ]
     },
     "execution_count": 51,
     "metadata": {},
     "output_type": "execute_result"
    }
   ],
   "source": [
    "li"
   ]
  },
  {
   "cell_type": "code",
   "execution_count": 53,
   "id": "4b78ec97-8e7a-4148-89db-5d4ca45bd4dc",
   "metadata": {},
   "outputs": [],
   "source": [
    "li.append('Dhangadi')"
   ]
  },
  {
   "cell_type": "code",
   "execution_count": 55,
   "id": "ec17b581-1644-42b0-9944-009f380df5d0",
   "metadata": {},
   "outputs": [
    {
     "data": {
      "text/plain": [
       "['Kathmandu',\n",
       " 'Pokhara',\n",
       " 'Dharan',\n",
       " 'Kathmandu',\n",
       " 'Janakpur',\n",
       " 'Biratnagar',\n",
       " 'Dhangadi']"
      ]
     },
     "execution_count": 55,
     "metadata": {},
     "output_type": "execute_result"
    }
   ],
   "source": [
    "li"
   ]
  },
  {
   "cell_type": "code",
   "execution_count": 57,
   "id": "e89851e4-a5bf-44f7-820c-9f7cb21fa282",
   "metadata": {},
   "outputs": [
    {
     "name": "stdout",
     "output_type": "stream",
     "text": [
      "['Kathmandu', 'Pokhara', 'Dharan', 'Kathmandu', 'Janakpur', 'Biratnagar', 'Dhangadi']\n"
     ]
    }
   ],
   "source": [
    "tup = li\n",
    "print(tup)"
   ]
  },
  {
   "cell_type": "code",
   "execution_count": 75,
   "id": "bacaaf13-7d00-41a3-85e8-a0f031cfb510",
   "metadata": {},
   "outputs": [
    {
     "data": {
      "text/plain": [
       "tuple"
      ]
     },
     "execution_count": 75,
     "metadata": {},
     "output_type": "execute_result"
    }
   ],
   "source": [
    "tup=tuple(tup)\n",
    "type(tup)"
   ]
  },
  {
   "cell_type": "code",
   "execution_count": 79,
   "id": "0b6aac39-3c10-4c5f-a1ab-8c209ad97c3b",
   "metadata": {},
   "outputs": [
    {
     "name": "stdout",
     "output_type": "stream",
     "text": [
      "('Chitwan', 'Hetauda', 'Kathmandu', 'Pokhara', 'Dharan', 'Kathmandu', 'Janakpur', 'Biratnagar', 'Dhangadi')\n"
     ]
    }
   ],
   "source": [
    "city=('Chitwan','Hetauda')\n",
    "city=city+tup\n",
    "print(city)"
   ]
  },
  {
   "cell_type": "code",
   "execution_count": 84,
   "id": "ac9c11ee-c280-474e-8965-f4c8ec76f7b0",
   "metadata": {},
   "outputs": [
    {
     "data": {
      "text/plain": [
       "tuple"
      ]
     },
     "execution_count": 84,
     "metadata": {},
     "output_type": "execute_result"
    }
   ],
   "source": [
    "type(city)"
   ]
  },
  {
   "cell_type": "markdown",
   "id": "464968b1-9eac-45bb-bef8-cda24216e68e",
   "metadata": {},
   "source": [
    "# unpack"
   ]
  },
  {
   "cell_type": "code",
   "execution_count": 102,
   "id": "710ad8be-166b-4685-985c-3ee292264995",
   "metadata": {},
   "outputs": [],
   "source": [
    "#Assign tuple with values\n",
    "\n",
    "(Chitwan, Hetauda, Kathmandu, Pokhara, Dharan, Kathmandu, Janakpur, Biratnagar, Dhangadi) = ('1','2','3','4','5','6','7','8','9')"
   ]
  },
  {
   "cell_type": "code",
   "execution_count": 104,
   "id": "a8dc6d0b-124c-484b-85b1-e8b2e40f7c48",
   "metadata": {},
   "outputs": [
    {
     "data": {
      "text/plain": [
       "'1'"
      ]
     },
     "execution_count": 104,
     "metadata": {},
     "output_type": "execute_result"
    }
   ],
   "source": [
    "Chitwan"
   ]
  },
  {
   "cell_type": "code",
   "execution_count": 106,
   "id": "de508022-020b-4008-a300-e1db8a493643",
   "metadata": {},
   "outputs": [],
   "source": [
    "(Chitwan, *Hetauda) = ('1','2','3','4','5','6','7','8','9')"
   ]
  },
  {
   "cell_type": "code",
   "execution_count": 108,
   "id": "38ed7915-9f4e-41d1-9299-337b4318f25b",
   "metadata": {},
   "outputs": [
    {
     "data": {
      "text/plain": [
       "['2', '3', '4', '5', '6', '7', '8', '9']"
      ]
     },
     "execution_count": 108,
     "metadata": {},
     "output_type": "execute_result"
    }
   ],
   "source": [
    "Hetauda"
   ]
  },
  {
   "cell_type": "markdown",
   "id": "075b6c97-2254-4169-9ff9-c110a2ad0f95",
   "metadata": {},
   "source": [
    "# LOOPING IN TUPLE"
   ]
  },
  {
   "cell_type": "code",
   "execution_count": 112,
   "id": "6296602e-9cc6-4b2d-bf44-0107391c8b2e",
   "metadata": {},
   "outputs": [
    {
     "name": "stdout",
     "output_type": "stream",
     "text": [
      "Kathmandu\n",
      "Pokhara\n",
      "Dharan\n",
      "Kathmandu\n",
      "Janakpur\n",
      "Biratnagar\n",
      "Dhangadi\n"
     ]
    }
   ],
   "source": [
    "for i in tup:\n",
    "    print(i)"
   ]
  },
  {
   "cell_type": "code",
   "execution_count": 114,
   "id": "6dde85e0-b996-460a-8117-ecb18f153669",
   "metadata": {},
   "outputs": [
    {
     "name": "stdout",
     "output_type": "stream",
     "text": [
      "Kathmandu\n",
      "Pokhara\n",
      "Dharan\n",
      "Kathmandu\n",
      "Janakpur\n",
      "Biratnagar\n",
      "Dhangadi\n"
     ]
    }
   ],
   "source": [
    "for i in range(len(tup)):\n",
    "    print(tup[i])"
   ]
  },
  {
   "cell_type": "code",
   "execution_count": 116,
   "id": "7312a052-8b2e-4307-a616-5d7c316aac4b",
   "metadata": {},
   "outputs": [
    {
     "name": "stdout",
     "output_type": "stream",
     "text": [
      "0\n",
      "1\n",
      "2\n",
      "3\n",
      "4\n",
      "5\n",
      "6\n"
     ]
    }
   ],
   "source": [
    "for i in range(len(tup)):\n",
    "    print(i)"
   ]
  },
  {
   "cell_type": "code",
   "execution_count": 118,
   "id": "d9010d9d-15bc-4aef-969a-bc0e521da846",
   "metadata": {},
   "outputs": [
    {
     "name": "stdout",
     "output_type": "stream",
     "text": [
      "Kathmandu\n",
      "Pokhara\n"
     ]
    }
   ],
   "source": [
    "for i in range(2):\n",
    "    print(tup[i])"
   ]
  },
  {
   "cell_type": "code",
   "execution_count": 120,
   "id": "6f2c6898-2784-420c-99e4-eba27724f054",
   "metadata": {},
   "outputs": [
    {
     "name": "stdout",
     "output_type": "stream",
     "text": [
      "['Kathmandu']\n",
      "['Kathmandu', 'Pokhara']\n",
      "['Kathmandu', 'Pokhara', 'Dharan']\n",
      "['Kathmandu', 'Pokhara', 'Dharan', 'Kathmandu']\n",
      "['Kathmandu', 'Pokhara', 'Dharan', 'Kathmandu', 'Janakpur']\n"
     ]
    }
   ],
   "source": [
    "a = []\n",
    "for i in range(5):\n",
    "    a.append(tup[i])\n",
    "    print(a)"
   ]
  },
  {
   "cell_type": "code",
   "execution_count": 122,
   "id": "c7a9aea0-d7e1-42cd-bddc-57024f441c21",
   "metadata": {},
   "outputs": [
    {
     "name": "stdout",
     "output_type": "stream",
     "text": [
      "('Kathmandu', 'Pokhara', 'Dharan', 'Kathmandu', 'Janakpur', 'Biratnagar', 'Dhangadi', 'Kathmandu', 'Pokhara', 'Dharan', 'Kathmandu', 'Janakpur', 'Biratnagar', 'Dhangadi', 'Kathmandu', 'Pokhara', 'Dharan', 'Kathmandu', 'Janakpur', 'Biratnagar', 'Dhangadi')\n"
     ]
    }
   ],
   "source": [
    "print(tup*3)"
   ]
  },
  {
   "cell_type": "markdown",
   "id": "0d7f54d4-bc52-4b7f-8857-7894e89586c0",
   "metadata": {},
   "source": [
    "# TUPLE METHODS"
   ]
  },
  {
   "cell_type": "code",
   "execution_count": 130,
   "id": "49de1d62-d2e8-4f42-b447-90ecbd88a2fa",
   "metadata": {},
   "outputs": [],
   "source": [
    "# Cannot sort tuple\n",
    "#tuple.sort()"
   ]
  },
  {
   "cell_type": "code",
   "execution_count": 136,
   "id": "f5a75efb-4a1c-4d0b-9836-d124a09b3e5b",
   "metadata": {},
   "outputs": [
    {
     "data": {
      "text/plain": [
       "2"
      ]
     },
     "execution_count": 136,
     "metadata": {},
     "output_type": "execute_result"
    }
   ],
   "source": [
    "tup.count('Kathmandu')"
   ]
  },
  {
   "cell_type": "code",
   "execution_count": 138,
   "id": "1cba7514-a1fb-42a9-ae07-4cb547dc45ca",
   "metadata": {},
   "outputs": [
    {
     "data": {
      "text/plain": [
       "0"
      ]
     },
     "execution_count": 138,
     "metadata": {},
     "output_type": "execute_result"
    }
   ],
   "source": [
    "tup.index('Kathmandu')"
   ]
  },
  {
   "cell_type": "code",
   "execution_count": null,
   "id": "cab84996-bf22-4166-bff1-9d5b931eda2f",
   "metadata": {},
   "outputs": [],
   "source": [
    "# Index for Kathmandu is 0 and 4. But it shows 0. If we need to fetch 4 index, then need to use loop"
   ]
  },
  {
   "cell_type": "code",
   "execution_count": 140,
   "id": "00f98aed-9e56-4e77-aff9-1fc3ee46480a",
   "metadata": {},
   "outputs": [
    {
     "data": {
      "text/plain": [
       "('Kathmandu',\n",
       " 'Pokhara',\n",
       " 'Dharan',\n",
       " 'Kathmandu',\n",
       " 'Janakpur',\n",
       " 'Biratnagar',\n",
       " 'Dhangadi')"
      ]
     },
     "execution_count": 140,
     "metadata": {},
     "output_type": "execute_result"
    }
   ],
   "source": [
    "tup"
   ]
  },
  {
   "cell_type": "markdown",
   "id": "11132191-b5ff-49cf-a7e3-e92299080979",
   "metadata": {},
   "source": [
    "# SET"
   ]
  },
  {
   "cell_type": "code",
   "execution_count": 149,
   "id": "1405a843-35a6-4f20-be2c-2595c98a05fc",
   "metadata": {},
   "outputs": [
    {
     "data": {
      "text/plain": [
       "{24, 45, 66.78, 90}"
      ]
     },
     "execution_count": 149,
     "metadata": {},
     "output_type": "execute_result"
    }
   ],
   "source": [
    "# Does not allow duplicate value in SET. This is the difference between SET, TUPLE, LIST, DICTIONARY\n",
    "a={24,45,66.78,90,90,24,45}\n",
    "a"
   ]
  },
  {
   "cell_type": "code",
   "execution_count": 151,
   "id": "1c677d1a-77d1-4737-9d94-401a20494c3b",
   "metadata": {},
   "outputs": [
    {
     "name": "stdout",
     "output_type": "stream",
     "text": [
      "{24, 66.78, 45, 90}\n"
     ]
    }
   ],
   "source": [
    "# print function does not sort. Not sure why. But without, the result is sorted\n",
    "a={24,45,66.78,90,90,24,45}\n",
    "print(a)"
   ]
  },
  {
   "cell_type": "code",
   "execution_count": 155,
   "id": "8ba751f0-a376-4a8d-97ac-059bdfb81d86",
   "metadata": {},
   "outputs": [
    {
     "data": {
      "text/plain": [
       "4"
      ]
     },
     "execution_count": 155,
     "metadata": {},
     "output_type": "execute_result"
    }
   ],
   "source": [
    "#Only gives unique value length\n",
    "len(a)"
   ]
  },
  {
   "cell_type": "markdown",
   "id": "4f1dc09c-a04e-411e-9509-27175f156fe3",
   "metadata": {},
   "source": [
    "# Access the element"
   ]
  },
  {
   "cell_type": "code",
   "execution_count": 158,
   "id": "24bc3f94-6598-4cf9-969d-58c6386f5c67",
   "metadata": {},
   "outputs": [
    {
     "ename": "TypeError",
     "evalue": "'set' object is not subscriptable",
     "output_type": "error",
     "traceback": [
      "\u001b[0;31m---------------------------------------------------------------------------\u001b[0m",
      "\u001b[0;31mTypeError\u001b[0m                                 Traceback (most recent call last)",
      "Cell \u001b[0;32mIn[158], line 1\u001b[0m\n\u001b[0;32m----> 1\u001b[0m a[\u001b[38;5;241m0\u001b[39m]\n",
      "\u001b[0;31mTypeError\u001b[0m: 'set' object is not subscriptable"
     ]
    }
   ],
   "source": [
    "# Cannot access using index\n",
    "# a[0]"
   ]
  },
  {
   "cell_type": "code",
   "execution_count": 162,
   "id": "e36c61b3-0d23-482d-b03d-188d690c62ca",
   "metadata": {},
   "outputs": [
    {
     "name": "stdout",
     "output_type": "stream",
     "text": [
      "24\n",
      "66.78\n",
      "45\n",
      "90\n"
     ]
    }
   ],
   "source": [
    "for i in a:\n",
    "    print (i)"
   ]
  },
  {
   "cell_type": "markdown",
   "id": "af6fe84f-3ac9-4f99-947a-f6ce2d84ccb2",
   "metadata": {},
   "source": [
    "# VALUE ADDITION IN SET"
   ]
  },
  {
   "cell_type": "code",
   "execution_count": 169,
   "id": "e31bbecd-ddee-4077-a093-4336778f31f6",
   "metadata": {},
   "outputs": [
    {
     "data": {
      "text/plain": [
       "{24, 45, 66.78, 90, 1024}"
      ]
     },
     "execution_count": 169,
     "metadata": {},
     "output_type": "execute_result"
    }
   ],
   "source": [
    "a.add(1024)\n",
    "a"
   ]
  },
  {
   "cell_type": "code",
   "execution_count": 171,
   "id": "6ec1b002-6db6-4b4c-b60b-a42d86a58e36",
   "metadata": {},
   "outputs": [
    {
     "data": {
      "text/plain": [
       "{200, 300, 400, 1050}"
      ]
     },
     "execution_count": 171,
     "metadata": {},
     "output_type": "execute_result"
    }
   ],
   "source": [
    "b={400,300,200,1050}\n",
    "b"
   ]
  },
  {
   "cell_type": "code",
   "execution_count": 175,
   "id": "6d972d99-d791-488a-a36f-56a0626baf9b",
   "metadata": {},
   "outputs": [
    {
     "data": {
      "text/plain": [
       "{24, 45, 66.78, 90, 200, 300, 400, 1024, 1050}"
      ]
     },
     "execution_count": 175,
     "metadata": {},
     "output_type": "execute_result"
    }
   ],
   "source": [
    "a.update(b)\n",
    "a"
   ]
  },
  {
   "cell_type": "code",
   "execution_count": 179,
   "id": "9abcc07d-2e80-451f-b7f5-f35c28401f57",
   "metadata": {},
   "outputs": [],
   "source": [
    "#we cannot do a+b but we should update like above to extend the values of 2 set\n",
    "#a+b"
   ]
  },
  {
   "cell_type": "markdown",
   "id": "9fde95e9-6ecf-4b4b-998b-519d56b156d2",
   "metadata": {},
   "source": [
    "# REMOVE ELEMENT"
   ]
  },
  {
   "cell_type": "code",
   "execution_count": 183,
   "id": "3e1febc7-cd7f-42fe-9e83-99bb54509b03",
   "metadata": {},
   "outputs": [
    {
     "data": {
      "text/plain": [
       "{24, 45, 66.78, 90, 200, 300, 400, 1024}"
      ]
     },
     "execution_count": 183,
     "metadata": {},
     "output_type": "execute_result"
    }
   ],
   "source": [
    "a.remove(1050)\n",
    "a"
   ]
  },
  {
   "cell_type": "code",
   "execution_count": 191,
   "id": "f61e676b-006a-4ec5-aa68-b0baf0232c25",
   "metadata": {},
   "outputs": [
    {
     "data": {
      "text/plain": [
       "{24, 45, 66.78, 90, 200, 300, 400}"
      ]
     },
     "execution_count": 191,
     "metadata": {},
     "output_type": "execute_result"
    }
   ],
   "source": [
    "a.discard(1024)\n",
    "a"
   ]
  },
  {
   "cell_type": "code",
   "execution_count": 193,
   "id": "a9213018-3cbc-4d71-919a-217c905f0c7a",
   "metadata": {},
   "outputs": [
    {
     "data": {
      "text/plain": [
       "66.78"
      ]
     },
     "execution_count": 193,
     "metadata": {},
     "output_type": "execute_result"
    }
   ],
   "source": [
    "a.pop()"
   ]
  },
  {
   "cell_type": "code",
   "execution_count": 195,
   "id": "edc83a6b-cc3b-4234-a4a2-ea49bca3d4f2",
   "metadata": {},
   "outputs": [
    {
     "data": {
      "text/plain": [
       "{24, 45, 90, 200, 300, 400}"
      ]
     },
     "execution_count": 195,
     "metadata": {},
     "output_type": "execute_result"
    }
   ],
   "source": [
    "a"
   ]
  },
  {
   "cell_type": "markdown",
   "id": "2e2390bc-adf9-4b7b-b3c4-d16cc4b1afaf",
   "metadata": {},
   "source": [
    "# DELETE AND CLEAR"
   ]
  },
  {
   "cell_type": "code",
   "execution_count": 198,
   "id": "1a1117a4-08f2-4433-88e6-d1e00e83a809",
   "metadata": {},
   "outputs": [
    {
     "data": {
      "text/plain": [
       "{24, 45, 90, 200, 300, 400}"
      ]
     },
     "execution_count": 198,
     "metadata": {},
     "output_type": "execute_result"
    }
   ],
   "source": [
    "a"
   ]
  },
  {
   "cell_type": "code",
   "execution_count": 200,
   "id": "24fcaed1-f199-46d9-9dd3-62cda85f4f49",
   "metadata": {},
   "outputs": [
    {
     "data": {
      "text/plain": [
       "{200, 300, 400, 1050}"
      ]
     },
     "execution_count": 200,
     "metadata": {},
     "output_type": "execute_result"
    }
   ],
   "source": [
    "b"
   ]
  },
  {
   "cell_type": "code",
   "execution_count": 202,
   "id": "a8cbd220-50e1-4ddf-881e-987a85614821",
   "metadata": {},
   "outputs": [],
   "source": [
    "del a"
   ]
  },
  {
   "cell_type": "code",
   "execution_count": 204,
   "id": "19629394-8c20-4fab-917a-e61cb75ff2f2",
   "metadata": {},
   "outputs": [],
   "source": [
    "b.clear()"
   ]
  },
  {
   "cell_type": "code",
   "execution_count": 206,
   "id": "58e1445c-79a3-4104-a5f6-7318d2b69b54",
   "metadata": {},
   "outputs": [
    {
     "data": {
      "text/plain": [
       "set()"
      ]
     },
     "execution_count": 206,
     "metadata": {},
     "output_type": "execute_result"
    }
   ],
   "source": [
    "b"
   ]
  },
  {
   "cell_type": "code",
   "execution_count": 212,
   "id": "f5d0952f-7e44-4b0e-a7f5-0047b8079830",
   "metadata": {},
   "outputs": [],
   "source": [
    "#Clear variable and everything from memory\n",
    "#a"
   ]
  },
  {
   "cell_type": "markdown",
   "id": "60ac456c-ccf8-4ac2-afcf-5997d7949621",
   "metadata": {},
   "source": [
    "# JOINING IN SET"
   ]
  },
  {
   "cell_type": "code",
   "execution_count": 225,
   "id": "03fc61b2-a2f6-4ca4-a7c7-2e2d7d97a8b7",
   "metadata": {},
   "outputs": [
    {
     "data": {
      "text/plain": [
       "{24, 45, 90, 200, 300, 400, 1050}"
      ]
     },
     "execution_count": 225,
     "metadata": {},
     "output_type": "execute_result"
    }
   ],
   "source": [
    "a = {24, 45, 90, 400}\n",
    "b = {200, 300, 400, 1050}\n",
    "c = (1,2,3,4,'hello')\n",
    "a.union(b)"
   ]
  },
  {
   "cell_type": "code",
   "execution_count": 219,
   "id": "170f4cd5-7d5b-4b34-9ac3-f77f7656d4a8",
   "metadata": {},
   "outputs": [
    {
     "data": {
      "text/plain": [
       "{400}"
      ]
     },
     "execution_count": 219,
     "metadata": {},
     "output_type": "execute_result"
    }
   ],
   "source": [
    "a.intersection(b)"
   ]
  },
  {
   "cell_type": "code",
   "execution_count": 227,
   "id": "b7ce4700-44db-4d5a-aa42-6663cd2c6fe5",
   "metadata": {},
   "outputs": [
    {
     "data": {
      "text/plain": [
       "{1, 2, 24, 3, 4, 400, 45, 90, 'hello'}"
      ]
     },
     "execution_count": 227,
     "metadata": {},
     "output_type": "execute_result"
    }
   ],
   "source": [
    "a.union(c)"
   ]
  },
  {
   "cell_type": "code",
   "execution_count": 229,
   "id": "11c159bb-bc4d-42db-89d6-2dd019646c84",
   "metadata": {},
   "outputs": [
    {
     "data": {
      "text/plain": [
       "{24, 45, 90}"
      ]
     },
     "execution_count": 229,
     "metadata": {},
     "output_type": "execute_result"
    }
   ],
   "source": [
    "a.difference(b)"
   ]
  },
  {
   "cell_type": "code",
   "execution_count": 235,
   "id": "f2f81a45-3801-4823-9ce3-3c1a0e5e97a3",
   "metadata": {},
   "outputs": [
    {
     "data": {
      "text/plain": [
       "{24, 45, 90}"
      ]
     },
     "execution_count": 235,
     "metadata": {},
     "output_type": "execute_result"
    }
   ],
   "source": [
    "# or you can use\n",
    "a-b"
   ]
  },
  {
   "cell_type": "code",
   "execution_count": 231,
   "id": "a4619dee-89d4-477c-8555-fc97feaffbed",
   "metadata": {},
   "outputs": [
    {
     "data": {
      "text/plain": [
       "{24, 45, 90, 400}"
      ]
     },
     "execution_count": 231,
     "metadata": {},
     "output_type": "execute_result"
    }
   ],
   "source": [
    "d=a.copy()\n",
    "d"
   ]
  }
 ],
 "metadata": {
  "kernelspec": {
   "display_name": "Python 3 (ipykernel)",
   "language": "python",
   "name": "python3"
  },
  "language_info": {
   "codemirror_mode": {
    "name": "ipython",
    "version": 3
   },
   "file_extension": ".py",
   "mimetype": "text/x-python",
   "name": "python",
   "nbconvert_exporter": "python",
   "pygments_lexer": "ipython3",
   "version": "3.12.4"
  }
 },
 "nbformat": 4,
 "nbformat_minor": 5
}
