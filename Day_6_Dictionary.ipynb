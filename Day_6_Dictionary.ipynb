{
 "cells": [
  {
   "cell_type": "markdown",
   "id": "5e020341-f912-4c50-85ea-800f9a2f2ea0",
   "metadata": {},
   "source": [
    "# DICTIONARY"
   ]
  },
  {
   "cell_type": "code",
   "execution_count": 13,
   "id": "039513e3-58ee-4298-90c7-a5f4ac05f483",
   "metadata": {},
   "outputs": [
    {
     "data": {
      "text/plain": [
       "dict"
      ]
     },
     "execution_count": 13,
     "metadata": {},
     "output_type": "execute_result"
    }
   ],
   "source": [
    "# we put value in key and pair in the dictionary\n",
    "# Dictionary is mutable\n",
    "\n",
    "dict_age = {\n",
    "    'Ramesh':56,\n",
    "    'Ram':34,\n",
    "    'Sital':80,\n",
    "    'Gita':15,\n",
    "}\n",
    "type(dict_age)"
   ]
  },
  {
   "cell_type": "code",
   "execution_count": 15,
   "id": "84a944d4-e2ea-4d1d-be5c-af07588e4d65",
   "metadata": {},
   "outputs": [
    {
     "name": "stdout",
     "output_type": "stream",
     "text": [
      "{'Ramesh': 56, 'Ram': 34, 'Sital': 80, 'Gita': 15}\n"
     ]
    }
   ],
   "source": [
    "print(dict_age)"
   ]
  },
  {
   "cell_type": "code",
   "execution_count": 17,
   "id": "a7189ee5-ed37-41f4-aa5f-7b8033a93dfe",
   "metadata": {},
   "outputs": [
    {
     "name": "stdout",
     "output_type": "stream",
     "text": [
      "{'Ramesh': 56, 'Ram': 80, 'Sital': 80, 'Gita': 15}\n"
     ]
    }
   ],
   "source": [
    "# Duplicate value get replaced\n",
    "\n",
    "# we put value in key and pair in the dictionary\n",
    "# Dictionary is mutable\n",
    "\n",
    "dict_age = {\n",
    "    'Ramesh':56,\n",
    "    'Ram':34,\n",
    "    'Sital':80,\n",
    "    'Gita':15,\n",
    "    #Duplicate value\n",
    "    'Ram':80\n",
    "}\n",
    "print(dict_age)"
   ]
  },
  {
   "cell_type": "code",
   "execution_count": 19,
   "id": "19cc9766-6078-4317-9204-4d2431648e6e",
   "metadata": {},
   "outputs": [
    {
     "data": {
      "text/plain": [
       "80"
      ]
     },
     "execution_count": 19,
     "metadata": {},
     "output_type": "execute_result"
    }
   ],
   "source": [
    "#Item Access\n",
    "dict_age['Ram']"
   ]
  },
  {
   "cell_type": "code",
   "execution_count": 23,
   "id": "7632d8b8-f8b5-483b-8179-c316b0c654a3",
   "metadata": {},
   "outputs": [
    {
     "data": {
      "text/plain": [
       "4"
      ]
     },
     "execution_count": 23,
     "metadata": {},
     "output_type": "execute_result"
    }
   ],
   "source": [
    "#Check length\n",
    "len(dict_age)"
   ]
  },
  {
   "cell_type": "code",
   "execution_count": 25,
   "id": "d7c2be7f-e6c7-4e43-858f-8c5b92883649",
   "metadata": {},
   "outputs": [
    {
     "data": {
      "text/plain": [
       "dict"
      ]
     },
     "execution_count": 25,
     "metadata": {},
     "output_type": "execute_result"
    }
   ],
   "source": [
    "#Another way to create the dictionary\n",
    "abc=dict(Ramina=67, Pujan=78)\n",
    "type(abc)"
   ]
  },
  {
   "cell_type": "code",
   "execution_count": 27,
   "id": "30621c48-3e7f-4f23-ba2c-d5edd3e5af82",
   "metadata": {},
   "outputs": [
    {
     "name": "stdout",
     "output_type": "stream",
     "text": [
      "{'Ramina': 67, 'Pujan': 78}\n"
     ]
    }
   ],
   "source": [
    "print(abc)"
   ]
  },
  {
   "cell_type": "markdown",
   "id": "5a8414e2-6994-4caf-a317-ca75d2f0c010",
   "metadata": {},
   "source": [
    "# ITEM ACCESS"
   ]
  },
  {
   "cell_type": "code",
   "execution_count": 34,
   "id": "75b254e9-f732-4953-8d84-d74faf9bb595",
   "metadata": {},
   "outputs": [
    {
     "data": {
      "text/plain": [
       "67"
      ]
     },
     "execution_count": 34,
     "metadata": {},
     "output_type": "execute_result"
    }
   ],
   "source": [
    "abc['Ramina']"
   ]
  },
  {
   "cell_type": "code",
   "execution_count": 38,
   "id": "cbb23555-3f5e-488b-b6c8-69344f1e6c57",
   "metadata": {},
   "outputs": [
    {
     "data": {
      "text/plain": [
       "67"
      ]
     },
     "execution_count": 38,
     "metadata": {},
     "output_type": "execute_result"
    }
   ],
   "source": [
    "abc.get('Ramina')"
   ]
  },
  {
   "cell_type": "code",
   "execution_count": 40,
   "id": "e1eb831e-48d3-4b0f-9716-cceba42df170",
   "metadata": {},
   "outputs": [
    {
     "data": {
      "text/plain": [
       "dict_keys(['Ramina', 'Pujan'])"
      ]
     },
     "execution_count": 40,
     "metadata": {},
     "output_type": "execute_result"
    }
   ],
   "source": [
    "#Find the keys only\n",
    "abc.keys()"
   ]
  },
  {
   "cell_type": "code",
   "execution_count": 42,
   "id": "488e344e-c2cf-4e5f-b1a0-202cda1c468c",
   "metadata": {},
   "outputs": [
    {
     "data": {
      "text/plain": [
       "dict_keys(['Ramesh', 'Ram', 'Sital', 'Gita'])"
      ]
     },
     "execution_count": 42,
     "metadata": {},
     "output_type": "execute_result"
    }
   ],
   "source": [
    "dict_age.keys()"
   ]
  },
  {
   "cell_type": "markdown",
   "id": "06bf401d-edbd-4459-b541-cfa2a9f04df3",
   "metadata": {},
   "source": [
    "# ITEMS CHANGABLE"
   ]
  },
  {
   "cell_type": "code",
   "execution_count": 45,
   "id": "72db7354-c54e-454d-a38f-ae4f9458726e",
   "metadata": {},
   "outputs": [
    {
     "data": {
      "text/plain": [
       "{'Ramina': 9000, 'Pujan': 78}"
      ]
     },
     "execution_count": 45,
     "metadata": {},
     "output_type": "execute_result"
    }
   ],
   "source": [
    "#1st way to item add\n",
    "abc['Ramina']=9000\n",
    "abc"
   ]
  },
  {
   "cell_type": "code",
   "execution_count": 47,
   "id": "4a042288-9cee-4f88-be23-4bd4ca97e086",
   "metadata": {},
   "outputs": [
    {
     "data": {
      "text/plain": [
       "{'Ramina': 9, 'Pujan': 78}"
      ]
     },
     "execution_count": 47,
     "metadata": {},
     "output_type": "execute_result"
    }
   ],
   "source": [
    "#Another way for item changable\n",
    "abc.update({'Ramina':9})\n",
    "abc"
   ]
  },
  {
   "cell_type": "code",
   "execution_count": 49,
   "id": "f39aebb5-95b5-4b55-b772-a81f92dfcc0f",
   "metadata": {},
   "outputs": [
    {
     "data": {
      "text/plain": [
       "{'Ramina': 9, 'Pujan': 78, 'Raju': 6}"
      ]
     },
     "execution_count": 49,
     "metadata": {},
     "output_type": "execute_result"
    }
   ],
   "source": [
    "#New value add\n",
    "abc.update({'Raju':6})\n",
    "abc"
   ]
  },
  {
   "cell_type": "code",
   "execution_count": 51,
   "id": "a426ad5b-c3bb-4967-81d7-e5f1ab91e1e2",
   "metadata": {},
   "outputs": [
    {
     "data": {
      "text/plain": [
       "{'Ramina': 9, 'Pujan': 78, 'Raju': 6, 'Sajan': True}"
      ]
     },
     "execution_count": 51,
     "metadata": {},
     "output_type": "execute_result"
    }
   ],
   "source": [
    "#Another way to add value\n",
    "abc['Sajan']=True\n",
    "abc"
   ]
  },
  {
   "cell_type": "code",
   "execution_count": 53,
   "id": "0cd9818f-86eb-44e2-9936-38a631225a8d",
   "metadata": {},
   "outputs": [
    {
     "data": {
      "text/plain": [
       "{'Ramina': 9, 'Pujan': 78, 'Raju': 6, 'Sajan': True}"
      ]
     },
     "execution_count": 53,
     "metadata": {},
     "output_type": "execute_result"
    }
   ],
   "source": [
    "abc"
   ]
  },
  {
   "cell_type": "code",
   "execution_count": 55,
   "id": "d95525f6-776b-48dd-9fc0-5fbe803a3937",
   "metadata": {},
   "outputs": [
    {
     "data": {
      "text/plain": [
       "6"
      ]
     },
     "execution_count": 55,
     "metadata": {},
     "output_type": "execute_result"
    }
   ],
   "source": [
    "abc.pop('Raju')"
   ]
  },
  {
   "cell_type": "code",
   "execution_count": 57,
   "id": "09c2b404-d25f-4040-89b2-0c34b51b5e87",
   "metadata": {},
   "outputs": [
    {
     "data": {
      "text/plain": [
       "{'Ramina': 9, 'Pujan': 78, 'Sajan': True}"
      ]
     },
     "execution_count": 57,
     "metadata": {},
     "output_type": "execute_result"
    }
   ],
   "source": [
    "abc"
   ]
  },
  {
   "cell_type": "code",
   "execution_count": 59,
   "id": "a13275cc-a118-462c-b181-d38843d991e5",
   "metadata": {},
   "outputs": [
    {
     "data": {
      "text/plain": [
       "('Sajan', True)"
      ]
     },
     "execution_count": 59,
     "metadata": {},
     "output_type": "execute_result"
    }
   ],
   "source": [
    "abc.popitem()"
   ]
  },
  {
   "cell_type": "code",
   "execution_count": 61,
   "id": "53c01b56-e921-4f46-b69a-e1f7a303bef1",
   "metadata": {},
   "outputs": [
    {
     "data": {
      "text/plain": [
       "{'Ramina': 9, 'Pujan': 78}"
      ]
     },
     "execution_count": 61,
     "metadata": {},
     "output_type": "execute_result"
    }
   ],
   "source": [
    "abc"
   ]
  },
  {
   "cell_type": "markdown",
   "id": "4c9114aa-488d-449d-804a-741beaabd71c",
   "metadata": {},
   "source": [
    "# LOOPING IN DICTIONARY"
   ]
  },
  {
   "cell_type": "code",
   "execution_count": 64,
   "id": "42288c1a-8e72-4575-b37c-868f7c406438",
   "metadata": {},
   "outputs": [
    {
     "name": "stdout",
     "output_type": "stream",
     "text": [
      "Ramina\n",
      "Pujan\n"
     ]
    }
   ],
   "source": [
    "#Only display keys\n",
    "for i in abc :\n",
    "    print(i)"
   ]
  },
  {
   "cell_type": "code",
   "execution_count": 66,
   "id": "2168fd8c-f00c-4c34-a3c3-a87c2de06342",
   "metadata": {},
   "outputs": [
    {
     "name": "stdout",
     "output_type": "stream",
     "text": [
      "Ramina\n",
      "Pujan\n"
     ]
    }
   ],
   "source": [
    "#Another way\n",
    "for i in abc.keys():\n",
    "    print(i)"
   ]
  },
  {
   "cell_type": "code",
   "execution_count": 68,
   "id": "419a7d83-1f22-420f-99f6-111ad4ac4b24",
   "metadata": {},
   "outputs": [
    {
     "name": "stdout",
     "output_type": "stream",
     "text": [
      "9\n",
      "78\n"
     ]
    }
   ],
   "source": [
    "#display values only\n",
    "for i in abc.values():\n",
    "    print(i)"
   ]
  },
  {
   "cell_type": "code",
   "execution_count": 72,
   "id": "d3d9fb53-47ff-40bc-ac08-1f677d8496b4",
   "metadata": {},
   "outputs": [
    {
     "name": "stdout",
     "output_type": "stream",
     "text": [
      "The lucky number of string of Ramina is 9\n",
      "The lucky number of string of Pujan is 78\n"
     ]
    }
   ],
   "source": [
    "#when we need to display both keys and values\n",
    "for x,y in abc.items():\n",
    "    print(f'The lucky number of string of {x} is {y}')"
   ]
  },
  {
   "cell_type": "markdown",
   "id": "94b5d10b-033c-43a4-ab59-9726c4ae03d1",
   "metadata": {},
   "source": [
    "### COPYING"
   ]
  },
  {
   "cell_type": "code",
   "execution_count": 75,
   "id": "e8a93699-723c-457a-a40d-10ea335b2305",
   "metadata": {},
   "outputs": [],
   "source": [
    "#1st way of copying the dictionary\n",
    "bbc=abc"
   ]
  },
  {
   "cell_type": "code",
   "execution_count": 77,
   "id": "4ef4b869-7395-403d-9202-63ba42b2fee5",
   "metadata": {},
   "outputs": [
    {
     "data": {
      "text/plain": [
       "{'Ramina': 9, 'Pujan': 78}"
      ]
     },
     "execution_count": 77,
     "metadata": {},
     "output_type": "execute_result"
    }
   ],
   "source": [
    "bbc"
   ]
  },
  {
   "cell_type": "code",
   "execution_count": 79,
   "id": "bb7a7618-2e01-4121-9fbd-35064dd21407",
   "metadata": {},
   "outputs": [
    {
     "data": {
      "text/plain": [
       "{'Ramina': 9, 'Pujan': 78}"
      ]
     },
     "execution_count": 79,
     "metadata": {},
     "output_type": "execute_result"
    }
   ],
   "source": [
    "bbc"
   ]
  },
  {
   "cell_type": "code",
   "execution_count": 81,
   "id": "1649929d-bcaf-488d-b3d9-c471be1d11db",
   "metadata": {},
   "outputs": [
    {
     "data": {
      "text/plain": [
       "('Pujan', 78)"
      ]
     },
     "execution_count": 81,
     "metadata": {},
     "output_type": "execute_result"
    }
   ],
   "source": [
    "abc.popitem()"
   ]
  },
  {
   "cell_type": "code",
   "execution_count": 83,
   "id": "3e4f0f37-024f-480d-b8f6-65521abf7059",
   "metadata": {},
   "outputs": [
    {
     "data": {
      "text/plain": [
       "{'Ramina': 9}"
      ]
     },
     "execution_count": 83,
     "metadata": {},
     "output_type": "execute_result"
    }
   ],
   "source": [
    "abc"
   ]
  },
  {
   "cell_type": "code",
   "execution_count": 85,
   "id": "f4abe2ed-c10b-4fa0-adde-404e59d96daa",
   "metadata": {},
   "outputs": [
    {
     "data": {
      "text/plain": [
       "{'Ramina': 9}"
      ]
     },
     "execution_count": 85,
     "metadata": {},
     "output_type": "execute_result"
    }
   ],
   "source": [
    "bbc"
   ]
  },
  {
   "cell_type": "code",
   "execution_count": 87,
   "id": "87f68a8b-6fd2-46f1-8169-eff4ce8a308a",
   "metadata": {},
   "outputs": [],
   "source": [
    "#if you realize in above, when removing/pop from variable abc, it removed/popped from variable bbc as well\n",
    "\n",
    "#So now solution is below"
   ]
  },
  {
   "cell_type": "code",
   "execution_count": 91,
   "id": "896975a2-1fd5-4742-bddc-01febba72cf1",
   "metadata": {},
   "outputs": [
    {
     "data": {
      "text/plain": [
       "{'Ramina': 9}"
      ]
     },
     "execution_count": 91,
     "metadata": {},
     "output_type": "execute_result"
    }
   ],
   "source": [
    "## copy\n",
    "ccc=abc.copy()\n",
    "ccc"
   ]
  },
  {
   "cell_type": "code",
   "execution_count": 93,
   "id": "c0a2d2cb-44e2-4c6d-af5f-2fbedb722910",
   "metadata": {},
   "outputs": [
    {
     "data": {
      "text/plain": [
       "{'Ramina': 9}"
      ]
     },
     "execution_count": 93,
     "metadata": {},
     "output_type": "execute_result"
    }
   ],
   "source": [
    "abc"
   ]
  },
  {
   "cell_type": "code",
   "execution_count": 95,
   "id": "dfcec652-8ed8-45ee-b2ab-d1fff761e438",
   "metadata": {},
   "outputs": [
    {
     "data": {
      "text/plain": [
       "('Ramina', 9)"
      ]
     },
     "execution_count": 95,
     "metadata": {},
     "output_type": "execute_result"
    }
   ],
   "source": [
    "abc.popitem()"
   ]
  },
  {
   "cell_type": "code",
   "execution_count": 97,
   "id": "9432420f-b292-4f86-932b-c1d2ef6ee38e",
   "metadata": {},
   "outputs": [
    {
     "data": {
      "text/plain": [
       "{}"
      ]
     },
     "execution_count": 97,
     "metadata": {},
     "output_type": "execute_result"
    }
   ],
   "source": [
    "abc"
   ]
  },
  {
   "cell_type": "code",
   "execution_count": 101,
   "id": "513c443f-bfa6-4585-8889-8fb7e4b3ea89",
   "metadata": {},
   "outputs": [
    {
     "data": {
      "text/plain": [
       "{'Ramina': 9}"
      ]
     },
     "execution_count": 101,
     "metadata": {},
     "output_type": "execute_result"
    }
   ],
   "source": [
    "ccc"
   ]
  },
  {
   "cell_type": "code",
   "execution_count": 103,
   "id": "5a0c6689-9742-414d-b069-abd9deb8733f",
   "metadata": {},
   "outputs": [
    {
     "data": {
      "text/plain": [
       "{}"
      ]
     },
     "execution_count": 103,
     "metadata": {},
     "output_type": "execute_result"
    }
   ],
   "source": [
    "#clear\n",
    "ccc.clear()\n",
    "ccc"
   ]
  },
  {
   "cell_type": "code",
   "execution_count": 116,
   "id": "de198b2d-55e3-4523-a75e-ab6fbcfc8d0d",
   "metadata": {},
   "outputs": [
    {
     "data": {
      "text/plain": [
       "{}"
      ]
     },
     "execution_count": 116,
     "metadata": {},
     "output_type": "execute_result"
    }
   ],
   "source": [
    "ddd = ccc.copy()\n",
    "ddd"
   ]
  },
  {
   "cell_type": "code",
   "execution_count": 118,
   "id": "6479fd04-0a06-4dab-8bc4-e4f7aeca565f",
   "metadata": {},
   "outputs": [],
   "source": [
    "#This wil delete variable ddd\n",
    "del ddd"
   ]
  },
  {
   "cell_type": "markdown",
   "id": "eb130ef5-1dd5-4678-8d59-6b514f377a45",
   "metadata": {},
   "source": [
    "# Nested List/Dict"
   ]
  },
  {
   "cell_type": "code",
   "execution_count": 122,
   "id": "6a999dd3-121a-4905-bff1-a70eec07d7d5",
   "metadata": {},
   "outputs": [
    {
     "data": {
      "text/plain": [
       "list"
      ]
     },
     "execution_count": 122,
     "metadata": {},
     "output_type": "execute_result"
    }
   ],
   "source": [
    "a=[45,'rrrr',False,'Tree',7000]\n",
    "type(a)"
   ]
  },
  {
   "cell_type": "code",
   "execution_count": 124,
   "id": "487a6c8e-30ef-420b-acb9-77f4eb83480c",
   "metadata": {},
   "outputs": [
    {
     "data": {
      "text/plain": [
       "5"
      ]
     },
     "execution_count": 124,
     "metadata": {},
     "output_type": "execute_result"
    }
   ],
   "source": [
    "len(a)"
   ]
  },
  {
   "cell_type": "code",
   "execution_count": 126,
   "id": "e592bad5-71b7-47cd-bf6d-ab687ecaecff",
   "metadata": {},
   "outputs": [
    {
     "data": {
      "text/plain": [
       "list"
      ]
     },
     "execution_count": 126,
     "metadata": {},
     "output_type": "execute_result"
    }
   ],
   "source": [
    "b=[45,['rrrr',False],['Tree',7000]]\n",
    "type(b)"
   ]
  },
  {
   "cell_type": "code",
   "execution_count": 128,
   "id": "456c0292-f45b-452e-8bc2-cc7cf0015be6",
   "metadata": {},
   "outputs": [
    {
     "data": {
      "text/plain": [
       "3"
      ]
     },
     "execution_count": 128,
     "metadata": {},
     "output_type": "execute_result"
    }
   ],
   "source": [
    "len(b)"
   ]
  },
  {
   "cell_type": "code",
   "execution_count": 130,
   "id": "b12048de-5828-4eef-9381-32674c47d527",
   "metadata": {},
   "outputs": [
    {
     "data": {
      "text/plain": [
       "['rrrr', False]"
      ]
     },
     "execution_count": 130,
     "metadata": {},
     "output_type": "execute_result"
    }
   ],
   "source": [
    "#Access nested list\n",
    "b[1]"
   ]
  },
  {
   "cell_type": "code",
   "execution_count": 132,
   "id": "96e6da1b-3d4c-4262-832f-7bd24c6edfcd",
   "metadata": {},
   "outputs": [
    {
     "data": {
      "text/plain": [
       "False"
      ]
     },
     "execution_count": 132,
     "metadata": {},
     "output_type": "execute_result"
    }
   ],
   "source": [
    "#Access nested list\n",
    "b[1][1]"
   ]
  },
  {
   "cell_type": "code",
   "execution_count": 134,
   "id": "c8f6b615-ca02-4fd0-8bb2-ae91bd1e5e99",
   "metadata": {},
   "outputs": [
    {
     "data": {
      "text/plain": [
       "'rrrr'"
      ]
     },
     "execution_count": 134,
     "metadata": {},
     "output_type": "execute_result"
    }
   ],
   "source": [
    "#Access nested list\n",
    "b[1][0]"
   ]
  },
  {
   "cell_type": "code",
   "execution_count": 136,
   "id": "3f57e132-e3a5-4205-9aaa-965b73b6956d",
   "metadata": {},
   "outputs": [
    {
     "data": {
      "text/plain": [
       "(45, 'rrrr', False, 'Tree', 7000)"
      ]
     },
     "execution_count": 136,
     "metadata": {},
     "output_type": "execute_result"
    }
   ],
   "source": [
    "d=tuple(a)\n",
    "d"
   ]
  },
  {
   "cell_type": "code",
   "execution_count": 138,
   "id": "cb0cd2b0-c1da-4f08-b5d6-32c333739701",
   "metadata": {},
   "outputs": [
    {
     "data": {
      "text/plain": [
       "tuple"
      ]
     },
     "execution_count": 138,
     "metadata": {},
     "output_type": "execute_result"
    }
   ],
   "source": [
    "type(d)"
   ]
  },
  {
   "cell_type": "code",
   "execution_count": 140,
   "id": "f266905a-2ea9-4758-b96d-42e5d4551ac3",
   "metadata": {},
   "outputs": [
    {
     "data": {
      "text/plain": [
       "(45, ('rrrr', False), ('Tree', 7000))"
      ]
     },
     "execution_count": 140,
     "metadata": {},
     "output_type": "execute_result"
    }
   ],
   "source": [
    "c=(45, ('rrrr', False), ('Tree', 7000))\n",
    "c"
   ]
  },
  {
   "cell_type": "code",
   "execution_count": 142,
   "id": "7005e6c0-7250-4e1e-aade-222946aeb196",
   "metadata": {},
   "outputs": [
    {
     "data": {
      "text/plain": [
       "tuple"
      ]
     },
     "execution_count": 142,
     "metadata": {},
     "output_type": "execute_result"
    }
   ],
   "source": [
    "type(c)"
   ]
  },
  {
   "cell_type": "code",
   "execution_count": 144,
   "id": "22f1d04f-0818-4005-a921-662852e5c21c",
   "metadata": {},
   "outputs": [
    {
     "data": {
      "text/plain": [
       "'rrrr'"
      ]
     },
     "execution_count": 144,
     "metadata": {},
     "output_type": "execute_result"
    }
   ],
   "source": [
    "c[1][0]"
   ]
  },
  {
   "cell_type": "code",
   "execution_count": 148,
   "id": "01046b62-acb8-49d7-a1db-2790a387ef8a",
   "metadata": {},
   "outputs": [],
   "source": [
    "#In Set you cannot create nested\n",
    "f=(56,{66,76}.(110.120}}"
   ]
  },
  {
   "cell_type": "code",
   "execution_count": 152,
   "id": "2751fe5b-ed58-4a4d-bc0a-e4fbd8f4e593",
   "metadata": {},
   "outputs": [
    {
     "data": {
      "text/plain": [
       "{'Udit': {'AI': 50, 'Calculus': 89}, 'Hari': 90}"
      ]
     },
     "execution_count": 152,
     "metadata": {},
     "output_type": "execute_result"
    }
   ],
   "source": [
    "#In Dictionary, you can create nested\n",
    "\n",
    "stu={'Udit':{'AI':50,'Calculus':89},'Hari':90}\n",
    "stu"
   ]
  },
  {
   "cell_type": "code",
   "execution_count": 156,
   "id": "1e0c94b4-3787-4baa-abae-e7ed4a74fd7e",
   "metadata": {},
   "outputs": [
    {
     "data": {
      "text/plain": [
       "50"
      ]
     },
     "execution_count": 156,
     "metadata": {},
     "output_type": "execute_result"
    }
   ],
   "source": [
    "stu['Udit']['AI']"
   ]
  },
  {
   "cell_type": "code",
   "execution_count": null,
   "id": "9d741cca-c1d1-47d5-84c8-dfecbf35b260",
   "metadata": {},
   "outputs": [],
   "source": []
  }
 ],
 "metadata": {
  "kernelspec": {
   "display_name": "Python 3 (ipykernel)",
   "language": "python",
   "name": "python3"
  },
  "language_info": {
   "codemirror_mode": {
    "name": "ipython",
    "version": 3
   },
   "file_extension": ".py",
   "mimetype": "text/x-python",
   "name": "python",
   "nbconvert_exporter": "python",
   "pygments_lexer": "ipython3",
   "version": "3.12.4"
  }
 },
 "nbformat": 4,
 "nbformat_minor": 5
}
